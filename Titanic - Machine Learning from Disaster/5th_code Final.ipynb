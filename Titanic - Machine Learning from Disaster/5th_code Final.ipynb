{
 "cells": [
  {
   "cell_type": "code",
   "execution_count": 34,
   "id": "5b928376",
   "metadata": {},
   "outputs": [],
   "source": [
    "import pandas as pd\n",
    "import matplotlib.pyplot as plt\n",
    "import seaborn as sb"
   ]
  },
  {
   "cell_type": "code",
   "execution_count": 122,
   "id": "5176d421",
   "metadata": {},
   "outputs": [],
   "source": [
    "df_train=pd.read_csv('train.csv')\n",
    "df_test=pd.read_csv('test.csv')"
   ]
  },
  {
   "cell_type": "code",
   "execution_count": 123,
   "id": "e30b6537",
   "metadata": {},
   "outputs": [
    {
     "data": {
      "text/html": [
       "<div>\n",
       "<style scoped>\n",
       "    .dataframe tbody tr th:only-of-type {\n",
       "        vertical-align: middle;\n",
       "    }\n",
       "\n",
       "    .dataframe tbody tr th {\n",
       "        vertical-align: top;\n",
       "    }\n",
       "\n",
       "    .dataframe thead th {\n",
       "        text-align: right;\n",
       "    }\n",
       "</style>\n",
       "<table border=\"1\" class=\"dataframe\">\n",
       "  <thead>\n",
       "    <tr style=\"text-align: right;\">\n",
       "      <th></th>\n",
       "      <th>PassengerId</th>\n",
       "      <th>Survived</th>\n",
       "      <th>Pclass</th>\n",
       "      <th>Name</th>\n",
       "      <th>Sex</th>\n",
       "      <th>Age</th>\n",
       "      <th>SibSp</th>\n",
       "      <th>Parch</th>\n",
       "      <th>Ticket</th>\n",
       "      <th>Fare</th>\n",
       "      <th>Cabin</th>\n",
       "      <th>Embarked</th>\n",
       "    </tr>\n",
       "  </thead>\n",
       "  <tbody>\n",
       "    <tr>\n",
       "      <th>0</th>\n",
       "      <td>1</td>\n",
       "      <td>0</td>\n",
       "      <td>3</td>\n",
       "      <td>Braund, Mr. Owen Harris</td>\n",
       "      <td>male</td>\n",
       "      <td>22.0</td>\n",
       "      <td>1</td>\n",
       "      <td>0</td>\n",
       "      <td>A/5 21171</td>\n",
       "      <td>7.2500</td>\n",
       "      <td>NaN</td>\n",
       "      <td>S</td>\n",
       "    </tr>\n",
       "    <tr>\n",
       "      <th>1</th>\n",
       "      <td>2</td>\n",
       "      <td>1</td>\n",
       "      <td>1</td>\n",
       "      <td>Cumings, Mrs. John Bradley (Florence Briggs Th...</td>\n",
       "      <td>female</td>\n",
       "      <td>38.0</td>\n",
       "      <td>1</td>\n",
       "      <td>0</td>\n",
       "      <td>PC 17599</td>\n",
       "      <td>71.2833</td>\n",
       "      <td>C85</td>\n",
       "      <td>C</td>\n",
       "    </tr>\n",
       "    <tr>\n",
       "      <th>2</th>\n",
       "      <td>3</td>\n",
       "      <td>1</td>\n",
       "      <td>3</td>\n",
       "      <td>Heikkinen, Miss. Laina</td>\n",
       "      <td>female</td>\n",
       "      <td>26.0</td>\n",
       "      <td>0</td>\n",
       "      <td>0</td>\n",
       "      <td>STON/O2. 3101282</td>\n",
       "      <td>7.9250</td>\n",
       "      <td>NaN</td>\n",
       "      <td>S</td>\n",
       "    </tr>\n",
       "    <tr>\n",
       "      <th>3</th>\n",
       "      <td>4</td>\n",
       "      <td>1</td>\n",
       "      <td>1</td>\n",
       "      <td>Futrelle, Mrs. Jacques Heath (Lily May Peel)</td>\n",
       "      <td>female</td>\n",
       "      <td>35.0</td>\n",
       "      <td>1</td>\n",
       "      <td>0</td>\n",
       "      <td>113803</td>\n",
       "      <td>53.1000</td>\n",
       "      <td>C123</td>\n",
       "      <td>S</td>\n",
       "    </tr>\n",
       "    <tr>\n",
       "      <th>4</th>\n",
       "      <td>5</td>\n",
       "      <td>0</td>\n",
       "      <td>3</td>\n",
       "      <td>Allen, Mr. William Henry</td>\n",
       "      <td>male</td>\n",
       "      <td>35.0</td>\n",
       "      <td>0</td>\n",
       "      <td>0</td>\n",
       "      <td>373450</td>\n",
       "      <td>8.0500</td>\n",
       "      <td>NaN</td>\n",
       "      <td>S</td>\n",
       "    </tr>\n",
       "  </tbody>\n",
       "</table>\n",
       "</div>"
      ],
      "text/plain": [
       "   PassengerId  Survived  Pclass  \\\n",
       "0            1         0       3   \n",
       "1            2         1       1   \n",
       "2            3         1       3   \n",
       "3            4         1       1   \n",
       "4            5         0       3   \n",
       "\n",
       "                                                Name     Sex   Age  SibSp  \\\n",
       "0                            Braund, Mr. Owen Harris    male  22.0      1   \n",
       "1  Cumings, Mrs. John Bradley (Florence Briggs Th...  female  38.0      1   \n",
       "2                             Heikkinen, Miss. Laina  female  26.0      0   \n",
       "3       Futrelle, Mrs. Jacques Heath (Lily May Peel)  female  35.0      1   \n",
       "4                           Allen, Mr. William Henry    male  35.0      0   \n",
       "\n",
       "   Parch            Ticket     Fare Cabin Embarked  \n",
       "0      0         A/5 21171   7.2500   NaN        S  \n",
       "1      0          PC 17599  71.2833   C85        C  \n",
       "2      0  STON/O2. 3101282   7.9250   NaN        S  \n",
       "3      0            113803  53.1000  C123        S  \n",
       "4      0            373450   8.0500   NaN        S  "
      ]
     },
     "execution_count": 123,
     "metadata": {},
     "output_type": "execute_result"
    }
   ],
   "source": [
    "df_train.head()"
   ]
  },
  {
   "cell_type": "code",
   "execution_count": null,
   "id": "c6168163",
   "metadata": {},
   "outputs": [],
   "source": []
  },
  {
   "cell_type": "code",
   "execution_count": 124,
   "id": "cf5f0226",
   "metadata": {},
   "outputs": [
    {
     "data": {
      "text/plain": [
       "Pclass\n",
       "1    0.629630\n",
       "2    0.472826\n",
       "3    0.242363\n",
       "Name: Survived, dtype: float64"
      ]
     },
     "execution_count": 124,
     "metadata": {},
     "output_type": "execute_result"
    }
   ],
   "source": [
    "#Pclass ==> Survival\n",
    "df_train.groupby('Pclass').mean()['Survived']"
   ]
  },
  {
   "cell_type": "code",
   "execution_count": 125,
   "id": "f00bfc47",
   "metadata": {},
   "outputs": [
    {
     "data": {
      "text/plain": [
       "<AxesSubplot:xlabel='Pclass', ylabel='count'>"
      ]
     },
     "execution_count": 125,
     "metadata": {},
     "output_type": "execute_result"
    },
    {
     "data": {
      "image/png": "[encoded data removed]",
      "text/plain": [
       "<Figure size 432x288 with 1 Axes>"
      ]
     },
     "metadata": {
      "needs_background": "light"
     },
     "output_type": "display_data"
    }
   ],
   "source": [
    "sb.countplot(data=df_train,x='Pclass',hue='Survived')"
   ]
  },
  {
   "cell_type": "code",
   "execution_count": 126,
   "id": "693dc674",
   "metadata": {},
   "outputs": [
    {
     "data": {
      "text/plain": [
       "Sex\n",
       "female    0.742038\n",
       "male      0.188908\n",
       "Name: Survived, dtype: float64"
      ]
     },
     "execution_count": 126,
     "metadata": {},
     "output_type": "execute_result"
    }
   ],
   "source": [
    "df_train.groupby('Sex').mean()['Survived']"
   ]
  },
  {
   "cell_type": "code",
   "execution_count": 127,
   "id": "5996c8d1",
   "metadata": {},
   "outputs": [
    {
     "data": {
      "text/plain": [
       "<AxesSubplot:xlabel='Sex', ylabel='count'>"
      ]
     },
     "execution_count": 127,
     "metadata": {},
     "output_type": "execute_result"
    },
    {
     "data": {
      "image/png": "[encoded data removed]",
      "text/plain": [
       "<Figure size 432x288 with 1 Axes>"
      ]
     },
     "metadata": {
      "needs_background": "light"
     },
     "output_type": "display_data"
    }
   ],
   "source": [
    "sb.countplot(data=df_train,x='Sex',hue='Survived')"
   ]
  },
  {
   "cell_type": "code",
   "execution_count": 128,
   "id": "2dc5a6b1",
   "metadata": {},
   "outputs": [
    {
     "data": {
      "text/plain": [
       "Embarked\n",
       "C    0.553571\n",
       "Q    0.389610\n",
       "S    0.336957\n",
       "Name: Survived, dtype: float64"
      ]
     },
     "execution_count": 128,
     "metadata": {},
     "output_type": "execute_result"
    }
   ],
   "source": [
    "df_train.groupby('Embarked').mean()['Survived']"
   ]
  },
  {
   "cell_type": "code",
   "execution_count": 129,
   "id": "2c865a45",
   "metadata": {},
   "outputs": [
    {
     "data": {
      "text/plain": [
       "<AxesSubplot:xlabel='Embarked', ylabel='count'>"
      ]
     },
     "execution_count": 129,
     "metadata": {},
     "output_type": "execute_result"
    },
    {
     "data": {
      "image/png": "[encoded data removed]",
      "text/plain": [
       "<Figure size 432x288 with 1 Axes>"
      ]
     },
     "metadata": {
      "needs_background": "light"
     },
     "output_type": "display_data"
    }
   ],
   "source": [
    "sb.countplot(data=df_train,x='Embarked',hue='Survived')"
   ]
  },
  {
   "cell_type": "code",
   "execution_count": 130,
   "id": "490243e1",
   "metadata": {},
   "outputs": [
    {
     "data": {
      "text/plain": [
       "<AxesSubplot:xlabel='Fare', ylabel='Count'>"
      ]
     },
     "execution_count": 130,
     "metadata": {},
     "output_type": "execute_result"
    },
    {
     "data": {
      "image/png": "[encoded data removed]",
      "text/plain": [
       "<Figure size 432x288 with 1 Axes>"
      ]
     },
     "metadata": {
      "needs_background": "light"
     },
     "output_type": "display_data"
    }
   ],
   "source": [
    "sb.histplot(data=df_train,x='Fare',bins=10,kde=True,hue='Survived')"
   ]
  },
  {
   "cell_type": "code",
   "execution_count": 131,
   "id": "99ecf136",
   "metadata": {},
   "outputs": [
    {
     "data": {
      "text/plain": [
       "(array([732., 106.,  31.,   2.,  11.,   6.,   0.,   0.,   0.,   3.]),\n",
       " array([  0.     ,  51.23292, 102.46584, 153.69876, 204.93168, 256.1646 ,\n",
       "        307.39752, 358.63044, 409.86336, 461.09628, 512.3292 ]),\n",
       " <BarContainer object of 10 artists>)"
      ]
     },
     "execution_count": 131,
     "metadata": {},
     "output_type": "execute_result"
    },
    {
     "data": {
      "image/png": "[encoded data removed]",
      "text/plain": [
       "<Figure size 432x288 with 1 Axes>"
      ]
     },
     "metadata": {
      "needs_background": "light"
     },
     "output_type": "display_data"
    }
   ],
   "source": [
    "plt.hist(df_train['Fare'],bins=10)"
   ]
  },
  {
   "cell_type": "code",
   "execution_count": 195,
   "id": "8792dbe3",
   "metadata": {},
   "outputs": [
    {
     "data": {
      "text/plain": [
       "count    891.000000\n",
       "mean      32.204208\n",
       "std       49.693429\n",
       "min        0.000000\n",
       "25%        7.910400\n",
       "50%       14.454200\n",
       "75%       31.000000\n",
       "max      512.329200\n",
       "Name: Fare, dtype: float64"
      ]
     },
     "execution_count": 195,
     "metadata": {},
     "output_type": "execute_result"
    }
   ],
   "source": [
    "df_train.describe()['Fare']"
   ]
  },
  {
   "cell_type": "code",
   "execution_count": null,
   "id": "5d87c271",
   "metadata": {},
   "outputs": [],
   "source": []
  },
  {
   "cell_type": "code",
   "execution_count": null,
   "id": "dd10b430",
   "metadata": {},
   "outputs": [],
   "source": []
  },
  {
   "cell_type": "code",
   "execution_count": 132,
   "id": "8a15e844",
   "metadata": {},
   "outputs": [
    {
     "data": {
      "text/plain": [
       "<AxesSubplot:xlabel='Age', ylabel='Count'>"
      ]
     },
     "execution_count": 132,
     "metadata": {},
     "output_type": "execute_result"
    },
    {
     "data": {
      "image/png": "[encoded data removed]",
      "text/plain": [
       "<Figure size 432x288 with 1 Axes>"
      ]
     },
     "metadata": {
      "needs_background": "light"
     },
     "output_type": "display_data"
    }
   ],
   "source": [
    "sb.histplot(data=df_train,x='Age',bins=5,kde=True,hue='Survived')"
   ]
  },
  {
   "cell_type": "code",
   "execution_count": 133,
   "id": "1292653c",
   "metadata": {},
   "outputs": [
    {
     "data": {
      "text/plain": [
       "(array([ 54.,  46., 177., 169., 118.,  70.,  45.,  24.,   9.,   2.]),\n",
       " array([ 0.42 ,  8.378, 16.336, 24.294, 32.252, 40.21 , 48.168, 56.126,\n",
       "        64.084, 72.042, 80.   ]),\n",
       " <BarContainer object of 10 artists>)"
      ]
     },
     "execution_count": 133,
     "metadata": {},
     "output_type": "execute_result"
    },
    {
     "data": {
      "image/png": "[encoded data removed]",
      "text/plain": [
       "<Figure size 432x288 with 1 Axes>"
      ]
     },
     "metadata": {
      "needs_background": "light"
     },
     "output_type": "display_data"
    }
   ],
   "source": [
    "plt.hist(df_train['Age'],bins=10)"
   ]
  },
  {
   "cell_type": "code",
   "execution_count": 134,
   "id": "01777d5d",
   "metadata": {},
   "outputs": [
    {
     "data": {
      "text/plain": [
       "PassengerId      0\n",
       "Survived         0\n",
       "Pclass           0\n",
       "Name             0\n",
       "Sex              0\n",
       "Age            177\n",
       "SibSp            0\n",
       "Parch            0\n",
       "Ticket           0\n",
       "Fare             0\n",
       "Cabin          687\n",
       "Embarked         2\n",
       "dtype: int64"
      ]
     },
     "execution_count": 134,
     "metadata": {},
     "output_type": "execute_result"
    }
   ],
   "source": [
    "df_train.isna().sum()"
   ]
  },
  {
   "cell_type": "code",
   "execution_count": 135,
   "id": "55e86ace",
   "metadata": {},
   "outputs": [
    {
     "data": {
      "text/plain": [
       "PassengerId      0\n",
       "Pclass           0\n",
       "Name             0\n",
       "Sex              0\n",
       "Age             86\n",
       "SibSp            0\n",
       "Parch            0\n",
       "Ticket           0\n",
       "Fare             1\n",
       "Cabin          327\n",
       "Embarked         0\n",
       "dtype: int64"
      ]
     },
     "execution_count": 135,
     "metadata": {},
     "output_type": "execute_result"
    }
   ],
   "source": [
    "df_test.isna().sum()"
   ]
  },
  {
   "cell_type": "code",
   "execution_count": null,
   "id": "d4259413",
   "metadata": {},
   "outputs": [],
   "source": []
  },
  {
   "cell_type": "code",
   "execution_count": 136,
   "id": "346107c2",
   "metadata": {},
   "outputs": [
    {
     "data": {
      "text/plain": [
       "['Age', 'Fare']"
      ]
     },
     "execution_count": 136,
     "metadata": {},
     "output_type": "execute_result"
    }
   ],
   "source": [
    "num_cols = list(df_train.select_dtypes(exclude='object').columns)\n",
    "num_cols.remove('PassengerId')\n",
    "num_cols.remove('Survived')\n",
    "num_cols.remove('Pclass')\n",
    "num_cols.remove('SibSp')\n",
    "num_cols.remove('Parch')\n",
    "num_cols"
   ]
  },
  {
   "cell_type": "code",
   "execution_count": 137,
   "id": "f49ddc5b",
   "metadata": {},
   "outputs": [
    {
     "data": {
      "text/plain": [
       "['Sex', 'Embarked']"
      ]
     },
     "execution_count": 137,
     "metadata": {},
     "output_type": "execute_result"
    }
   ],
   "source": [
    "cat_cols = list(df_train.select_dtypes(include='object').columns)\n",
    "cat_cols.remove('Name')\n",
    "cat_cols.remove('Ticket')\n",
    "cat_cols.remove('Cabin')\n",
    "cat_cols\n"
   ]
  },
  {
   "cell_type": "code",
   "execution_count": 138,
   "id": "16d123dc",
   "metadata": {},
   "outputs": [],
   "source": [
    "num_cat_col = ['Pclass','SibSp','Parch']"
   ]
  },
  {
   "cell_type": "code",
   "execution_count": null,
   "id": "e0041eb2",
   "metadata": {},
   "outputs": [],
   "source": []
  },
  {
   "cell_type": "code",
   "execution_count": 139,
   "id": "574c8b34",
   "metadata": {},
   "outputs": [],
   "source": [
    "# simple imputer"
   ]
  },
  {
   "cell_type": "code",
   "execution_count": 140,
   "id": "104d3a6e",
   "metadata": {},
   "outputs": [],
   "source": [
    "from sklearn.impute import SimpleImputer\n",
    "imputer_num = SimpleImputer(strategy='median')\n",
    "imputer_cat = SimpleImputer(strategy='most_frequent')"
   ]
  },
  {
   "cell_type": "code",
   "execution_count": 141,
   "id": "d8e26992",
   "metadata": {},
   "outputs": [
    {
     "data": {
      "text/plain": [
       "SimpleImputer(strategy='median')"
      ]
     },
     "execution_count": 141,
     "metadata": {},
     "output_type": "execute_result"
    }
   ],
   "source": [
    "imputer_num.fit(df_train[num_cols])"
   ]
  },
  {
   "cell_type": "code",
   "execution_count": 142,
   "id": "0a6bc3a0",
   "metadata": {},
   "outputs": [],
   "source": [
    "df_train[num_cols] = imputer_num.transform(df_train[num_cols])\n",
    "df_test[num_cols] = imputer_num.transform(df_test[num_cols])"
   ]
  },
  {
   "cell_type": "code",
   "execution_count": 143,
   "id": "e2258010",
   "metadata": {},
   "outputs": [
    {
     "data": {
      "text/plain": [
       "SimpleImputer(strategy='most_frequent')"
      ]
     },
     "execution_count": 143,
     "metadata": {},
     "output_type": "execute_result"
    }
   ],
   "source": [
    "imputer_cat.fit(df_train[cat_cols])"
   ]
  },
  {
   "cell_type": "code",
   "execution_count": 144,
   "id": "573e75c6",
   "metadata": {},
   "outputs": [],
   "source": [
    "df_train[cat_cols] = imputer_cat.transform(df_train[cat_cols])\n",
    "df_test[cat_cols] = imputer_cat.transform(df_test[cat_cols])"
   ]
  },
  {
   "cell_type": "code",
   "execution_count": 145,
   "id": "d1006ac2",
   "metadata": {},
   "outputs": [
    {
     "data": {
      "text/plain": [
       "SimpleImputer(strategy='most_frequent')"
      ]
     },
     "execution_count": 145,
     "metadata": {},
     "output_type": "execute_result"
    }
   ],
   "source": [
    "imputer_cat.fit(df_train[num_cat_col])"
   ]
  },
  {
   "cell_type": "code",
   "execution_count": 146,
   "id": "1749186f",
   "metadata": {},
   "outputs": [],
   "source": [
    "df_train[num_cat_col] = imputer_cat.transform(df_train[num_cat_col])\n",
    "df_test[num_cat_col] = imputer_cat.transform(df_test[num_cat_col])"
   ]
  },
  {
   "cell_type": "code",
   "execution_count": 147,
   "id": "ed44cbb9",
   "metadata": {},
   "outputs": [],
   "source": [
    "df_train['isCabin']=(~df_train['Cabin'].isna()).astype(int)\n",
    "df_test['isCabin']=(~df_test['Cabin'].isna()).astype(int)"
   ]
  },
  {
   "cell_type": "code",
   "execution_count": null,
   "id": "ad410614",
   "metadata": {},
   "outputs": [],
   "source": []
  },
  {
   "cell_type": "code",
   "execution_count": 148,
   "id": "7845e462",
   "metadata": {},
   "outputs": [],
   "source": [
    "# Derive new col"
   ]
  },
  {
   "cell_type": "code",
   "execution_count": 149,
   "id": "86ddf4dd",
   "metadata": {},
   "outputs": [],
   "source": [
    "df_train['Title'] = df_train['Name'].apply(lambda name:name.split('.')[0].split(' ')[1])\n",
    "title = list(df_train['Title'].value_counts().iloc[:4].index)\n",
    "df_train['Title'] = df_train['Title'].apply(lambda X:X if X in title else 'other')"
   ]
  },
  {
   "cell_type": "code",
   "execution_count": 150,
   "id": "a36c9a14",
   "metadata": {},
   "outputs": [],
   "source": [
    "df_test['Title'] = df_test['Name'].apply(lambda name:name.split('.')[0].split(' ')[1])\n",
    "df_test['Title'] = df_test['Title'].apply(lambda X:X if X in title else 'other')"
   ]
  },
  {
   "cell_type": "code",
   "execution_count": null,
   "id": "64ea59a7",
   "metadata": {},
   "outputs": [],
   "source": []
  },
  {
   "cell_type": "code",
   "execution_count": 151,
   "id": "d1b09150",
   "metadata": {},
   "outputs": [],
   "source": [
    "#binning"
   ]
  },
  {
   "cell_type": "code",
   "execution_count": 152,
   "id": "66eb105a",
   "metadata": {},
   "outputs": [],
   "source": [
    "df_train['Age']=pd.cut(df_train['Age'],bins=[0,18,df_train['Age'].max()],labels=['Kids','Adult'],include_lowest=True)"
   ]
  },
  {
   "cell_type": "code",
   "execution_count": 153,
   "id": "6f9a4987",
   "metadata": {},
   "outputs": [],
   "source": [
    "df_test['Age']=pd.cut(df_test['Age'],bins=[0,18,df_test['Age'].max()],labels=['Kids','Adult'],include_lowest=True)"
   ]
  },
  {
   "cell_type": "code",
   "execution_count": 154,
   "id": "dcf82a5c",
   "metadata": {},
   "outputs": [
    {
     "data": {
      "text/plain": [
       "'Adult'"
      ]
     },
     "execution_count": 154,
     "metadata": {},
     "output_type": "execute_result"
    }
   ],
   "source": [
    "df_test['Age'].max()"
   ]
  },
  {
   "cell_type": "code",
   "execution_count": null,
   "id": "dcc83f8f",
   "metadata": {},
   "outputs": [],
   "source": []
  },
  {
   "cell_type": "code",
   "execution_count": null,
   "id": "027eb616",
   "metadata": {},
   "outputs": [],
   "source": []
  },
  {
   "cell_type": "code",
   "execution_count": 157,
   "id": "758b3090",
   "metadata": {},
   "outputs": [],
   "source": [
    "# feature encoding"
   ]
  },
  {
   "cell_type": "code",
   "execution_count": 158,
   "id": "40d9d4ad",
   "metadata": {},
   "outputs": [],
   "source": [
    "cat=['Sex','Age','Embarked','Title']"
   ]
  },
  {
   "cell_type": "code",
   "execution_count": 159,
   "id": "c4622e6d",
   "metadata": {},
   "outputs": [
    {
     "data": {
      "text/plain": [
       "OneHotEncoder(sparse=False)"
      ]
     },
     "execution_count": 159,
     "metadata": {},
     "output_type": "execute_result"
    }
   ],
   "source": [
    "from sklearn.preprocessing import OneHotEncoder\n",
    "ohe = OneHotEncoder(sparse=False)\n",
    "ohe.fit(df_train[cat])"
   ]
  },
  {
   "cell_type": "code",
   "execution_count": 160,
   "id": "379e7fe6",
   "metadata": {},
   "outputs": [
    {
     "name": "stderr",
     "output_type": "stream",
     "text": [
      "C:\\Users\\nehals4545\\anaconda3\\lib\\site-packages\\sklearn\\utils\\deprecation.py:87: FutureWarning: Function get_feature_names is deprecated; get_feature_names is deprecated in 1.0 and will be removed in 1.2. Please use get_feature_names_out instead.\n",
      "  warnings.warn(msg, category=FutureWarning)\n"
     ]
    },
    {
     "data": {
      "text/plain": [
       "['x0_female',\n",
       " 'x0_male',\n",
       " 'x1_Adult',\n",
       " 'x1_Kids',\n",
       " 'x2_C',\n",
       " 'x2_Q',\n",
       " 'x2_S',\n",
       " 'x3_Master',\n",
       " 'x3_Miss',\n",
       " 'x3_Mr',\n",
       " 'x3_Mrs',\n",
       " 'x3_other']"
      ]
     },
     "execution_count": 160,
     "metadata": {},
     "output_type": "execute_result"
    }
   ],
   "source": [
    "new_cols = list(ohe.get_feature_names())\n",
    "new_cols"
   ]
  },
  {
   "cell_type": "code",
   "execution_count": 161,
   "id": "d63455dc",
   "metadata": {},
   "outputs": [],
   "source": [
    "df_train[new_cols] = ohe.transform(df_train[cat])\n",
    "df_test[new_cols] = ohe.transform(df_test[cat])"
   ]
  },
  {
   "cell_type": "code",
   "execution_count": 162,
   "id": "fe81b813",
   "metadata": {},
   "outputs": [],
   "source": [
    "df_train['isCabin']=(~df_train['Cabin'].isna()).astype(int)\n",
    "df_test['isCabin']=(~df_test['Cabin'].isna()).astype(int)"
   ]
  },
  {
   "cell_type": "code",
   "execution_count": 163,
   "id": "c4130a1c",
   "metadata": {},
   "outputs": [
    {
     "data": {
      "text/html": [
       "<div>\n",
       "<style scoped>\n",
       "    .dataframe tbody tr th:only-of-type {\n",
       "        vertical-align: middle;\n",
       "    }\n",
       "\n",
       "    .dataframe tbody tr th {\n",
       "        vertical-align: top;\n",
       "    }\n",
       "\n",
       "    .dataframe thead th {\n",
       "        text-align: right;\n",
       "    }\n",
       "</style>\n",
       "<table border=\"1\" class=\"dataframe\">\n",
       "  <thead>\n",
       "    <tr style=\"text-align: right;\">\n",
       "      <th></th>\n",
       "      <th>PassengerId</th>\n",
       "      <th>Survived</th>\n",
       "      <th>Pclass</th>\n",
       "      <th>Name</th>\n",
       "      <th>Sex</th>\n",
       "      <th>Age</th>\n",
       "      <th>SibSp</th>\n",
       "      <th>Parch</th>\n",
       "      <th>Ticket</th>\n",
       "      <th>Fare</th>\n",
       "      <th>...</th>\n",
       "      <th>x1_Adult</th>\n",
       "      <th>x1_Kids</th>\n",
       "      <th>x2_C</th>\n",
       "      <th>x2_Q</th>\n",
       "      <th>x2_S</th>\n",
       "      <th>x3_Master</th>\n",
       "      <th>x3_Miss</th>\n",
       "      <th>x3_Mr</th>\n",
       "      <th>x3_Mrs</th>\n",
       "      <th>x3_other</th>\n",
       "    </tr>\n",
       "  </thead>\n",
       "  <tbody>\n",
       "    <tr>\n",
       "      <th>0</th>\n",
       "      <td>1</td>\n",
       "      <td>0</td>\n",
       "      <td>3</td>\n",
       "      <td>Braund, Mr. Owen Harris</td>\n",
       "      <td>male</td>\n",
       "      <td>Adult</td>\n",
       "      <td>1</td>\n",
       "      <td>0</td>\n",
       "      <td>A/5 21171</td>\n",
       "      <td>7.2500</td>\n",
       "      <td>...</td>\n",
       "      <td>1.0</td>\n",
       "      <td>0.0</td>\n",
       "      <td>0.0</td>\n",
       "      <td>0.0</td>\n",
       "      <td>1.0</td>\n",
       "      <td>0.0</td>\n",
       "      <td>0.0</td>\n",
       "      <td>1.0</td>\n",
       "      <td>0.0</td>\n",
       "      <td>0.0</td>\n",
       "    </tr>\n",
       "    <tr>\n",
       "      <th>1</th>\n",
       "      <td>2</td>\n",
       "      <td>1</td>\n",
       "      <td>1</td>\n",
       "      <td>Cumings, Mrs. John Bradley (Florence Briggs Th...</td>\n",
       "      <td>female</td>\n",
       "      <td>Adult</td>\n",
       "      <td>1</td>\n",
       "      <td>0</td>\n",
       "      <td>PC 17599</td>\n",
       "      <td>71.2833</td>\n",
       "      <td>...</td>\n",
       "      <td>1.0</td>\n",
       "      <td>0.0</td>\n",
       "      <td>1.0</td>\n",
       "      <td>0.0</td>\n",
       "      <td>0.0</td>\n",
       "      <td>0.0</td>\n",
       "      <td>0.0</td>\n",
       "      <td>0.0</td>\n",
       "      <td>1.0</td>\n",
       "      <td>0.0</td>\n",
       "    </tr>\n",
       "    <tr>\n",
       "      <th>2</th>\n",
       "      <td>3</td>\n",
       "      <td>1</td>\n",
       "      <td>3</td>\n",
       "      <td>Heikkinen, Miss. Laina</td>\n",
       "      <td>female</td>\n",
       "      <td>Adult</td>\n",
       "      <td>0</td>\n",
       "      <td>0</td>\n",
       "      <td>STON/O2. 3101282</td>\n",
       "      <td>7.9250</td>\n",
       "      <td>...</td>\n",
       "      <td>1.0</td>\n",
       "      <td>0.0</td>\n",
       "      <td>0.0</td>\n",
       "      <td>0.0</td>\n",
       "      <td>1.0</td>\n",
       "      <td>0.0</td>\n",
       "      <td>1.0</td>\n",
       "      <td>0.0</td>\n",
       "      <td>0.0</td>\n",
       "      <td>0.0</td>\n",
       "    </tr>\n",
       "    <tr>\n",
       "      <th>3</th>\n",
       "      <td>4</td>\n",
       "      <td>1</td>\n",
       "      <td>1</td>\n",
       "      <td>Futrelle, Mrs. Jacques Heath (Lily May Peel)</td>\n",
       "      <td>female</td>\n",
       "      <td>Adult</td>\n",
       "      <td>1</td>\n",
       "      <td>0</td>\n",
       "      <td>113803</td>\n",
       "      <td>53.1000</td>\n",
       "      <td>...</td>\n",
       "      <td>1.0</td>\n",
       "      <td>0.0</td>\n",
       "      <td>0.0</td>\n",
       "      <td>0.0</td>\n",
       "      <td>1.0</td>\n",
       "      <td>0.0</td>\n",
       "      <td>0.0</td>\n",
       "      <td>0.0</td>\n",
       "      <td>1.0</td>\n",
       "      <td>0.0</td>\n",
       "    </tr>\n",
       "    <tr>\n",
       "      <th>4</th>\n",
       "      <td>5</td>\n",
       "      <td>0</td>\n",
       "      <td>3</td>\n",
       "      <td>Allen, Mr. William Henry</td>\n",
       "      <td>male</td>\n",
       "      <td>Adult</td>\n",
       "      <td>0</td>\n",
       "      <td>0</td>\n",
       "      <td>373450</td>\n",
       "      <td>8.0500</td>\n",
       "      <td>...</td>\n",
       "      <td>1.0</td>\n",
       "      <td>0.0</td>\n",
       "      <td>0.0</td>\n",
       "      <td>0.0</td>\n",
       "      <td>1.0</td>\n",
       "      <td>0.0</td>\n",
       "      <td>0.0</td>\n",
       "      <td>1.0</td>\n",
       "      <td>0.0</td>\n",
       "      <td>0.0</td>\n",
       "    </tr>\n",
       "  </tbody>\n",
       "</table>\n",
       "<p>5 rows × 26 columns</p>\n",
       "</div>"
      ],
      "text/plain": [
       "   PassengerId  Survived  Pclass  \\\n",
       "0            1         0       3   \n",
       "1            2         1       1   \n",
       "2            3         1       3   \n",
       "3            4         1       1   \n",
       "4            5         0       3   \n",
       "\n",
       "                                                Name     Sex    Age  SibSp  \\\n",
       "0                            Braund, Mr. Owen Harris    male  Adult      1   \n",
       "1  Cumings, Mrs. John Bradley (Florence Briggs Th...  female  Adult      1   \n",
       "2                             Heikkinen, Miss. Laina  female  Adult      0   \n",
       "3       Futrelle, Mrs. Jacques Heath (Lily May Peel)  female  Adult      1   \n",
       "4                           Allen, Mr. William Henry    male  Adult      0   \n",
       "\n",
       "   Parch            Ticket     Fare  ... x1_Adult x1_Kids  x2_C x2_Q  x2_S  \\\n",
       "0      0         A/5 21171   7.2500  ...      1.0     0.0   0.0  0.0   1.0   \n",
       "1      0          PC 17599  71.2833  ...      1.0     0.0   1.0  0.0   0.0   \n",
       "2      0  STON/O2. 3101282   7.9250  ...      1.0     0.0   0.0  0.0   1.0   \n",
       "3      0            113803  53.1000  ...      1.0     0.0   0.0  0.0   1.0   \n",
       "4      0            373450   8.0500  ...      1.0     0.0   0.0  0.0   1.0   \n",
       "\n",
       "   x3_Master  x3_Miss  x3_Mr  x3_Mrs  x3_other  \n",
       "0        0.0      0.0    1.0     0.0       0.0  \n",
       "1        0.0      0.0    0.0     1.0       0.0  \n",
       "2        0.0      1.0    0.0     0.0       0.0  \n",
       "3        0.0      0.0    0.0     1.0       0.0  \n",
       "4        0.0      0.0    1.0     0.0       0.0  \n",
       "\n",
       "[5 rows x 26 columns]"
      ]
     },
     "execution_count": 163,
     "metadata": {},
     "output_type": "execute_result"
    }
   ],
   "source": [
    "df_train.head()"
   ]
  },
  {
   "cell_type": "code",
   "execution_count": null,
   "id": "422d78b2",
   "metadata": {},
   "outputs": [],
   "source": []
  },
  {
   "cell_type": "code",
   "execution_count": 164,
   "id": "8b79683f",
   "metadata": {},
   "outputs": [],
   "source": [
    "# Feature selection"
   ]
  },
  {
   "cell_type": "code",
   "execution_count": 165,
   "id": "3be59c80",
   "metadata": {},
   "outputs": [
    {
     "data": {
      "text/plain": [
       "PassengerId   -0.005007\n",
       "Survived       1.000000\n",
       "Pclass        -0.338481\n",
       "SibSp         -0.035322\n",
       "Parch          0.081629\n",
       "Fare           0.257307\n",
       "isCabin        0.316912\n",
       "x0_female      0.543351\n",
       "x0_male       -0.543351\n",
       "x1_Adult      -0.105873\n",
       "x1_Kids        0.105873\n",
       "x2_C           0.168240\n",
       "x2_Q           0.003650\n",
       "x2_S          -0.149683\n",
       "x3_Master      0.085221\n",
       "x3_Miss        0.329999\n",
       "x3_Mr         -0.529008\n",
       "x3_Mrs         0.340572\n",
       "x3_other      -0.018304\n",
       "Name: Survived, dtype: float64"
      ]
     },
     "execution_count": 165,
     "metadata": {},
     "output_type": "execute_result"
    }
   ],
   "source": [
    "df_train.corr()['Survived']"
   ]
  },
  {
   "cell_type": "code",
   "execution_count": 166,
   "id": "71265b4c",
   "metadata": {},
   "outputs": [],
   "source": [
    "final_col= list(df_train.corr()['Survived'].index)\n",
    "final_col.remove('PassengerId')\n",
    "final_col.remove('Survived')"
   ]
  },
  {
   "cell_type": "code",
   "execution_count": 167,
   "id": "56f1cd0f",
   "metadata": {},
   "outputs": [
    {
     "data": {
      "text/plain": [
       "['Pclass',\n",
       " 'SibSp',\n",
       " 'Parch',\n",
       " 'Fare',\n",
       " 'isCabin',\n",
       " 'x0_female',\n",
       " 'x0_male',\n",
       " 'x1_Adult',\n",
       " 'x1_Kids',\n",
       " 'x2_C',\n",
       " 'x2_Q',\n",
       " 'x2_S',\n",
       " 'x3_Master',\n",
       " 'x3_Miss',\n",
       " 'x3_Mr',\n",
       " 'x3_Mrs',\n",
       " 'x3_other']"
      ]
     },
     "execution_count": 167,
     "metadata": {},
     "output_type": "execute_result"
    }
   ],
   "source": [
    "final_col"
   ]
  },
  {
   "cell_type": "code",
   "execution_count": null,
   "id": "39388601",
   "metadata": {},
   "outputs": [],
   "source": []
  },
  {
   "cell_type": "code",
   "execution_count": 196,
   "id": "07d0d87a",
   "metadata": {},
   "outputs": [
    {
     "data": {
      "text/plain": [
       "{'whiskers': [<matplotlib.lines.Line2D at 0x741d7a3e50>,\n",
       "  <matplotlib.lines.Line2D at 0x74176ba370>],\n",
       " 'caps': [<matplotlib.lines.Line2D at 0x741d785100>,\n",
       "  <matplotlib.lines.Line2D at 0x741d7855b0>],\n",
       " 'boxes': [<matplotlib.lines.Line2D at 0x741d7a44c0>],\n",
       " 'medians': [<matplotlib.lines.Line2D at 0x741d785940>],\n",
       " 'fliers': [<matplotlib.lines.Line2D at 0x741d785730>],\n",
       " 'means': []}"
      ]
     },
     "execution_count": 196,
     "metadata": {},
     "output_type": "execute_result"
    },
    {
     "data": {
      "image/png": "[encoded data removed]",
      "text/plain": [
       "<Figure size 432x288 with 1 Axes>"
      ]
     },
     "metadata": {
      "needs_background": "light"
     },
     "output_type": "display_data"
    }
   ],
   "source": [
    "plt.boxplot(df_train['Fare'])"
   ]
  },
  {
   "cell_type": "code",
   "execution_count": 198,
   "id": "5be11b12",
   "metadata": {},
   "outputs": [],
   "source": [
    "# IQR\n",
    "percentile25= df_train['Fare'].quantile(0.25)\n",
    "percentile75= df_train['Fare'].quantile(0.75)"
   ]
  },
  {
   "cell_type": "code",
   "execution_count": 199,
   "id": "941ce2da",
   "metadata": {},
   "outputs": [
    {
     "data": {
      "text/plain": [
       "31.0"
      ]
     },
     "execution_count": 199,
     "metadata": {},
     "output_type": "execute_result"
    }
   ],
   "source": [
    "percentile75"
   ]
  },
  {
   "cell_type": "code",
   "execution_count": 200,
   "id": "2358e00c",
   "metadata": {},
   "outputs": [
    {
     "data": {
      "text/plain": [
       "7.9104"
      ]
     },
     "execution_count": 200,
     "metadata": {},
     "output_type": "execute_result"
    }
   ],
   "source": [
    "percentile25"
   ]
  },
  {
   "cell_type": "code",
   "execution_count": 201,
   "id": "322e3afa",
   "metadata": {},
   "outputs": [
    {
     "data": {
      "text/plain": [
       "23.0896"
      ]
     },
     "execution_count": 201,
     "metadata": {},
     "output_type": "execute_result"
    }
   ],
   "source": [
    "iqr=percentile75-percentile25\n",
    "iqr"
   ]
  },
  {
   "cell_type": "code",
   "execution_count": 202,
   "id": "0dfe90d0",
   "metadata": {},
   "outputs": [],
   "source": [
    "uper_limit = percentile75 + 1.5 * iqr\n",
    "lower_limit = percentile25 - 1.5 * iqr"
   ]
  },
  {
   "cell_type": "code",
   "execution_count": 203,
   "id": "2a25f53c",
   "metadata": {},
   "outputs": [
    {
     "data": {
      "text/plain": [
       "(65.6344, -26.724)"
      ]
     },
     "execution_count": 203,
     "metadata": {},
     "output_type": "execute_result"
    }
   ],
   "source": [
    "uper_limit,lower_limit"
   ]
  },
  {
   "cell_type": "code",
   "execution_count": 204,
   "id": "d4ea7b82",
   "metadata": {
    "scrolled": true
   },
   "outputs": [
    {
     "data": {
      "text/plain": [
       "1       71.2833\n",
       "27     263.0000\n",
       "31     146.5208\n",
       "34      82.1708\n",
       "52      76.7292\n",
       "         ...   \n",
       "846     69.5500\n",
       "849     89.1042\n",
       "856    164.8667\n",
       "863     69.5500\n",
       "879     83.1583\n",
       "Name: Fare, Length: 116, dtype: float64"
      ]
     },
     "execution_count": 204,
     "metadata": {},
     "output_type": "execute_result"
    }
   ],
   "source": [
    "df_train[df_train['Fare'] > uper_limit]['Fare']"
   ]
  },
  {
   "cell_type": "code",
   "execution_count": null,
   "id": "15cc248f",
   "metadata": {},
   "outputs": [],
   "source": []
  },
  {
   "cell_type": "markdown",
   "id": "0ae5ca90",
   "metadata": {},
   "source": [
    "# Trimming"
   ]
  },
  {
   "cell_type": "code",
   "execution_count": 205,
   "id": "b632519d",
   "metadata": {},
   "outputs": [
    {
     "data": {
      "text/html": [
       "<div>\n",
       "<style scoped>\n",
       "    .dataframe tbody tr th:only-of-type {\n",
       "        vertical-align: middle;\n",
       "    }\n",
       "\n",
       "    .dataframe tbody tr th {\n",
       "        vertical-align: top;\n",
       "    }\n",
       "\n",
       "    .dataframe thead th {\n",
       "        text-align: right;\n",
       "    }\n",
       "</style>\n",
       "<table border=\"1\" class=\"dataframe\">\n",
       "  <thead>\n",
       "    <tr style=\"text-align: right;\">\n",
       "      <th></th>\n",
       "      <th>PassengerId</th>\n",
       "      <th>Survived</th>\n",
       "      <th>Pclass</th>\n",
       "      <th>Name</th>\n",
       "      <th>Sex</th>\n",
       "      <th>Age</th>\n",
       "      <th>SibSp</th>\n",
       "      <th>Parch</th>\n",
       "      <th>Ticket</th>\n",
       "      <th>Fare</th>\n",
       "      <th>...</th>\n",
       "      <th>x1_Adult</th>\n",
       "      <th>x1_Kids</th>\n",
       "      <th>x2_C</th>\n",
       "      <th>x2_Q</th>\n",
       "      <th>x2_S</th>\n",
       "      <th>x3_Master</th>\n",
       "      <th>x3_Miss</th>\n",
       "      <th>x3_Mr</th>\n",
       "      <th>x3_Mrs</th>\n",
       "      <th>x3_other</th>\n",
       "    </tr>\n",
       "  </thead>\n",
       "  <tbody>\n",
       "    <tr>\n",
       "      <th>0</th>\n",
       "      <td>1</td>\n",
       "      <td>0</td>\n",
       "      <td>3</td>\n",
       "      <td>Braund, Mr. Owen Harris</td>\n",
       "      <td>male</td>\n",
       "      <td>Adult</td>\n",
       "      <td>1</td>\n",
       "      <td>0</td>\n",
       "      <td>A/5 21171</td>\n",
       "      <td>7.2500</td>\n",
       "      <td>...</td>\n",
       "      <td>1.0</td>\n",
       "      <td>0.0</td>\n",
       "      <td>0.0</td>\n",
       "      <td>0.0</td>\n",
       "      <td>1.0</td>\n",
       "      <td>0.0</td>\n",
       "      <td>0.0</td>\n",
       "      <td>1.0</td>\n",
       "      <td>0.0</td>\n",
       "      <td>0.0</td>\n",
       "    </tr>\n",
       "    <tr>\n",
       "      <th>2</th>\n",
       "      <td>3</td>\n",
       "      <td>1</td>\n",
       "      <td>3</td>\n",
       "      <td>Heikkinen, Miss. Laina</td>\n",
       "      <td>female</td>\n",
       "      <td>Adult</td>\n",
       "      <td>0</td>\n",
       "      <td>0</td>\n",
       "      <td>STON/O2. 3101282</td>\n",
       "      <td>7.9250</td>\n",
       "      <td>...</td>\n",
       "      <td>1.0</td>\n",
       "      <td>0.0</td>\n",
       "      <td>0.0</td>\n",
       "      <td>0.0</td>\n",
       "      <td>1.0</td>\n",
       "      <td>0.0</td>\n",
       "      <td>1.0</td>\n",
       "      <td>0.0</td>\n",
       "      <td>0.0</td>\n",
       "      <td>0.0</td>\n",
       "    </tr>\n",
       "    <tr>\n",
       "      <th>3</th>\n",
       "      <td>4</td>\n",
       "      <td>1</td>\n",
       "      <td>1</td>\n",
       "      <td>Futrelle, Mrs. Jacques Heath (Lily May Peel)</td>\n",
       "      <td>female</td>\n",
       "      <td>Adult</td>\n",
       "      <td>1</td>\n",
       "      <td>0</td>\n",
       "      <td>113803</td>\n",
       "      <td>53.1000</td>\n",
       "      <td>...</td>\n",
       "      <td>1.0</td>\n",
       "      <td>0.0</td>\n",
       "      <td>0.0</td>\n",
       "      <td>0.0</td>\n",
       "      <td>1.0</td>\n",
       "      <td>0.0</td>\n",
       "      <td>0.0</td>\n",
       "      <td>0.0</td>\n",
       "      <td>1.0</td>\n",
       "      <td>0.0</td>\n",
       "    </tr>\n",
       "    <tr>\n",
       "      <th>4</th>\n",
       "      <td>5</td>\n",
       "      <td>0</td>\n",
       "      <td>3</td>\n",
       "      <td>Allen, Mr. William Henry</td>\n",
       "      <td>male</td>\n",
       "      <td>Adult</td>\n",
       "      <td>0</td>\n",
       "      <td>0</td>\n",
       "      <td>373450</td>\n",
       "      <td>8.0500</td>\n",
       "      <td>...</td>\n",
       "      <td>1.0</td>\n",
       "      <td>0.0</td>\n",
       "      <td>0.0</td>\n",
       "      <td>0.0</td>\n",
       "      <td>1.0</td>\n",
       "      <td>0.0</td>\n",
       "      <td>0.0</td>\n",
       "      <td>1.0</td>\n",
       "      <td>0.0</td>\n",
       "      <td>0.0</td>\n",
       "    </tr>\n",
       "    <tr>\n",
       "      <th>5</th>\n",
       "      <td>6</td>\n",
       "      <td>0</td>\n",
       "      <td>3</td>\n",
       "      <td>Moran, Mr. James</td>\n",
       "      <td>male</td>\n",
       "      <td>Adult</td>\n",
       "      <td>0</td>\n",
       "      <td>0</td>\n",
       "      <td>330877</td>\n",
       "      <td>8.4583</td>\n",
       "      <td>...</td>\n",
       "      <td>1.0</td>\n",
       "      <td>0.0</td>\n",
       "      <td>0.0</td>\n",
       "      <td>1.0</td>\n",
       "      <td>0.0</td>\n",
       "      <td>0.0</td>\n",
       "      <td>0.0</td>\n",
       "      <td>1.0</td>\n",
       "      <td>0.0</td>\n",
       "      <td>0.0</td>\n",
       "    </tr>\n",
       "    <tr>\n",
       "      <th>...</th>\n",
       "      <td>...</td>\n",
       "      <td>...</td>\n",
       "      <td>...</td>\n",
       "      <td>...</td>\n",
       "      <td>...</td>\n",
       "      <td>...</td>\n",
       "      <td>...</td>\n",
       "      <td>...</td>\n",
       "      <td>...</td>\n",
       "      <td>...</td>\n",
       "      <td>...</td>\n",
       "      <td>...</td>\n",
       "      <td>...</td>\n",
       "      <td>...</td>\n",
       "      <td>...</td>\n",
       "      <td>...</td>\n",
       "      <td>...</td>\n",
       "      <td>...</td>\n",
       "      <td>...</td>\n",
       "      <td>...</td>\n",
       "      <td>...</td>\n",
       "    </tr>\n",
       "    <tr>\n",
       "      <th>886</th>\n",
       "      <td>887</td>\n",
       "      <td>0</td>\n",
       "      <td>2</td>\n",
       "      <td>Montvila, Rev. Juozas</td>\n",
       "      <td>male</td>\n",
       "      <td>Adult</td>\n",
       "      <td>0</td>\n",
       "      <td>0</td>\n",
       "      <td>211536</td>\n",
       "      <td>13.0000</td>\n",
       "      <td>...</td>\n",
       "      <td>1.0</td>\n",
       "      <td>0.0</td>\n",
       "      <td>0.0</td>\n",
       "      <td>0.0</td>\n",
       "      <td>1.0</td>\n",
       "      <td>0.0</td>\n",
       "      <td>0.0</td>\n",
       "      <td>0.0</td>\n",
       "      <td>0.0</td>\n",
       "      <td>1.0</td>\n",
       "    </tr>\n",
       "    <tr>\n",
       "      <th>887</th>\n",
       "      <td>888</td>\n",
       "      <td>1</td>\n",
       "      <td>1</td>\n",
       "      <td>Graham, Miss. Margaret Edith</td>\n",
       "      <td>female</td>\n",
       "      <td>Adult</td>\n",
       "      <td>0</td>\n",
       "      <td>0</td>\n",
       "      <td>112053</td>\n",
       "      <td>30.0000</td>\n",
       "      <td>...</td>\n",
       "      <td>1.0</td>\n",
       "      <td>0.0</td>\n",
       "      <td>0.0</td>\n",
       "      <td>0.0</td>\n",
       "      <td>1.0</td>\n",
       "      <td>0.0</td>\n",
       "      <td>1.0</td>\n",
       "      <td>0.0</td>\n",
       "      <td>0.0</td>\n",
       "      <td>0.0</td>\n",
       "    </tr>\n",
       "    <tr>\n",
       "      <th>888</th>\n",
       "      <td>889</td>\n",
       "      <td>0</td>\n",
       "      <td>3</td>\n",
       "      <td>Johnston, Miss. Catherine Helen \"Carrie\"</td>\n",
       "      <td>female</td>\n",
       "      <td>Adult</td>\n",
       "      <td>1</td>\n",
       "      <td>2</td>\n",
       "      <td>W./C. 6607</td>\n",
       "      <td>23.4500</td>\n",
       "      <td>...</td>\n",
       "      <td>1.0</td>\n",
       "      <td>0.0</td>\n",
       "      <td>0.0</td>\n",
       "      <td>0.0</td>\n",
       "      <td>1.0</td>\n",
       "      <td>0.0</td>\n",
       "      <td>1.0</td>\n",
       "      <td>0.0</td>\n",
       "      <td>0.0</td>\n",
       "      <td>0.0</td>\n",
       "    </tr>\n",
       "    <tr>\n",
       "      <th>889</th>\n",
       "      <td>890</td>\n",
       "      <td>1</td>\n",
       "      <td>1</td>\n",
       "      <td>Behr, Mr. Karl Howell</td>\n",
       "      <td>male</td>\n",
       "      <td>Adult</td>\n",
       "      <td>0</td>\n",
       "      <td>0</td>\n",
       "      <td>111369</td>\n",
       "      <td>30.0000</td>\n",
       "      <td>...</td>\n",
       "      <td>1.0</td>\n",
       "      <td>0.0</td>\n",
       "      <td>1.0</td>\n",
       "      <td>0.0</td>\n",
       "      <td>0.0</td>\n",
       "      <td>0.0</td>\n",
       "      <td>0.0</td>\n",
       "      <td>1.0</td>\n",
       "      <td>0.0</td>\n",
       "      <td>0.0</td>\n",
       "    </tr>\n",
       "    <tr>\n",
       "      <th>890</th>\n",
       "      <td>891</td>\n",
       "      <td>0</td>\n",
       "      <td>3</td>\n",
       "      <td>Dooley, Mr. Patrick</td>\n",
       "      <td>male</td>\n",
       "      <td>Adult</td>\n",
       "      <td>0</td>\n",
       "      <td>0</td>\n",
       "      <td>370376</td>\n",
       "      <td>7.7500</td>\n",
       "      <td>...</td>\n",
       "      <td>1.0</td>\n",
       "      <td>0.0</td>\n",
       "      <td>0.0</td>\n",
       "      <td>1.0</td>\n",
       "      <td>0.0</td>\n",
       "      <td>0.0</td>\n",
       "      <td>0.0</td>\n",
       "      <td>1.0</td>\n",
       "      <td>0.0</td>\n",
       "      <td>0.0</td>\n",
       "    </tr>\n",
       "  </tbody>\n",
       "</table>\n",
       "<p>775 rows × 26 columns</p>\n",
       "</div>"
      ],
      "text/plain": [
       "     PassengerId  Survived  Pclass  \\\n",
       "0              1         0       3   \n",
       "2              3         1       3   \n",
       "3              4         1       1   \n",
       "4              5         0       3   \n",
       "5              6         0       3   \n",
       "..           ...       ...     ...   \n",
       "886          887         0       2   \n",
       "887          888         1       1   \n",
       "888          889         0       3   \n",
       "889          890         1       1   \n",
       "890          891         0       3   \n",
       "\n",
       "                                             Name     Sex    Age  SibSp  \\\n",
       "0                         Braund, Mr. Owen Harris    male  Adult      1   \n",
       "2                          Heikkinen, Miss. Laina  female  Adult      0   \n",
       "3    Futrelle, Mrs. Jacques Heath (Lily May Peel)  female  Adult      1   \n",
       "4                        Allen, Mr. William Henry    male  Adult      0   \n",
       "5                                Moran, Mr. James    male  Adult      0   \n",
       "..                                            ...     ...    ...    ...   \n",
       "886                         Montvila, Rev. Juozas    male  Adult      0   \n",
       "887                  Graham, Miss. Margaret Edith  female  Adult      0   \n",
       "888      Johnston, Miss. Catherine Helen \"Carrie\"  female  Adult      1   \n",
       "889                         Behr, Mr. Karl Howell    male  Adult      0   \n",
       "890                           Dooley, Mr. Patrick    male  Adult      0   \n",
       "\n",
       "     Parch            Ticket     Fare  ... x1_Adult x1_Kids  x2_C x2_Q  x2_S  \\\n",
       "0        0         A/5 21171   7.2500  ...      1.0     0.0   0.0  0.0   1.0   \n",
       "2        0  STON/O2. 3101282   7.9250  ...      1.0     0.0   0.0  0.0   1.0   \n",
       "3        0            113803  53.1000  ...      1.0     0.0   0.0  0.0   1.0   \n",
       "4        0            373450   8.0500  ...      1.0     0.0   0.0  0.0   1.0   \n",
       "5        0            330877   8.4583  ...      1.0     0.0   0.0  1.0   0.0   \n",
       "..     ...               ...      ...  ...      ...     ...   ...  ...   ...   \n",
       "886      0            211536  13.0000  ...      1.0     0.0   0.0  0.0   1.0   \n",
       "887      0            112053  30.0000  ...      1.0     0.0   0.0  0.0   1.0   \n",
       "888      2        W./C. 6607  23.4500  ...      1.0     0.0   0.0  0.0   1.0   \n",
       "889      0            111369  30.0000  ...      1.0     0.0   1.0  0.0   0.0   \n",
       "890      0            370376   7.7500  ...      1.0     0.0   0.0  1.0   0.0   \n",
       "\n",
       "     x3_Master  x3_Miss  x3_Mr  x3_Mrs  x3_other  \n",
       "0          0.0      0.0    1.0     0.0       0.0  \n",
       "2          0.0      1.0    0.0     0.0       0.0  \n",
       "3          0.0      0.0    0.0     1.0       0.0  \n",
       "4          0.0      0.0    1.0     0.0       0.0  \n",
       "5          0.0      0.0    1.0     0.0       0.0  \n",
       "..         ...      ...    ...     ...       ...  \n",
       "886        0.0      0.0    0.0     0.0       1.0  \n",
       "887        0.0      1.0    0.0     0.0       0.0  \n",
       "888        0.0      1.0    0.0     0.0       0.0  \n",
       "889        0.0      0.0    1.0     0.0       0.0  \n",
       "890        0.0      0.0    1.0     0.0       0.0  \n",
       "\n",
       "[775 rows x 26 columns]"
      ]
     },
     "execution_count": 205,
     "metadata": {},
     "output_type": "execute_result"
    }
   ],
   "source": [
    "df_train_new=df_train[df_train['Fare'] < uper_limit]\n",
    "df_train_new"
   ]
  },
  {
   "cell_type": "code",
   "execution_count": null,
   "id": "0ef1e65b",
   "metadata": {},
   "outputs": [],
   "source": []
  },
  {
   "cell_type": "code",
   "execution_count": null,
   "id": "a3805bd4",
   "metadata": {},
   "outputs": [],
   "source": []
  },
  {
   "cell_type": "code",
   "execution_count": null,
   "id": "970ffb9b",
   "metadata": {},
   "outputs": [],
   "source": []
  },
  {
   "cell_type": "code",
   "execution_count": 168,
   "id": "9ce530d2",
   "metadata": {},
   "outputs": [],
   "source": [
    "# scalling"
   ]
  },
  {
   "cell_type": "code",
   "execution_count": 169,
   "id": "77599865",
   "metadata": {},
   "outputs": [],
   "source": [
    "from sklearn.preprocessing import MinMaxScaler, StandardScaler"
   ]
  },
  {
   "cell_type": "code",
   "execution_count": 170,
   "id": "020e3c99",
   "metadata": {},
   "outputs": [],
   "source": [
    "scaler=MinMaxScaler()"
   ]
  },
  {
   "cell_type": "code",
   "execution_count": 171,
   "id": "fb234a06",
   "metadata": {},
   "outputs": [
    {
     "data": {
      "text/plain": [
       "MinMaxScaler()"
      ]
     },
     "execution_count": 171,
     "metadata": {},
     "output_type": "execute_result"
    }
   ],
   "source": [
    "scaler.fit(df_train[final_col])"
   ]
  },
  {
   "cell_type": "code",
   "execution_count": 172,
   "id": "9b2206cc",
   "metadata": {},
   "outputs": [],
   "source": [
    "x_trains = scaler.transform(df_train[final_col])"
   ]
  },
  {
   "cell_type": "code",
   "execution_count": 173,
   "id": "279ddd8e",
   "metadata": {},
   "outputs": [],
   "source": [
    "x_tests = scaler.transform(df_test[final_col])"
   ]
  },
  {
   "cell_type": "code",
   "execution_count": null,
   "id": "e9d41eb4",
   "metadata": {},
   "outputs": [],
   "source": []
  },
  {
   "cell_type": "code",
   "execution_count": 174,
   "id": "84185248",
   "metadata": {},
   "outputs": [],
   "source": [
    "s_scaler = StandardScaler()"
   ]
  },
  {
   "cell_type": "code",
   "execution_count": 206,
   "id": "4d183adb",
   "metadata": {},
   "outputs": [
    {
     "data": {
      "text/plain": [
       "StandardScaler()"
      ]
     },
     "execution_count": 206,
     "metadata": {},
     "output_type": "execute_result"
    }
   ],
   "source": [
    "s_scaler.fit(df_train_new[final_col])"
   ]
  },
  {
   "cell_type": "code",
   "execution_count": 207,
   "id": "9735c537",
   "metadata": {},
   "outputs": [],
   "source": [
    "x_strain = s_scaler.transform(df_train_new[final_col])"
   ]
  },
  {
   "cell_type": "code",
   "execution_count": 208,
   "id": "95a03e7d",
   "metadata": {},
   "outputs": [],
   "source": [
    "x_stest = s_scaler.transform(df_test[final_col])"
   ]
  },
  {
   "cell_type": "code",
   "execution_count": null,
   "id": "ef1485ec",
   "metadata": {},
   "outputs": [],
   "source": []
  },
  {
   "cell_type": "code",
   "execution_count": null,
   "id": "c6b0c1b7",
   "metadata": {},
   "outputs": [],
   "source": []
  },
  {
   "cell_type": "code",
   "execution_count": null,
   "id": "7c2f3662",
   "metadata": {},
   "outputs": [],
   "source": []
  },
  {
   "cell_type": "code",
   "execution_count": 178,
   "id": "929f1c65",
   "metadata": {},
   "outputs": [],
   "source": [
    "# Model building"
   ]
  },
  {
   "cell_type": "code",
   "execution_count": 179,
   "id": "0ede4385",
   "metadata": {},
   "outputs": [],
   "source": [
    "x=df_train[final_col]\n",
    "y=df_train['Survived']"
   ]
  },
  {
   "cell_type": "code",
   "execution_count": 212,
   "id": "54ebd137",
   "metadata": {},
   "outputs": [],
   "source": [
    "ys=df_train_new['Survived']"
   ]
  },
  {
   "cell_type": "code",
   "execution_count": 2,
   "id": "913262bb",
   "metadata": {},
   "outputs": [],
   "source": [
    "from sklearn.ensemble import RandomForestClassifier\n",
    "from sklearn.model_selection import GridSearchCV,RandomizedSearchCV"
   ]
  },
  {
   "cell_type": "code",
   "execution_count": 4,
   "id": "f8a64c6d",
   "metadata": {},
   "outputs": [],
   "source": [
    "\n",
    "dict1={'n_estimators':[75,100,150,200],\n",
    "       'max_depth':[6,7,8],\n",
    "       'min_samples_leaf':[2,3,4],\n",
    "       'min_samples_split':[2,3,4]}\n"
   ]
  },
  {
   "cell_type": "code",
   "execution_count": 5,
   "id": "1cfa3e27",
   "metadata": {},
   "outputs": [],
   "source": [
    "grid_cv = GridSearchCV(RandomForestClassifier(random_state=17), param_grid=dict1,cv=5,verbose=3)"
   ]
  },
  {
   "cell_type": "code",
   "execution_count": 214,
   "id": "e30429f7",
   "metadata": {},
   "outputs": [
    {
     "name": "stdout",
     "output_type": "stream",
     "text": [
      "Fitting 5 folds for each of 108 candidates, totalling 540 fits\n",
      "[CV] END max_depth=6, min_samples_leaf=2, min_samples_split=2, n_estimators=75; total time=   0.2s\n",
      "[CV] END max_depth=6, min_samples_leaf=2, min_samples_split=2, n_estimators=75; total time=   0.2s\n",
      "[CV] END max_depth=6, min_samples_leaf=2, min_samples_split=2, n_estimators=75; total time=   0.2s\n",
      "[CV] END max_depth=6, min_samples_leaf=2, min_samples_split=2, n_estimators=75; total time=   0.2s\n",
      "[CV] END max_depth=6, min_samples_leaf=2, min_samples_split=2, n_estimators=75; total time=   0.3s\n",
      "[CV] END max_depth=6, min_samples_leaf=2, min_samples_split=2, n_estimators=100; total time=   0.3s\n",
      "[CV] END max_depth=6, min_samples_leaf=2, min_samples_split=2, n_estimators=100; total time=   0.3s\n",
      "[CV] END max_depth=6, min_samples_leaf=2, min_samples_split=2, n_estimators=100; total time=   0.2s\n",
      "[CV] END max_depth=6, min_samples_leaf=2, min_samples_split=2, n_estimators=100; total time=   0.2s\n",
      "[CV] END max_depth=6, min_samples_leaf=2, min_samples_split=2, n_estimators=100; total time=   0.3s\n",
      "[CV] END max_depth=6, min_samples_leaf=2, min_samples_split=2, n_estimators=150; total time=   0.5s\n",
      "[CV] END max_depth=6, min_samples_leaf=2, min_samples_split=2, n_estimators=150; total time=   0.4s\n",
      "[CV] END max_depth=6, min_samples_leaf=2, min_samples_split=2, n_estimators=150; total time=   0.4s\n",
      "[CV] END max_depth=6, min_samples_leaf=2, min_samples_split=2, n_estimators=150; total time=   0.6s\n",
      "[CV] END max_depth=6, min_samples_leaf=2, min_samples_split=2, n_estimators=150; total time=   0.5s\n",
      "[CV] END max_depth=6, min_samples_leaf=2, min_samples_split=2, n_estimators=200; total time=   0.7s\n",
      "[CV] END max_depth=6, min_samples_leaf=2, min_samples_split=2, n_estimators=200; total time=   0.6s\n",
      "[CV] END max_depth=6, min_samples_leaf=2, min_samples_split=2, n_estimators=200; total time=   0.7s\n",
      "[CV] END max_depth=6, min_samples_leaf=2, min_samples_split=2, n_estimators=200; total time=   0.6s\n",
      "[CV] END max_depth=6, min_samples_leaf=2, min_samples_split=2, n_estimators=200; total time=   0.6s\n",
      "[CV] END max_depth=6, min_samples_leaf=2, min_samples_split=3, n_estimators=75; total time=   0.2s\n",
      "[CV] END max_depth=6, min_samples_leaf=2, min_samples_split=3, n_estimators=75; total time=   0.2s\n",
      "[CV] END max_depth=6, min_samples_leaf=2, min_samples_split=3, n_estimators=75; total time=   0.2s\n",
      "[CV] END max_depth=6, min_samples_leaf=2, min_samples_split=3, n_estimators=75; total time=   0.2s\n",
      "[CV] END max_depth=6, min_samples_leaf=2, min_samples_split=3, n_estimators=75; total time=   0.2s\n",
      "[CV] END max_depth=6, min_samples_leaf=2, min_samples_split=3, n_estimators=100; total time=   0.3s\n",
      "[CV] END max_depth=6, min_samples_leaf=2, min_samples_split=3, n_estimators=100; total time=   0.3s\n",
      "[CV] END max_depth=6, min_samples_leaf=2, min_samples_split=3, n_estimators=100; total time=   0.3s\n",
      "[CV] END max_depth=6, min_samples_leaf=2, min_samples_split=3, n_estimators=100; total time=   0.3s\n",
      "[CV] END max_depth=6, min_samples_leaf=2, min_samples_split=3, n_estimators=100; total time=   0.3s\n",
      "[CV] END max_depth=6, min_samples_leaf=2, min_samples_split=3, n_estimators=150; total time=   0.6s\n",
      "[CV] END max_depth=6, min_samples_leaf=2, min_samples_split=3, n_estimators=150; total time=   0.5s\n",
      "[CV] END max_depth=6, min_samples_leaf=2, min_samples_split=3, n_estimators=150; total time=   0.4s\n",
      "[CV] END max_depth=6, min_samples_leaf=2, min_samples_split=3, n_estimators=150; total time=   0.4s\n",
      "[CV] END max_depth=6, min_samples_leaf=2, min_samples_split=3, n_estimators=150; total time=   0.5s\n",
      "[CV] END max_depth=6, min_samples_leaf=2, min_samples_split=3, n_estimators=200; total time=   0.6s\n",
      "[CV] END max_depth=6, min_samples_leaf=2, min_samples_split=3, n_estimators=200; total time=   0.7s\n",
      "[CV] END max_depth=6, min_samples_leaf=2, min_samples_split=3, n_estimators=200; total time=   0.6s\n",
      "[CV] END max_depth=6, min_samples_leaf=2, min_samples_split=3, n_estimators=200; total time=   0.7s\n",
      "[CV] END max_depth=6, min_samples_leaf=2, min_samples_split=3, n_estimators=200; total time=   0.8s\n",
      "[CV] END max_depth=6, min_samples_leaf=2, min_samples_split=4, n_estimators=75; total time=   0.2s\n",
      "[CV] END max_depth=6, min_samples_leaf=2, min_samples_split=4, n_estimators=75; total time=   0.2s\n",
      "[CV] END max_depth=6, min_samples_leaf=2, min_samples_split=4, n_estimators=75; total time=   0.3s\n",
      "[CV] END max_depth=6, min_samples_leaf=2, min_samples_split=4, n_estimators=75; total time=   0.2s\n",
      "[CV] END max_depth=6, min_samples_leaf=2, min_samples_split=4, n_estimators=75; total time=   0.3s\n",
      "[CV] END max_depth=6, min_samples_leaf=2, min_samples_split=4, n_estimators=100; total time=   0.3s\n",
      "[CV] END max_depth=6, min_samples_leaf=2, min_samples_split=4, n_estimators=100; total time=   0.3s\n",
      "[CV] END max_depth=6, min_samples_leaf=2, min_samples_split=4, n_estimators=100; total time=   0.3s\n",
      "[CV] END max_depth=6, min_samples_leaf=2, min_samples_split=4, n_estimators=100; total time=   0.2s\n",
      "[CV] END max_depth=6, min_samples_leaf=2, min_samples_split=4, n_estimators=100; total time=   0.3s\n",
      "[CV] END max_depth=6, min_samples_leaf=2, min_samples_split=4, n_estimators=150; total time=   0.4s\n",
      "[CV] END max_depth=6, min_samples_leaf=2, min_samples_split=4, n_estimators=150; total time=   0.4s\n",
      "[CV] END max_depth=6, min_samples_leaf=2, min_samples_split=4, n_estimators=150; total time=   0.4s\n",
      "[CV] END max_depth=6, min_samples_leaf=2, min_samples_split=4, n_estimators=150; total time=   0.4s\n",
      "[CV] END max_depth=6, min_samples_leaf=2, min_samples_split=4, n_estimators=150; total time=   0.4s\n",
      "[CV] END max_depth=6, min_samples_leaf=2, min_samples_split=4, n_estimators=200; total time=   0.6s\n",
      "[CV] END max_depth=6, min_samples_leaf=2, min_samples_split=4, n_estimators=200; total time=   0.6s\n",
      "[CV] END max_depth=6, min_samples_leaf=2, min_samples_split=4, n_estimators=200; total time=   0.6s\n",
      "[CV] END max_depth=6, min_samples_leaf=2, min_samples_split=4, n_estimators=200; total time=   0.6s\n",
      "[CV] END max_depth=6, min_samples_leaf=2, min_samples_split=4, n_estimators=200; total time=   0.6s\n",
      "[CV] END max_depth=6, min_samples_leaf=3, min_samples_split=2, n_estimators=75; total time=   0.2s\n",
      "[CV] END max_depth=6, min_samples_leaf=3, min_samples_split=2, n_estimators=75; total time=   0.2s\n",
      "[CV] END max_depth=6, min_samples_leaf=3, min_samples_split=2, n_estimators=75; total time=   0.2s\n",
      "[CV] END max_depth=6, min_samples_leaf=3, min_samples_split=2, n_estimators=75; total time=   0.2s\n",
      "[CV] END max_depth=6, min_samples_leaf=3, min_samples_split=2, n_estimators=75; total time=   0.2s\n",
      "[CV] END max_depth=6, min_samples_leaf=3, min_samples_split=2, n_estimators=100; total time=   0.2s\n",
      "[CV] END max_depth=6, min_samples_leaf=3, min_samples_split=2, n_estimators=100; total time=   0.3s\n",
      "[CV] END max_depth=6, min_samples_leaf=3, min_samples_split=2, n_estimators=100; total time=   0.3s\n",
      "[CV] END max_depth=6, min_samples_leaf=3, min_samples_split=2, n_estimators=100; total time=   0.3s\n",
      "[CV] END max_depth=6, min_samples_leaf=3, min_samples_split=2, n_estimators=100; total time=   0.3s\n",
      "[CV] END max_depth=6, min_samples_leaf=3, min_samples_split=2, n_estimators=150; total time=   0.4s\n",
      "[CV] END max_depth=6, min_samples_leaf=3, min_samples_split=2, n_estimators=150; total time=   0.4s\n",
      "[CV] END max_depth=6, min_samples_leaf=3, min_samples_split=2, n_estimators=150; total time=   0.4s\n",
      "[CV] END max_depth=6, min_samples_leaf=3, min_samples_split=2, n_estimators=150; total time=   0.4s\n",
      "[CV] END max_depth=6, min_samples_leaf=3, min_samples_split=2, n_estimators=150; total time=   0.4s\n",
      "[CV] END max_depth=6, min_samples_leaf=3, min_samples_split=2, n_estimators=200; total time=   0.6s\n",
      "[CV] END max_depth=6, min_samples_leaf=3, min_samples_split=2, n_estimators=200; total time=   0.6s\n",
      "[CV] END max_depth=6, min_samples_leaf=3, min_samples_split=2, n_estimators=200; total time=   0.6s\n",
      "[CV] END max_depth=6, min_samples_leaf=3, min_samples_split=2, n_estimators=200; total time=   0.6s\n",
      "[CV] END max_depth=6, min_samples_leaf=3, min_samples_split=2, n_estimators=200; total time=   0.6s\n",
      "[CV] END max_depth=6, min_samples_leaf=3, min_samples_split=3, n_estimators=75; total time=   0.2s\n",
      "[CV] END max_depth=6, min_samples_leaf=3, min_samples_split=3, n_estimators=75; total time=   0.2s\n",
      "[CV] END max_depth=6, min_samples_leaf=3, min_samples_split=3, n_estimators=75; total time=   0.2s\n",
      "[CV] END max_depth=6, min_samples_leaf=3, min_samples_split=3, n_estimators=75; total time=   0.2s\n",
      "[CV] END max_depth=6, min_samples_leaf=3, min_samples_split=3, n_estimators=75; total time=   0.2s\n",
      "[CV] END max_depth=6, min_samples_leaf=3, min_samples_split=3, n_estimators=100; total time=   0.3s\n",
      "[CV] END max_depth=6, min_samples_leaf=3, min_samples_split=3, n_estimators=100; total time=   0.3s\n",
      "[CV] END max_depth=6, min_samples_leaf=3, min_samples_split=3, n_estimators=100; total time=   0.2s\n",
      "[CV] END max_depth=6, min_samples_leaf=3, min_samples_split=3, n_estimators=100; total time=   0.3s\n",
      "[CV] END max_depth=6, min_samples_leaf=3, min_samples_split=3, n_estimators=100; total time=   0.3s\n",
      "[CV] END max_depth=6, min_samples_leaf=3, min_samples_split=3, n_estimators=150; total time=   0.4s\n",
      "[CV] END max_depth=6, min_samples_leaf=3, min_samples_split=3, n_estimators=150; total time=   0.4s\n",
      "[CV] END max_depth=6, min_samples_leaf=3, min_samples_split=3, n_estimators=150; total time=   0.4s\n",
      "[CV] END max_depth=6, min_samples_leaf=3, min_samples_split=3, n_estimators=150; total time=   0.4s\n",
      "[CV] END max_depth=6, min_samples_leaf=3, min_samples_split=3, n_estimators=150; total time=   0.4s\n",
      "[CV] END max_depth=6, min_samples_leaf=3, min_samples_split=3, n_estimators=200; total time=   0.6s\n",
      "[CV] END max_depth=6, min_samples_leaf=3, min_samples_split=3, n_estimators=200; total time=   0.6s\n",
      "[CV] END max_depth=6, min_samples_leaf=3, min_samples_split=3, n_estimators=200; total time=   0.6s\n",
      "[CV] END max_depth=6, min_samples_leaf=3, min_samples_split=3, n_estimators=200; total time=   0.6s\n",
      "[CV] END max_depth=6, min_samples_leaf=3, min_samples_split=3, n_estimators=200; total time=   0.6s\n",
      "[CV] END max_depth=6, min_samples_leaf=3, min_samples_split=4, n_estimators=75; total time=   0.2s\n",
      "[CV] END max_depth=6, min_samples_leaf=3, min_samples_split=4, n_estimators=75; total time=   0.2s\n",
      "[CV] END max_depth=6, min_samples_leaf=3, min_samples_split=4, n_estimators=75; total time=   0.2s\n",
      "[CV] END max_depth=6, min_samples_leaf=3, min_samples_split=4, n_estimators=75; total time=   0.2s\n",
      "[CV] END max_depth=6, min_samples_leaf=3, min_samples_split=4, n_estimators=75; total time=   0.2s\n",
      "[CV] END max_depth=6, min_samples_leaf=3, min_samples_split=4, n_estimators=100; total time=   0.2s\n",
      "[CV] END max_depth=6, min_samples_leaf=3, min_samples_split=4, n_estimators=100; total time=   0.2s\n",
      "[CV] END max_depth=6, min_samples_leaf=3, min_samples_split=4, n_estimators=100; total time=   0.2s\n",
      "[CV] END max_depth=6, min_samples_leaf=3, min_samples_split=4, n_estimators=100; total time=   0.3s\n",
      "[CV] END max_depth=6, min_samples_leaf=3, min_samples_split=4, n_estimators=100; total time=   0.2s\n",
      "[CV] END max_depth=6, min_samples_leaf=3, min_samples_split=4, n_estimators=150; total time=   0.4s\n",
      "[CV] END max_depth=6, min_samples_leaf=3, min_samples_split=4, n_estimators=150; total time=   0.4s\n",
      "[CV] END max_depth=6, min_samples_leaf=3, min_samples_split=4, n_estimators=150; total time=   0.4s\n",
      "[CV] END max_depth=6, min_samples_leaf=3, min_samples_split=4, n_estimators=150; total time=   0.4s\n",
      "[CV] END max_depth=6, min_samples_leaf=3, min_samples_split=4, n_estimators=150; total time=   0.4s\n",
      "[CV] END max_depth=6, min_samples_leaf=3, min_samples_split=4, n_estimators=200; total time=   0.6s\n",
      "[CV] END max_depth=6, min_samples_leaf=3, min_samples_split=4, n_estimators=200; total time=   0.6s\n",
      "[CV] END max_depth=6, min_samples_leaf=3, min_samples_split=4, n_estimators=200; total time=   0.6s\n",
      "[CV] END max_depth=6, min_samples_leaf=3, min_samples_split=4, n_estimators=200; total time=   0.6s\n",
      "[CV] END max_depth=6, min_samples_leaf=3, min_samples_split=4, n_estimators=200; total time=   0.6s\n",
      "[CV] END max_depth=6, min_samples_leaf=4, min_samples_split=2, n_estimators=75; total time=   0.2s\n",
      "[CV] END max_depth=6, min_samples_leaf=4, min_samples_split=2, n_estimators=75; total time=   0.2s\n",
      "[CV] END max_depth=6, min_samples_leaf=4, min_samples_split=2, n_estimators=75; total time=   0.2s\n",
      "[CV] END max_depth=6, min_samples_leaf=4, min_samples_split=2, n_estimators=75; total time=   0.2s\n",
      "[CV] END max_depth=6, min_samples_leaf=4, min_samples_split=2, n_estimators=75; total time=   0.2s\n",
      "[CV] END max_depth=6, min_samples_leaf=4, min_samples_split=2, n_estimators=100; total time=   0.3s\n",
      "[CV] END max_depth=6, min_samples_leaf=4, min_samples_split=2, n_estimators=100; total time=   0.2s\n",
      "[CV] END max_depth=6, min_samples_leaf=4, min_samples_split=2, n_estimators=100; total time=   0.3s\n",
      "[CV] END max_depth=6, min_samples_leaf=4, min_samples_split=2, n_estimators=100; total time=   0.3s\n",
      "[CV] END max_depth=6, min_samples_leaf=4, min_samples_split=2, n_estimators=100; total time=   0.3s\n",
      "[CV] END max_depth=6, min_samples_leaf=4, min_samples_split=2, n_estimators=150; total time=   0.4s\n",
      "[CV] END max_depth=6, min_samples_leaf=4, min_samples_split=2, n_estimators=150; total time=   0.5s\n",
      "[CV] END max_depth=6, min_samples_leaf=4, min_samples_split=2, n_estimators=150; total time=   0.4s\n",
      "[CV] END max_depth=6, min_samples_leaf=4, min_samples_split=2, n_estimators=150; total time=   0.4s\n",
      "[CV] END max_depth=6, min_samples_leaf=4, min_samples_split=2, n_estimators=150; total time=   0.4s\n",
      "[CV] END max_depth=6, min_samples_leaf=4, min_samples_split=2, n_estimators=200; total time=   0.6s\n",
      "[CV] END max_depth=6, min_samples_leaf=4, min_samples_split=2, n_estimators=200; total time=   0.6s\n",
      "[CV] END max_depth=6, min_samples_leaf=4, min_samples_split=2, n_estimators=200; total time=   0.6s\n",
      "[CV] END max_depth=6, min_samples_leaf=4, min_samples_split=2, n_estimators=200; total time=   0.6s\n",
      "[CV] END max_depth=6, min_samples_leaf=4, min_samples_split=2, n_estimators=200; total time=   0.6s\n",
      "[CV] END max_depth=6, min_samples_leaf=4, min_samples_split=3, n_estimators=75; total time=   0.2s\n",
      "[CV] END max_depth=6, min_samples_leaf=4, min_samples_split=3, n_estimators=75; total time=   0.2s\n",
      "[CV] END max_depth=6, min_samples_leaf=4, min_samples_split=3, n_estimators=75; total time=   0.2s\n",
      "[CV] END max_depth=6, min_samples_leaf=4, min_samples_split=3, n_estimators=75; total time=   0.2s\n",
      "[CV] END max_depth=6, min_samples_leaf=4, min_samples_split=3, n_estimators=75; total time=   0.2s\n",
      "[CV] END max_depth=6, min_samples_leaf=4, min_samples_split=3, n_estimators=100; total time=   0.3s\n",
      "[CV] END max_depth=6, min_samples_leaf=4, min_samples_split=3, n_estimators=100; total time=   0.3s\n",
      "[CV] END max_depth=6, min_samples_leaf=4, min_samples_split=3, n_estimators=100; total time=   0.2s\n",
      "[CV] END max_depth=6, min_samples_leaf=4, min_samples_split=3, n_estimators=100; total time=   0.3s\n",
      "[CV] END max_depth=6, min_samples_leaf=4, min_samples_split=3, n_estimators=100; total time=   0.3s\n",
      "[CV] END max_depth=6, min_samples_leaf=4, min_samples_split=3, n_estimators=150; total time=   0.4s\n",
      "[CV] END max_depth=6, min_samples_leaf=4, min_samples_split=3, n_estimators=150; total time=   0.4s\n",
      "[CV] END max_depth=6, min_samples_leaf=4, min_samples_split=3, n_estimators=150; total time=   0.4s\n",
      "[CV] END max_depth=6, min_samples_leaf=4, min_samples_split=3, n_estimators=150; total time=   0.4s\n",
      "[CV] END max_depth=6, min_samples_leaf=4, min_samples_split=3, n_estimators=150; total time=   0.4s\n",
      "[CV] END max_depth=6, min_samples_leaf=4, min_samples_split=3, n_estimators=200; total time=   0.6s\n",
      "[CV] END max_depth=6, min_samples_leaf=4, min_samples_split=3, n_estimators=200; total time=   0.6s\n",
      "[CV] END max_depth=6, min_samples_leaf=4, min_samples_split=3, n_estimators=200; total time=   0.6s\n",
      "[CV] END max_depth=6, min_samples_leaf=4, min_samples_split=3, n_estimators=200; total time=   0.6s\n",
      "[CV] END max_depth=6, min_samples_leaf=4, min_samples_split=3, n_estimators=200; total time=   0.6s\n",
      "[CV] END max_depth=6, min_samples_leaf=4, min_samples_split=4, n_estimators=75; total time=   0.2s\n",
      "[CV] END max_depth=6, min_samples_leaf=4, min_samples_split=4, n_estimators=75; total time=   0.2s\n",
      "[CV] END max_depth=6, min_samples_leaf=4, min_samples_split=4, n_estimators=75; total time=   0.2s\n",
      "[CV] END max_depth=6, min_samples_leaf=4, min_samples_split=4, n_estimators=75; total time=   0.2s\n",
      "[CV] END max_depth=6, min_samples_leaf=4, min_samples_split=4, n_estimators=75; total time=   0.2s\n",
      "[CV] END max_depth=6, min_samples_leaf=4, min_samples_split=4, n_estimators=100; total time=   0.3s\n",
      "[CV] END max_depth=6, min_samples_leaf=4, min_samples_split=4, n_estimators=100; total time=   0.3s\n",
      "[CV] END max_depth=6, min_samples_leaf=4, min_samples_split=4, n_estimators=100; total time=   0.2s\n",
      "[CV] END max_depth=6, min_samples_leaf=4, min_samples_split=4, n_estimators=100; total time=   0.3s\n",
      "[CV] END max_depth=6, min_samples_leaf=4, min_samples_split=4, n_estimators=100; total time=   0.3s\n",
      "[CV] END max_depth=6, min_samples_leaf=4, min_samples_split=4, n_estimators=150; total time=   0.4s\n",
      "[CV] END max_depth=6, min_samples_leaf=4, min_samples_split=4, n_estimators=150; total time=   0.4s\n",
      "[CV] END max_depth=6, min_samples_leaf=4, min_samples_split=4, n_estimators=150; total time=   0.4s\n",
      "[CV] END max_depth=6, min_samples_leaf=4, min_samples_split=4, n_estimators=150; total time=   0.4s\n",
      "[CV] END max_depth=6, min_samples_leaf=4, min_samples_split=4, n_estimators=150; total time=   0.4s\n",
      "[CV] END max_depth=6, min_samples_leaf=4, min_samples_split=4, n_estimators=200; total time=   0.6s\n",
      "[CV] END max_depth=6, min_samples_leaf=4, min_samples_split=4, n_estimators=200; total time=   0.6s\n",
      "[CV] END max_depth=6, min_samples_leaf=4, min_samples_split=4, n_estimators=200; total time=   0.6s\n",
      "[CV] END max_depth=6, min_samples_leaf=4, min_samples_split=4, n_estimators=200; total time=   0.6s\n",
      "[CV] END max_depth=6, min_samples_leaf=4, min_samples_split=4, n_estimators=200; total time=   0.6s\n",
      "[CV] END max_depth=7, min_samples_leaf=2, min_samples_split=2, n_estimators=75; total time=   0.2s\n",
      "[CV] END max_depth=7, min_samples_leaf=2, min_samples_split=2, n_estimators=75; total time=   0.2s\n",
      "[CV] END max_depth=7, min_samples_leaf=2, min_samples_split=2, n_estimators=75; total time=   0.2s\n",
      "[CV] END max_depth=7, min_samples_leaf=2, min_samples_split=2, n_estimators=75; total time=   0.2s\n",
      "[CV] END max_depth=7, min_samples_leaf=2, min_samples_split=2, n_estimators=75; total time=   0.2s\n",
      "[CV] END max_depth=7, min_samples_leaf=2, min_samples_split=2, n_estimators=100; total time=   0.3s\n",
      "[CV] END max_depth=7, min_samples_leaf=2, min_samples_split=2, n_estimators=100; total time=   0.3s\n",
      "[CV] END max_depth=7, min_samples_leaf=2, min_samples_split=2, n_estimators=100; total time=   0.3s\n",
      "[CV] END max_depth=7, min_samples_leaf=2, min_samples_split=2, n_estimators=100; total time=   0.3s\n",
      "[CV] END max_depth=7, min_samples_leaf=2, min_samples_split=2, n_estimators=100; total time=   0.3s\n",
      "[CV] END max_depth=7, min_samples_leaf=2, min_samples_split=2, n_estimators=150; total time=   0.4s\n",
      "[CV] END max_depth=7, min_samples_leaf=2, min_samples_split=2, n_estimators=150; total time=   0.4s\n",
      "[CV] END max_depth=7, min_samples_leaf=2, min_samples_split=2, n_estimators=150; total time=   0.4s\n",
      "[CV] END max_depth=7, min_samples_leaf=2, min_samples_split=2, n_estimators=150; total time=   0.4s\n",
      "[CV] END max_depth=7, min_samples_leaf=2, min_samples_split=2, n_estimators=150; total time=   0.5s\n",
      "[CV] END max_depth=7, min_samples_leaf=2, min_samples_split=2, n_estimators=200; total time=   0.8s\n",
      "[CV] END max_depth=7, min_samples_leaf=2, min_samples_split=2, n_estimators=200; total time=   0.8s\n",
      "[CV] END max_depth=7, min_samples_leaf=2, min_samples_split=2, n_estimators=200; total time=   0.6s\n",
      "[CV] END max_depth=7, min_samples_leaf=2, min_samples_split=2, n_estimators=200; total time=   0.6s\n",
      "[CV] END max_depth=7, min_samples_leaf=2, min_samples_split=2, n_estimators=200; total time=   0.6s\n",
      "[CV] END max_depth=7, min_samples_leaf=2, min_samples_split=3, n_estimators=75; total time=   0.2s\n",
      "[CV] END max_depth=7, min_samples_leaf=2, min_samples_split=3, n_estimators=75; total time=   0.2s\n",
      "[CV] END max_depth=7, min_samples_leaf=2, min_samples_split=3, n_estimators=75; total time=   0.2s\n",
      "[CV] END max_depth=7, min_samples_leaf=2, min_samples_split=3, n_estimators=75; total time=   0.2s\n",
      "[CV] END max_depth=7, min_samples_leaf=2, min_samples_split=3, n_estimators=75; total time=   0.2s\n",
      "[CV] END max_depth=7, min_samples_leaf=2, min_samples_split=3, n_estimators=100; total time=   0.3s\n",
      "[CV] END max_depth=7, min_samples_leaf=2, min_samples_split=3, n_estimators=100; total time=   0.2s\n",
      "[CV] END max_depth=7, min_samples_leaf=2, min_samples_split=3, n_estimators=100; total time=   0.3s\n",
      "[CV] END max_depth=7, min_samples_leaf=2, min_samples_split=3, n_estimators=100; total time=   0.3s\n",
      "[CV] END max_depth=7, min_samples_leaf=2, min_samples_split=3, n_estimators=100; total time=   0.3s\n",
      "[CV] END max_depth=7, min_samples_leaf=2, min_samples_split=3, n_estimators=150; total time=   0.4s\n",
      "[CV] END max_depth=7, min_samples_leaf=2, min_samples_split=3, n_estimators=150; total time=   0.4s\n",
      "[CV] END max_depth=7, min_samples_leaf=2, min_samples_split=3, n_estimators=150; total time=   0.4s\n",
      "[CV] END max_depth=7, min_samples_leaf=2, min_samples_split=3, n_estimators=150; total time=   0.5s\n",
      "[CV] END max_depth=7, min_samples_leaf=2, min_samples_split=3, n_estimators=150; total time=   0.4s\n",
      "[CV] END max_depth=7, min_samples_leaf=2, min_samples_split=3, n_estimators=200; total time=   0.6s\n",
      "[CV] END max_depth=7, min_samples_leaf=2, min_samples_split=3, n_estimators=200; total time=   0.6s\n",
      "[CV] END max_depth=7, min_samples_leaf=2, min_samples_split=3, n_estimators=200; total time=   0.6s\n",
      "[CV] END max_depth=7, min_samples_leaf=2, min_samples_split=3, n_estimators=200; total time=   0.6s\n",
      "[CV] END max_depth=7, min_samples_leaf=2, min_samples_split=3, n_estimators=200; total time=   0.6s\n",
      "[CV] END max_depth=7, min_samples_leaf=2, min_samples_split=4, n_estimators=75; total time=   0.2s\n",
      "[CV] END max_depth=7, min_samples_leaf=2, min_samples_split=4, n_estimators=75; total time=   0.2s\n",
      "[CV] END max_depth=7, min_samples_leaf=2, min_samples_split=4, n_estimators=75; total time=   0.2s\n",
      "[CV] END max_depth=7, min_samples_leaf=2, min_samples_split=4, n_estimators=75; total time=   0.2s\n",
      "[CV] END max_depth=7, min_samples_leaf=2, min_samples_split=4, n_estimators=75; total time=   0.2s\n",
      "[CV] END max_depth=7, min_samples_leaf=2, min_samples_split=4, n_estimators=100; total time=   0.3s\n",
      "[CV] END max_depth=7, min_samples_leaf=2, min_samples_split=4, n_estimators=100; total time=   0.3s\n",
      "[CV] END max_depth=7, min_samples_leaf=2, min_samples_split=4, n_estimators=100; total time=   0.3s\n",
      "[CV] END max_depth=7, min_samples_leaf=2, min_samples_split=4, n_estimators=100; total time=   0.3s\n",
      "[CV] END max_depth=7, min_samples_leaf=2, min_samples_split=4, n_estimators=100; total time=   0.3s\n",
      "[CV] END max_depth=7, min_samples_leaf=2, min_samples_split=4, n_estimators=150; total time=   0.4s\n",
      "[CV] END max_depth=7, min_samples_leaf=2, min_samples_split=4, n_estimators=150; total time=   0.4s\n",
      "[CV] END max_depth=7, min_samples_leaf=2, min_samples_split=4, n_estimators=150; total time=   0.4s\n",
      "[CV] END max_depth=7, min_samples_leaf=2, min_samples_split=4, n_estimators=150; total time=   0.4s\n",
      "[CV] END max_depth=7, min_samples_leaf=2, min_samples_split=4, n_estimators=150; total time=   0.4s\n",
      "[CV] END max_depth=7, min_samples_leaf=2, min_samples_split=4, n_estimators=200; total time=   0.6s\n",
      "[CV] END max_depth=7, min_samples_leaf=2, min_samples_split=4, n_estimators=200; total time=   0.6s\n",
      "[CV] END max_depth=7, min_samples_leaf=2, min_samples_split=4, n_estimators=200; total time=   0.6s\n",
      "[CV] END max_depth=7, min_samples_leaf=2, min_samples_split=4, n_estimators=200; total time=   0.6s\n",
      "[CV] END max_depth=7, min_samples_leaf=2, min_samples_split=4, n_estimators=200; total time=   0.6s\n",
      "[CV] END max_depth=7, min_samples_leaf=3, min_samples_split=2, n_estimators=75; total time=   0.2s\n",
      "[CV] END max_depth=7, min_samples_leaf=3, min_samples_split=2, n_estimators=75; total time=   0.2s\n",
      "[CV] END max_depth=7, min_samples_leaf=3, min_samples_split=2, n_estimators=75; total time=   0.2s\n",
      "[CV] END max_depth=7, min_samples_leaf=3, min_samples_split=2, n_estimators=75; total time=   0.2s\n",
      "[CV] END max_depth=7, min_samples_leaf=3, min_samples_split=2, n_estimators=75; total time=   0.2s\n",
      "[CV] END max_depth=7, min_samples_leaf=3, min_samples_split=2, n_estimators=100; total time=   0.3s\n",
      "[CV] END max_depth=7, min_samples_leaf=3, min_samples_split=2, n_estimators=100; total time=   0.3s\n",
      "[CV] END max_depth=7, min_samples_leaf=3, min_samples_split=2, n_estimators=100; total time=   0.3s\n",
      "[CV] END max_depth=7, min_samples_leaf=3, min_samples_split=2, n_estimators=100; total time=   0.3s\n",
      "[CV] END max_depth=7, min_samples_leaf=3, min_samples_split=2, n_estimators=100; total time=   0.3s\n",
      "[CV] END max_depth=7, min_samples_leaf=3, min_samples_split=2, n_estimators=150; total time=   0.4s\n",
      "[CV] END max_depth=7, min_samples_leaf=3, min_samples_split=2, n_estimators=150; total time=   0.4s\n",
      "[CV] END max_depth=7, min_samples_leaf=3, min_samples_split=2, n_estimators=150; total time=   0.4s\n",
      "[CV] END max_depth=7, min_samples_leaf=3, min_samples_split=2, n_estimators=150; total time=   0.4s\n",
      "[CV] END max_depth=7, min_samples_leaf=3, min_samples_split=2, n_estimators=150; total time=   0.4s\n",
      "[CV] END max_depth=7, min_samples_leaf=3, min_samples_split=2, n_estimators=200; total time=   0.6s\n",
      "[CV] END max_depth=7, min_samples_leaf=3, min_samples_split=2, n_estimators=200; total time=   0.6s\n",
      "[CV] END max_depth=7, min_samples_leaf=3, min_samples_split=2, n_estimators=200; total time=   0.6s\n",
      "[CV] END max_depth=7, min_samples_leaf=3, min_samples_split=2, n_estimators=200; total time=   0.6s\n",
      "[CV] END max_depth=7, min_samples_leaf=3, min_samples_split=2, n_estimators=200; total time=   0.6s\n",
      "[CV] END max_depth=7, min_samples_leaf=3, min_samples_split=3, n_estimators=75; total time=   0.2s\n",
      "[CV] END max_depth=7, min_samples_leaf=3, min_samples_split=3, n_estimators=75; total time=   0.2s\n",
      "[CV] END max_depth=7, min_samples_leaf=3, min_samples_split=3, n_estimators=75; total time=   0.2s\n",
      "[CV] END max_depth=7, min_samples_leaf=3, min_samples_split=3, n_estimators=75; total time=   0.2s\n",
      "[CV] END max_depth=7, min_samples_leaf=3, min_samples_split=3, n_estimators=75; total time=   0.2s\n",
      "[CV] END max_depth=7, min_samples_leaf=3, min_samples_split=3, n_estimators=100; total time=   0.3s\n",
      "[CV] END max_depth=7, min_samples_leaf=3, min_samples_split=3, n_estimators=100; total time=   0.2s\n",
      "[CV] END max_depth=7, min_samples_leaf=3, min_samples_split=3, n_estimators=100; total time=   0.3s\n",
      "[CV] END max_depth=7, min_samples_leaf=3, min_samples_split=3, n_estimators=100; total time=   0.3s\n",
      "[CV] END max_depth=7, min_samples_leaf=3, min_samples_split=3, n_estimators=100; total time=   0.3s\n",
      "[CV] END max_depth=7, min_samples_leaf=3, min_samples_split=3, n_estimators=150; total time=   0.4s\n",
      "[CV] END max_depth=7, min_samples_leaf=3, min_samples_split=3, n_estimators=150; total time=   0.4s\n",
      "[CV] END max_depth=7, min_samples_leaf=3, min_samples_split=3, n_estimators=150; total time=   0.4s\n",
      "[CV] END max_depth=7, min_samples_leaf=3, min_samples_split=3, n_estimators=150; total time=   0.4s\n",
      "[CV] END max_depth=7, min_samples_leaf=3, min_samples_split=3, n_estimators=150; total time=   0.4s\n",
      "[CV] END max_depth=7, min_samples_leaf=3, min_samples_split=3, n_estimators=200; total time=   0.6s\n",
      "[CV] END max_depth=7, min_samples_leaf=3, min_samples_split=3, n_estimators=200; total time=   0.6s\n",
      "[CV] END max_depth=7, min_samples_leaf=3, min_samples_split=3, n_estimators=200; total time=   0.6s\n",
      "[CV] END max_depth=7, min_samples_leaf=3, min_samples_split=3, n_estimators=200; total time=   0.6s\n",
      "[CV] END max_depth=7, min_samples_leaf=3, min_samples_split=3, n_estimators=200; total time=   0.6s\n",
      "[CV] END max_depth=7, min_samples_leaf=3, min_samples_split=4, n_estimators=75; total time=   0.2s\n",
      "[CV] END max_depth=7, min_samples_leaf=3, min_samples_split=4, n_estimators=75; total time=   0.2s\n",
      "[CV] END max_depth=7, min_samples_leaf=3, min_samples_split=4, n_estimators=75; total time=   0.2s\n",
      "[CV] END max_depth=7, min_samples_leaf=3, min_samples_split=4, n_estimators=75; total time=   0.2s\n",
      "[CV] END max_depth=7, min_samples_leaf=3, min_samples_split=4, n_estimators=75; total time=   0.2s\n",
      "[CV] END max_depth=7, min_samples_leaf=3, min_samples_split=4, n_estimators=100; total time=   0.3s\n",
      "[CV] END max_depth=7, min_samples_leaf=3, min_samples_split=4, n_estimators=100; total time=   0.3s\n",
      "[CV] END max_depth=7, min_samples_leaf=3, min_samples_split=4, n_estimators=100; total time=   0.3s\n",
      "[CV] END max_depth=7, min_samples_leaf=3, min_samples_split=4, n_estimators=100; total time=   0.3s\n",
      "[CV] END max_depth=7, min_samples_leaf=3, min_samples_split=4, n_estimators=100; total time=   0.2s\n",
      "[CV] END max_depth=7, min_samples_leaf=3, min_samples_split=4, n_estimators=150; total time=   0.4s\n",
      "[CV] END max_depth=7, min_samples_leaf=3, min_samples_split=4, n_estimators=150; total time=   0.4s\n",
      "[CV] END max_depth=7, min_samples_leaf=3, min_samples_split=4, n_estimators=150; total time=   0.4s\n",
      "[CV] END max_depth=7, min_samples_leaf=3, min_samples_split=4, n_estimators=150; total time=   0.4s\n",
      "[CV] END max_depth=7, min_samples_leaf=3, min_samples_split=4, n_estimators=150; total time=   0.4s\n",
      "[CV] END max_depth=7, min_samples_leaf=3, min_samples_split=4, n_estimators=200; total time=   0.6s\n",
      "[CV] END max_depth=7, min_samples_leaf=3, min_samples_split=4, n_estimators=200; total time=   0.6s\n",
      "[CV] END max_depth=7, min_samples_leaf=3, min_samples_split=4, n_estimators=200; total time=   0.6s\n",
      "[CV] END max_depth=7, min_samples_leaf=3, min_samples_split=4, n_estimators=200; total time=   0.6s\n",
      "[CV] END max_depth=7, min_samples_leaf=3, min_samples_split=4, n_estimators=200; total time=   0.6s\n",
      "[CV] END max_depth=7, min_samples_leaf=4, min_samples_split=2, n_estimators=75; total time=   0.2s\n",
      "[CV] END max_depth=7, min_samples_leaf=4, min_samples_split=2, n_estimators=75; total time=   0.2s\n",
      "[CV] END max_depth=7, min_samples_leaf=4, min_samples_split=2, n_estimators=75; total time=   0.2s\n",
      "[CV] END max_depth=7, min_samples_leaf=4, min_samples_split=2, n_estimators=75; total time=   0.2s\n",
      "[CV] END max_depth=7, min_samples_leaf=4, min_samples_split=2, n_estimators=75; total time=   0.2s\n",
      "[CV] END max_depth=7, min_samples_leaf=4, min_samples_split=2, n_estimators=100; total time=   0.3s\n",
      "[CV] END max_depth=7, min_samples_leaf=4, min_samples_split=2, n_estimators=100; total time=   0.3s\n",
      "[CV] END max_depth=7, min_samples_leaf=4, min_samples_split=2, n_estimators=100; total time=   0.3s\n",
      "[CV] END max_depth=7, min_samples_leaf=4, min_samples_split=2, n_estimators=100; total time=   0.3s\n",
      "[CV] END max_depth=7, min_samples_leaf=4, min_samples_split=2, n_estimators=100; total time=   0.3s\n",
      "[CV] END max_depth=7, min_samples_leaf=4, min_samples_split=2, n_estimators=150; total time=   0.4s\n",
      "[CV] END max_depth=7, min_samples_leaf=4, min_samples_split=2, n_estimators=150; total time=   0.4s\n",
      "[CV] END max_depth=7, min_samples_leaf=4, min_samples_split=2, n_estimators=150; total time=   0.4s\n",
      "[CV] END max_depth=7, min_samples_leaf=4, min_samples_split=2, n_estimators=150; total time=   0.4s\n",
      "[CV] END max_depth=7, min_samples_leaf=4, min_samples_split=2, n_estimators=150; total time=   0.4s\n",
      "[CV] END max_depth=7, min_samples_leaf=4, min_samples_split=2, n_estimators=200; total time=   0.6s\n",
      "[CV] END max_depth=7, min_samples_leaf=4, min_samples_split=2, n_estimators=200; total time=   0.6s\n",
      "[CV] END max_depth=7, min_samples_leaf=4, min_samples_split=2, n_estimators=200; total time=   0.6s\n",
      "[CV] END max_depth=7, min_samples_leaf=4, min_samples_split=2, n_estimators=200; total time=   0.6s\n",
      "[CV] END max_depth=7, min_samples_leaf=4, min_samples_split=2, n_estimators=200; total time=   0.6s\n",
      "[CV] END max_depth=7, min_samples_leaf=4, min_samples_split=3, n_estimators=75; total time=   0.2s\n",
      "[CV] END max_depth=7, min_samples_leaf=4, min_samples_split=3, n_estimators=75; total time=   0.2s\n",
      "[CV] END max_depth=7, min_samples_leaf=4, min_samples_split=3, n_estimators=75; total time=   0.2s\n",
      "[CV] END max_depth=7, min_samples_leaf=4, min_samples_split=3, n_estimators=75; total time=   0.2s\n",
      "[CV] END max_depth=7, min_samples_leaf=4, min_samples_split=3, n_estimators=75; total time=   0.2s\n",
      "[CV] END max_depth=7, min_samples_leaf=4, min_samples_split=3, n_estimators=100; total time=   0.2s\n",
      "[CV] END max_depth=7, min_samples_leaf=4, min_samples_split=3, n_estimators=100; total time=   0.3s\n",
      "[CV] END max_depth=7, min_samples_leaf=4, min_samples_split=3, n_estimators=100; total time=   0.3s\n",
      "[CV] END max_depth=7, min_samples_leaf=4, min_samples_split=3, n_estimators=100; total time=   0.2s\n",
      "[CV] END max_depth=7, min_samples_leaf=4, min_samples_split=3, n_estimators=100; total time=   0.3s\n",
      "[CV] END max_depth=7, min_samples_leaf=4, min_samples_split=3, n_estimators=150; total time=   0.4s\n",
      "[CV] END max_depth=7, min_samples_leaf=4, min_samples_split=3, n_estimators=150; total time=   0.4s\n",
      "[CV] END max_depth=7, min_samples_leaf=4, min_samples_split=3, n_estimators=150; total time=   0.4s\n",
      "[CV] END max_depth=7, min_samples_leaf=4, min_samples_split=3, n_estimators=150; total time=   0.4s\n",
      "[CV] END max_depth=7, min_samples_leaf=4, min_samples_split=3, n_estimators=150; total time=   0.4s\n",
      "[CV] END max_depth=7, min_samples_leaf=4, min_samples_split=3, n_estimators=200; total time=   0.6s\n",
      "[CV] END max_depth=7, min_samples_leaf=4, min_samples_split=3, n_estimators=200; total time=   0.6s\n",
      "[CV] END max_depth=7, min_samples_leaf=4, min_samples_split=3, n_estimators=200; total time=   0.7s\n",
      "[CV] END max_depth=7, min_samples_leaf=4, min_samples_split=3, n_estimators=200; total time=   0.6s\n",
      "[CV] END max_depth=7, min_samples_leaf=4, min_samples_split=3, n_estimators=200; total time=   0.6s\n",
      "[CV] END max_depth=7, min_samples_leaf=4, min_samples_split=4, n_estimators=75; total time=   0.2s\n",
      "[CV] END max_depth=7, min_samples_leaf=4, min_samples_split=4, n_estimators=75; total time=   0.2s\n",
      "[CV] END max_depth=7, min_samples_leaf=4, min_samples_split=4, n_estimators=75; total time=   0.2s\n",
      "[CV] END max_depth=7, min_samples_leaf=4, min_samples_split=4, n_estimators=75; total time=   0.2s\n",
      "[CV] END max_depth=7, min_samples_leaf=4, min_samples_split=4, n_estimators=75; total time=   0.2s\n",
      "[CV] END max_depth=7, min_samples_leaf=4, min_samples_split=4, n_estimators=100; total time=   0.3s\n",
      "[CV] END max_depth=7, min_samples_leaf=4, min_samples_split=4, n_estimators=100; total time=   0.3s\n",
      "[CV] END max_depth=7, min_samples_leaf=4, min_samples_split=4, n_estimators=100; total time=   0.3s\n",
      "[CV] END max_depth=7, min_samples_leaf=4, min_samples_split=4, n_estimators=100; total time=   0.2s\n",
      "[CV] END max_depth=7, min_samples_leaf=4, min_samples_split=4, n_estimators=100; total time=   0.2s\n",
      "[CV] END max_depth=7, min_samples_leaf=4, min_samples_split=4, n_estimators=150; total time=   0.5s\n",
      "[CV] END max_depth=7, min_samples_leaf=4, min_samples_split=4, n_estimators=150; total time=   0.4s\n",
      "[CV] END max_depth=7, min_samples_leaf=4, min_samples_split=4, n_estimators=150; total time=   0.4s\n",
      "[CV] END max_depth=7, min_samples_leaf=4, min_samples_split=4, n_estimators=150; total time=   0.4s\n",
      "[CV] END max_depth=7, min_samples_leaf=4, min_samples_split=4, n_estimators=150; total time=   0.4s\n",
      "[CV] END max_depth=7, min_samples_leaf=4, min_samples_split=4, n_estimators=200; total time=   0.6s\n",
      "[CV] END max_depth=7, min_samples_leaf=4, min_samples_split=4, n_estimators=200; total time=   0.6s\n",
      "[CV] END max_depth=7, min_samples_leaf=4, min_samples_split=4, n_estimators=200; total time=   0.6s\n",
      "[CV] END max_depth=7, min_samples_leaf=4, min_samples_split=4, n_estimators=200; total time=   0.6s\n",
      "[CV] END max_depth=7, min_samples_leaf=4, min_samples_split=4, n_estimators=200; total time=   0.6s\n",
      "[CV] END max_depth=8, min_samples_leaf=2, min_samples_split=2, n_estimators=75; total time=   0.2s\n",
      "[CV] END max_depth=8, min_samples_leaf=2, min_samples_split=2, n_estimators=75; total time=   0.2s\n",
      "[CV] END max_depth=8, min_samples_leaf=2, min_samples_split=2, n_estimators=75; total time=   0.2s\n",
      "[CV] END max_depth=8, min_samples_leaf=2, min_samples_split=2, n_estimators=75; total time=   0.2s\n",
      "[CV] END max_depth=8, min_samples_leaf=2, min_samples_split=2, n_estimators=75; total time=   0.2s\n",
      "[CV] END max_depth=8, min_samples_leaf=2, min_samples_split=2, n_estimators=100; total time=   0.6s\n",
      "[CV] END max_depth=8, min_samples_leaf=2, min_samples_split=2, n_estimators=100; total time=   0.4s\n",
      "[CV] END max_depth=8, min_samples_leaf=2, min_samples_split=2, n_estimators=100; total time=   0.3s\n",
      "[CV] END max_depth=8, min_samples_leaf=2, min_samples_split=2, n_estimators=100; total time=   0.3s\n",
      "[CV] END max_depth=8, min_samples_leaf=2, min_samples_split=2, n_estimators=100; total time=   0.3s\n",
      "[CV] END max_depth=8, min_samples_leaf=2, min_samples_split=2, n_estimators=150; total time=   0.4s\n",
      "[CV] END max_depth=8, min_samples_leaf=2, min_samples_split=2, n_estimators=150; total time=   0.4s\n",
      "[CV] END max_depth=8, min_samples_leaf=2, min_samples_split=2, n_estimators=150; total time=   0.4s\n",
      "[CV] END max_depth=8, min_samples_leaf=2, min_samples_split=2, n_estimators=150; total time=   0.4s\n",
      "[CV] END max_depth=8, min_samples_leaf=2, min_samples_split=2, n_estimators=150; total time=   0.4s\n",
      "[CV] END max_depth=8, min_samples_leaf=2, min_samples_split=2, n_estimators=200; total time=   0.6s\n",
      "[CV] END max_depth=8, min_samples_leaf=2, min_samples_split=2, n_estimators=200; total time=   0.6s\n",
      "[CV] END max_depth=8, min_samples_leaf=2, min_samples_split=2, n_estimators=200; total time=   0.6s\n",
      "[CV] END max_depth=8, min_samples_leaf=2, min_samples_split=2, n_estimators=200; total time=   0.6s\n",
      "[CV] END max_depth=8, min_samples_leaf=2, min_samples_split=2, n_estimators=200; total time=   0.6s\n",
      "[CV] END max_depth=8, min_samples_leaf=2, min_samples_split=3, n_estimators=75; total time=   0.2s\n",
      "[CV] END max_depth=8, min_samples_leaf=2, min_samples_split=3, n_estimators=75; total time=   0.2s\n",
      "[CV] END max_depth=8, min_samples_leaf=2, min_samples_split=3, n_estimators=75; total time=   0.2s\n",
      "[CV] END max_depth=8, min_samples_leaf=2, min_samples_split=3, n_estimators=75; total time=   0.2s\n",
      "[CV] END max_depth=8, min_samples_leaf=2, min_samples_split=3, n_estimators=75; total time=   0.2s\n",
      "[CV] END max_depth=8, min_samples_leaf=2, min_samples_split=3, n_estimators=100; total time=   0.3s\n",
      "[CV] END max_depth=8, min_samples_leaf=2, min_samples_split=3, n_estimators=100; total time=   0.3s\n",
      "[CV] END max_depth=8, min_samples_leaf=2, min_samples_split=3, n_estimators=100; total time=   0.3s\n",
      "[CV] END max_depth=8, min_samples_leaf=2, min_samples_split=3, n_estimators=100; total time=   0.3s\n",
      "[CV] END max_depth=8, min_samples_leaf=2, min_samples_split=3, n_estimators=100; total time=   0.3s\n",
      "[CV] END max_depth=8, min_samples_leaf=2, min_samples_split=3, n_estimators=150; total time=   0.5s\n",
      "[CV] END max_depth=8, min_samples_leaf=2, min_samples_split=3, n_estimators=150; total time=   0.4s\n",
      "[CV] END max_depth=8, min_samples_leaf=2, min_samples_split=3, n_estimators=150; total time=   0.4s\n",
      "[CV] END max_depth=8, min_samples_leaf=2, min_samples_split=3, n_estimators=150; total time=   0.4s\n",
      "[CV] END max_depth=8, min_samples_leaf=2, min_samples_split=3, n_estimators=150; total time=   0.4s\n",
      "[CV] END max_depth=8, min_samples_leaf=2, min_samples_split=3, n_estimators=200; total time=   0.6s\n",
      "[CV] END max_depth=8, min_samples_leaf=2, min_samples_split=3, n_estimators=200; total time=   0.6s\n",
      "[CV] END max_depth=8, min_samples_leaf=2, min_samples_split=3, n_estimators=200; total time=   0.6s\n",
      "[CV] END max_depth=8, min_samples_leaf=2, min_samples_split=3, n_estimators=200; total time=   0.6s\n",
      "[CV] END max_depth=8, min_samples_leaf=2, min_samples_split=3, n_estimators=200; total time=   0.6s\n",
      "[CV] END max_depth=8, min_samples_leaf=2, min_samples_split=4, n_estimators=75; total time=   0.2s\n",
      "[CV] END max_depth=8, min_samples_leaf=2, min_samples_split=4, n_estimators=75; total time=   0.2s\n",
      "[CV] END max_depth=8, min_samples_leaf=2, min_samples_split=4, n_estimators=75; total time=   0.2s\n",
      "[CV] END max_depth=8, min_samples_leaf=2, min_samples_split=4, n_estimators=75; total time=   0.2s\n",
      "[CV] END max_depth=8, min_samples_leaf=2, min_samples_split=4, n_estimators=75; total time=   0.2s\n",
      "[CV] END max_depth=8, min_samples_leaf=2, min_samples_split=4, n_estimators=100; total time=   0.3s\n",
      "[CV] END max_depth=8, min_samples_leaf=2, min_samples_split=4, n_estimators=100; total time=   0.3s\n",
      "[CV] END max_depth=8, min_samples_leaf=2, min_samples_split=4, n_estimators=100; total time=   0.3s\n",
      "[CV] END max_depth=8, min_samples_leaf=2, min_samples_split=4, n_estimators=100; total time=   0.3s\n",
      "[CV] END max_depth=8, min_samples_leaf=2, min_samples_split=4, n_estimators=100; total time=   0.3s\n",
      "[CV] END max_depth=8, min_samples_leaf=2, min_samples_split=4, n_estimators=150; total time=   0.4s\n",
      "[CV] END max_depth=8, min_samples_leaf=2, min_samples_split=4, n_estimators=150; total time=   0.5s\n",
      "[CV] END max_depth=8, min_samples_leaf=2, min_samples_split=4, n_estimators=150; total time=   0.4s\n",
      "[CV] END max_depth=8, min_samples_leaf=2, min_samples_split=4, n_estimators=150; total time=   0.4s\n",
      "[CV] END max_depth=8, min_samples_leaf=2, min_samples_split=4, n_estimators=150; total time=   0.5s\n",
      "[CV] END max_depth=8, min_samples_leaf=2, min_samples_split=4, n_estimators=200; total time=   0.6s\n",
      "[CV] END max_depth=8, min_samples_leaf=2, min_samples_split=4, n_estimators=200; total time=   0.6s\n",
      "[CV] END max_depth=8, min_samples_leaf=2, min_samples_split=4, n_estimators=200; total time=   0.6s\n",
      "[CV] END max_depth=8, min_samples_leaf=2, min_samples_split=4, n_estimators=200; total time=   0.6s\n",
      "[CV] END max_depth=8, min_samples_leaf=2, min_samples_split=4, n_estimators=200; total time=   0.6s\n",
      "[CV] END max_depth=8, min_samples_leaf=3, min_samples_split=2, n_estimators=75; total time=   0.2s\n",
      "[CV] END max_depth=8, min_samples_leaf=3, min_samples_split=2, n_estimators=75; total time=   0.2s\n",
      "[CV] END max_depth=8, min_samples_leaf=3, min_samples_split=2, n_estimators=75; total time=   0.2s\n",
      "[CV] END max_depth=8, min_samples_leaf=3, min_samples_split=2, n_estimators=75; total time=   0.2s\n",
      "[CV] END max_depth=8, min_samples_leaf=3, min_samples_split=2, n_estimators=75; total time=   0.2s\n",
      "[CV] END max_depth=8, min_samples_leaf=3, min_samples_split=2, n_estimators=100; total time=   0.3s\n",
      "[CV] END max_depth=8, min_samples_leaf=3, min_samples_split=2, n_estimators=100; total time=   0.3s\n",
      "[CV] END max_depth=8, min_samples_leaf=3, min_samples_split=2, n_estimators=100; total time=   0.3s\n",
      "[CV] END max_depth=8, min_samples_leaf=3, min_samples_split=2, n_estimators=100; total time=   0.3s\n",
      "[CV] END max_depth=8, min_samples_leaf=3, min_samples_split=2, n_estimators=100; total time=   0.3s\n",
      "[CV] END max_depth=8, min_samples_leaf=3, min_samples_split=2, n_estimators=150; total time=   0.5s\n",
      "[CV] END max_depth=8, min_samples_leaf=3, min_samples_split=2, n_estimators=150; total time=   0.4s\n",
      "[CV] END max_depth=8, min_samples_leaf=3, min_samples_split=2, n_estimators=150; total time=   0.4s\n",
      "[CV] END max_depth=8, min_samples_leaf=3, min_samples_split=2, n_estimators=150; total time=   0.4s\n",
      "[CV] END max_depth=8, min_samples_leaf=3, min_samples_split=2, n_estimators=150; total time=   0.4s\n",
      "[CV] END max_depth=8, min_samples_leaf=3, min_samples_split=2, n_estimators=200; total time=   0.6s\n",
      "[CV] END max_depth=8, min_samples_leaf=3, min_samples_split=2, n_estimators=200; total time=   0.6s\n",
      "[CV] END max_depth=8, min_samples_leaf=3, min_samples_split=2, n_estimators=200; total time=   0.7s\n",
      "[CV] END max_depth=8, min_samples_leaf=3, min_samples_split=2, n_estimators=200; total time=   0.7s\n",
      "[CV] END max_depth=8, min_samples_leaf=3, min_samples_split=2, n_estimators=200; total time=   0.7s\n",
      "[CV] END max_depth=8, min_samples_leaf=3, min_samples_split=3, n_estimators=75; total time=   0.2s\n",
      "[CV] END max_depth=8, min_samples_leaf=3, min_samples_split=3, n_estimators=75; total time=   0.2s\n",
      "[CV] END max_depth=8, min_samples_leaf=3, min_samples_split=3, n_estimators=75; total time=   0.2s\n",
      "[CV] END max_depth=8, min_samples_leaf=3, min_samples_split=3, n_estimators=75; total time=   0.4s\n",
      "[CV] END max_depth=8, min_samples_leaf=3, min_samples_split=3, n_estimators=75; total time=   0.3s\n",
      "[CV] END max_depth=8, min_samples_leaf=3, min_samples_split=3, n_estimators=100; total time=   0.3s\n",
      "[CV] END max_depth=8, min_samples_leaf=3, min_samples_split=3, n_estimators=100; total time=   0.2s\n",
      "[CV] END max_depth=8, min_samples_leaf=3, min_samples_split=3, n_estimators=100; total time=   0.3s\n",
      "[CV] END max_depth=8, min_samples_leaf=3, min_samples_split=3, n_estimators=100; total time=   0.4s\n",
      "[CV] END max_depth=8, min_samples_leaf=3, min_samples_split=3, n_estimators=100; total time=   0.4s\n",
      "[CV] END max_depth=8, min_samples_leaf=3, min_samples_split=3, n_estimators=150; total time=   0.5s\n",
      "[CV] END max_depth=8, min_samples_leaf=3, min_samples_split=3, n_estimators=150; total time=   0.5s\n",
      "[CV] END max_depth=8, min_samples_leaf=3, min_samples_split=3, n_estimators=150; total time=   0.7s\n",
      "[CV] END max_depth=8, min_samples_leaf=3, min_samples_split=3, n_estimators=150; total time=   0.5s\n",
      "[CV] END max_depth=8, min_samples_leaf=3, min_samples_split=3, n_estimators=150; total time=   0.5s\n",
      "[CV] END max_depth=8, min_samples_leaf=3, min_samples_split=3, n_estimators=200; total time=   0.7s\n",
      "[CV] END max_depth=8, min_samples_leaf=3, min_samples_split=3, n_estimators=200; total time=   0.8s\n",
      "[CV] END max_depth=8, min_samples_leaf=3, min_samples_split=3, n_estimators=200; total time=   0.6s\n",
      "[CV] END max_depth=8, min_samples_leaf=3, min_samples_split=3, n_estimators=200; total time=   0.6s\n",
      "[CV] END max_depth=8, min_samples_leaf=3, min_samples_split=3, n_estimators=200; total time=   0.6s\n",
      "[CV] END max_depth=8, min_samples_leaf=3, min_samples_split=4, n_estimators=75; total time=   0.2s\n",
      "[CV] END max_depth=8, min_samples_leaf=3, min_samples_split=4, n_estimators=75; total time=   0.2s\n",
      "[CV] END max_depth=8, min_samples_leaf=3, min_samples_split=4, n_estimators=75; total time=   0.2s\n",
      "[CV] END max_depth=8, min_samples_leaf=3, min_samples_split=4, n_estimators=75; total time=   0.2s\n",
      "[CV] END max_depth=8, min_samples_leaf=3, min_samples_split=4, n_estimators=75; total time=   0.2s\n",
      "[CV] END max_depth=8, min_samples_leaf=3, min_samples_split=4, n_estimators=100; total time=   0.4s\n",
      "[CV] END max_depth=8, min_samples_leaf=3, min_samples_split=4, n_estimators=100; total time=   0.3s\n",
      "[CV] END max_depth=8, min_samples_leaf=3, min_samples_split=4, n_estimators=100; total time=   0.3s\n",
      "[CV] END max_depth=8, min_samples_leaf=3, min_samples_split=4, n_estimators=100; total time=   0.3s\n",
      "[CV] END max_depth=8, min_samples_leaf=3, min_samples_split=4, n_estimators=100; total time=   0.2s\n",
      "[CV] END max_depth=8, min_samples_leaf=3, min_samples_split=4, n_estimators=150; total time=   0.4s\n",
      "[CV] END max_depth=8, min_samples_leaf=3, min_samples_split=4, n_estimators=150; total time=   0.4s\n",
      "[CV] END max_depth=8, min_samples_leaf=3, min_samples_split=4, n_estimators=150; total time=   0.4s\n",
      "[CV] END max_depth=8, min_samples_leaf=3, min_samples_split=4, n_estimators=150; total time=   0.4s\n",
      "[CV] END max_depth=8, min_samples_leaf=3, min_samples_split=4, n_estimators=150; total time=   0.4s\n",
      "[CV] END max_depth=8, min_samples_leaf=3, min_samples_split=4, n_estimators=200; total time=   0.6s\n",
      "[CV] END max_depth=8, min_samples_leaf=3, min_samples_split=4, n_estimators=200; total time=   0.6s\n",
      "[CV] END max_depth=8, min_samples_leaf=3, min_samples_split=4, n_estimators=200; total time=   0.6s\n",
      "[CV] END max_depth=8, min_samples_leaf=3, min_samples_split=4, n_estimators=200; total time=   0.6s\n",
      "[CV] END max_depth=8, min_samples_leaf=3, min_samples_split=4, n_estimators=200; total time=   0.6s\n",
      "[CV] END max_depth=8, min_samples_leaf=4, min_samples_split=2, n_estimators=75; total time=   0.2s\n",
      "[CV] END max_depth=8, min_samples_leaf=4, min_samples_split=2, n_estimators=75; total time=   0.2s\n",
      "[CV] END max_depth=8, min_samples_leaf=4, min_samples_split=2, n_estimators=75; total time=   0.2s\n",
      "[CV] END max_depth=8, min_samples_leaf=4, min_samples_split=2, n_estimators=75; total time=   0.2s\n",
      "[CV] END max_depth=8, min_samples_leaf=4, min_samples_split=2, n_estimators=75; total time=   0.2s\n",
      "[CV] END max_depth=8, min_samples_leaf=4, min_samples_split=2, n_estimators=100; total time=   0.2s\n",
      "[CV] END max_depth=8, min_samples_leaf=4, min_samples_split=2, n_estimators=100; total time=   0.3s\n",
      "[CV] END max_depth=8, min_samples_leaf=4, min_samples_split=2, n_estimators=100; total time=   0.3s\n",
      "[CV] END max_depth=8, min_samples_leaf=4, min_samples_split=2, n_estimators=100; total time=   0.3s\n",
      "[CV] END max_depth=8, min_samples_leaf=4, min_samples_split=2, n_estimators=100; total time=   0.3s\n",
      "[CV] END max_depth=8, min_samples_leaf=4, min_samples_split=2, n_estimators=150; total time=   0.4s\n",
      "[CV] END max_depth=8, min_samples_leaf=4, min_samples_split=2, n_estimators=150; total time=   0.4s\n",
      "[CV] END max_depth=8, min_samples_leaf=4, min_samples_split=2, n_estimators=150; total time=   0.4s\n",
      "[CV] END max_depth=8, min_samples_leaf=4, min_samples_split=2, n_estimators=150; total time=   0.4s\n",
      "[CV] END max_depth=8, min_samples_leaf=4, min_samples_split=2, n_estimators=150; total time=   0.5s\n",
      "[CV] END max_depth=8, min_samples_leaf=4, min_samples_split=2, n_estimators=200; total time=   0.7s\n",
      "[CV] END max_depth=8, min_samples_leaf=4, min_samples_split=2, n_estimators=200; total time=   0.8s\n",
      "[CV] END max_depth=8, min_samples_leaf=4, min_samples_split=2, n_estimators=200; total time=   0.7s\n",
      "[CV] END max_depth=8, min_samples_leaf=4, min_samples_split=2, n_estimators=200; total time=   0.6s\n",
      "[CV] END max_depth=8, min_samples_leaf=4, min_samples_split=2, n_estimators=200; total time=   0.6s\n",
      "[CV] END max_depth=8, min_samples_leaf=4, min_samples_split=3, n_estimators=75; total time=   0.2s\n",
      "[CV] END max_depth=8, min_samples_leaf=4, min_samples_split=3, n_estimators=75; total time=   0.2s\n",
      "[CV] END max_depth=8, min_samples_leaf=4, min_samples_split=3, n_estimators=75; total time=   0.2s\n",
      "[CV] END max_depth=8, min_samples_leaf=4, min_samples_split=3, n_estimators=75; total time=   0.2s\n",
      "[CV] END max_depth=8, min_samples_leaf=4, min_samples_split=3, n_estimators=75; total time=   0.2s\n",
      "[CV] END max_depth=8, min_samples_leaf=4, min_samples_split=3, n_estimators=100; total time=   0.3s\n",
      "[CV] END max_depth=8, min_samples_leaf=4, min_samples_split=3, n_estimators=100; total time=   0.3s\n",
      "[CV] END max_depth=8, min_samples_leaf=4, min_samples_split=3, n_estimators=100; total time=   0.3s\n",
      "[CV] END max_depth=8, min_samples_leaf=4, min_samples_split=3, n_estimators=100; total time=   0.3s\n",
      "[CV] END max_depth=8, min_samples_leaf=4, min_samples_split=3, n_estimators=100; total time=   0.3s\n",
      "[CV] END max_depth=8, min_samples_leaf=4, min_samples_split=3, n_estimators=150; total time=   0.4s\n",
      "[CV] END max_depth=8, min_samples_leaf=4, min_samples_split=3, n_estimators=150; total time=   0.4s\n",
      "[CV] END max_depth=8, min_samples_leaf=4, min_samples_split=3, n_estimators=150; total time=   0.4s\n",
      "[CV] END max_depth=8, min_samples_leaf=4, min_samples_split=3, n_estimators=150; total time=   0.4s\n",
      "[CV] END max_depth=8, min_samples_leaf=4, min_samples_split=3, n_estimators=150; total time=   0.4s\n",
      "[CV] END max_depth=8, min_samples_leaf=4, min_samples_split=3, n_estimators=200; total time=   0.6s\n",
      "[CV] END max_depth=8, min_samples_leaf=4, min_samples_split=3, n_estimators=200; total time=   0.6s\n",
      "[CV] END max_depth=8, min_samples_leaf=4, min_samples_split=3, n_estimators=200; total time=   0.6s\n",
      "[CV] END max_depth=8, min_samples_leaf=4, min_samples_split=3, n_estimators=200; total time=   0.6s\n",
      "[CV] END max_depth=8, min_samples_leaf=4, min_samples_split=3, n_estimators=200; total time=   0.6s\n",
      "[CV] END max_depth=8, min_samples_leaf=4, min_samples_split=4, n_estimators=75; total time=   0.2s\n",
      "[CV] END max_depth=8, min_samples_leaf=4, min_samples_split=4, n_estimators=75; total time=   0.2s\n",
      "[CV] END max_depth=8, min_samples_leaf=4, min_samples_split=4, n_estimators=75; total time=   0.2s\n",
      "[CV] END max_depth=8, min_samples_leaf=4, min_samples_split=4, n_estimators=75; total time=   0.2s\n",
      "[CV] END max_depth=8, min_samples_leaf=4, min_samples_split=4, n_estimators=75; total time=   0.2s\n",
      "[CV] END max_depth=8, min_samples_leaf=4, min_samples_split=4, n_estimators=100; total time=   0.3s\n",
      "[CV] END max_depth=8, min_samples_leaf=4, min_samples_split=4, n_estimators=100; total time=   0.3s\n",
      "[CV] END max_depth=8, min_samples_leaf=4, min_samples_split=4, n_estimators=100; total time=   0.3s\n",
      "[CV] END max_depth=8, min_samples_leaf=4, min_samples_split=4, n_estimators=100; total time=   0.3s\n",
      "[CV] END max_depth=8, min_samples_leaf=4, min_samples_split=4, n_estimators=100; total time=   0.3s\n",
      "[CV] END max_depth=8, min_samples_leaf=4, min_samples_split=4, n_estimators=150; total time=   0.4s\n",
      "[CV] END max_depth=8, min_samples_leaf=4, min_samples_split=4, n_estimators=150; total time=   0.4s\n",
      "[CV] END max_depth=8, min_samples_leaf=4, min_samples_split=4, n_estimators=150; total time=   0.5s\n",
      "[CV] END max_depth=8, min_samples_leaf=4, min_samples_split=4, n_estimators=150; total time=   0.5s\n",
      "[CV] END max_depth=8, min_samples_leaf=4, min_samples_split=4, n_estimators=150; total time=   0.5s\n",
      "[CV] END max_depth=8, min_samples_leaf=4, min_samples_split=4, n_estimators=200; total time=   0.6s\n",
      "[CV] END max_depth=8, min_samples_leaf=4, min_samples_split=4, n_estimators=200; total time=   0.7s\n",
      "[CV] END max_depth=8, min_samples_leaf=4, min_samples_split=4, n_estimators=200; total time=   0.7s\n",
      "[CV] END max_depth=8, min_samples_leaf=4, min_samples_split=4, n_estimators=200; total time=   0.7s\n",
      "[CV] END max_depth=8, min_samples_leaf=4, min_samples_split=4, n_estimators=200; total time=   0.6s\n"
     ]
    },
    {
     "data": {
      "text/plain": [
       "GridSearchCV(cv=5, estimator=RandomForestClassifier(random_state=17),\n",
       "             param_grid={'max_depth': [6, 7, 8], 'min_samples_leaf': [2, 3, 4],\n",
       "                         'min_samples_split': [2, 3, 4],\n",
       "                         'n_estimators': [75, 100, 150, 200]},\n",
       "             verbose=2)"
      ]
     },
     "execution_count": 214,
     "metadata": {},
     "output_type": "execute_result"
    }
   ],
   "source": [
    "grid_cv.fit(x_strain,ys)"
   ]
  },
  {
   "cell_type": "code",
   "execution_count": 215,
   "id": "3068c3e0",
   "metadata": {},
   "outputs": [],
   "source": [
    "yp=grid_cv.predict(x_stest)"
   ]
  },
  {
   "cell_type": "code",
   "execution_count": 216,
   "id": "265b87f4",
   "metadata": {},
   "outputs": [],
   "source": [
    "df_submission = pd.DataFrame({'PassengerId':df_test['PassengerId'], 'Survived':yp})"
   ]
  },
  {
   "cell_type": "code",
   "execution_count": 217,
   "id": "4d2607a4",
   "metadata": {},
   "outputs": [],
   "source": [
    "df_submission.to_csv('grid_cv_f8.csv', index=False)"
   ]
  },
  {
   "cell_type": "code",
   "execution_count": 218,
   "id": "b5db8302",
   "metadata": {},
   "outputs": [
    {
     "data": {
      "text/plain": [
       "RandomForestClassifier(max_depth=6, min_samples_leaf=4, n_estimators=75,\n",
       "                       random_state=17)"
      ]
     },
     "execution_count": 218,
     "metadata": {},
     "output_type": "execute_result"
    }
   ],
   "source": [
    "grid_cv.best_estimator_"
   ]
  },
  {
   "cell_type": "code",
   "execution_count": 219,
   "id": "1f4091e5",
   "metadata": {},
   "outputs": [
    {
     "data": {
      "text/plain": [
       "{'max_depth': 6,\n",
       " 'min_samples_leaf': 4,\n",
       " 'min_samples_split': 2,\n",
       " 'n_estimators': 75}"
      ]
     },
     "execution_count": 219,
     "metadata": {},
     "output_type": "execute_result"
    }
   ],
   "source": [
    "grid_cv.best_params_"
   ]
  },
  {
   "cell_type": "code",
   "execution_count": null,
   "id": "d0cc0d98",
   "metadata": {},
   "outputs": [],
   "source": []
  },
  {
   "cell_type": "code",
   "execution_count": null,
   "id": "f53d255d",
   "metadata": {},
   "outputs": [],
   "source": []
  }
 ],
 "metadata": {
  "kernelspec": {
   "display_name": "Python 3 (ipykernel)",
   "language": "python",
   "name": "python3"
  },
  "language_info": {
   "codemirror_mode": {
    "name": "ipython",
    "version": 3
   },
   "file_extension": ".py",
   "mimetype": "text/x-python",
   "name": "python",
   "nbconvert_exporter": "python",
   "pygments_lexer": "ipython3",
   "version": "3.9.12"
  }
 },
 "nbformat": 4,
 "nbformat_minor": 5
}
