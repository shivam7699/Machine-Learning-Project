{
 "cells": [
  {
   "cell_type": "code",
   "execution_count": 1,
   "id": "feeda81f",
   "metadata": {},
   "outputs": [],
   "source": [
    "import pandas as pd"
   ]
  },
  {
   "cell_type": "code",
   "execution_count": 2,
   "id": "ba80a495",
   "metadata": {},
   "outputs": [],
   "source": [
    "df_train = pd.read_csv('../../../datasets/titanic/train.csv')\n",
    "df_test = pd.read_csv('../../../datasets/titanic/test.csv')"
   ]
  },
  {
   "cell_type": "code",
   "execution_count": 3,
   "id": "0b79f442",
   "metadata": {},
   "outputs": [
    {
     "data": {
      "text/html": [
       "<div>\n",
       "<style scoped>\n",
       "    .dataframe tbody tr th:only-of-type {\n",
       "        vertical-align: middle;\n",
       "    }\n",
       "\n",
       "    .dataframe tbody tr th {\n",
       "        vertical-align: top;\n",
       "    }\n",
       "\n",
       "    .dataframe thead th {\n",
       "        text-align: right;\n",
       "    }\n",
       "</style>\n",
       "<table border=\"1\" class=\"dataframe\">\n",
       "  <thead>\n",
       "    <tr style=\"text-align: right;\">\n",
       "      <th></th>\n",
       "      <th>PassengerId</th>\n",
       "      <th>Survived</th>\n",
       "      <th>Pclass</th>\n",
       "      <th>Name</th>\n",
       "      <th>Sex</th>\n",
       "      <th>Age</th>\n",
       "      <th>SibSp</th>\n",
       "      <th>Parch</th>\n",
       "      <th>Ticket</th>\n",
       "      <th>Fare</th>\n",
       "      <th>Cabin</th>\n",
       "      <th>Embarked</th>\n",
       "    </tr>\n",
       "  </thead>\n",
       "  <tbody>\n",
       "    <tr>\n",
       "      <th>0</th>\n",
       "      <td>1</td>\n",
       "      <td>0</td>\n",
       "      <td>3</td>\n",
       "      <td>Braund, Mr. Owen Harris</td>\n",
       "      <td>male</td>\n",
       "      <td>22.0</td>\n",
       "      <td>1</td>\n",
       "      <td>0</td>\n",
       "      <td>A/5 21171</td>\n",
       "      <td>7.2500</td>\n",
       "      <td>NaN</td>\n",
       "      <td>S</td>\n",
       "    </tr>\n",
       "    <tr>\n",
       "      <th>1</th>\n",
       "      <td>2</td>\n",
       "      <td>1</td>\n",
       "      <td>1</td>\n",
       "      <td>Cumings, Mrs. John Bradley (Florence Briggs Th...</td>\n",
       "      <td>female</td>\n",
       "      <td>38.0</td>\n",
       "      <td>1</td>\n",
       "      <td>0</td>\n",
       "      <td>PC 17599</td>\n",
       "      <td>71.2833</td>\n",
       "      <td>C85</td>\n",
       "      <td>C</td>\n",
       "    </tr>\n",
       "    <tr>\n",
       "      <th>2</th>\n",
       "      <td>3</td>\n",
       "      <td>1</td>\n",
       "      <td>3</td>\n",
       "      <td>Heikkinen, Miss. Laina</td>\n",
       "      <td>female</td>\n",
       "      <td>26.0</td>\n",
       "      <td>0</td>\n",
       "      <td>0</td>\n",
       "      <td>STON/O2. 3101282</td>\n",
       "      <td>7.9250</td>\n",
       "      <td>NaN</td>\n",
       "      <td>S</td>\n",
       "    </tr>\n",
       "    <tr>\n",
       "      <th>3</th>\n",
       "      <td>4</td>\n",
       "      <td>1</td>\n",
       "      <td>1</td>\n",
       "      <td>Futrelle, Mrs. Jacques Heath (Lily May Peel)</td>\n",
       "      <td>female</td>\n",
       "      <td>35.0</td>\n",
       "      <td>1</td>\n",
       "      <td>0</td>\n",
       "      <td>113803</td>\n",
       "      <td>53.1000</td>\n",
       "      <td>C123</td>\n",
       "      <td>S</td>\n",
       "    </tr>\n",
       "    <tr>\n",
       "      <th>4</th>\n",
       "      <td>5</td>\n",
       "      <td>0</td>\n",
       "      <td>3</td>\n",
       "      <td>Allen, Mr. William Henry</td>\n",
       "      <td>male</td>\n",
       "      <td>35.0</td>\n",
       "      <td>0</td>\n",
       "      <td>0</td>\n",
       "      <td>373450</td>\n",
       "      <td>8.0500</td>\n",
       "      <td>NaN</td>\n",
       "      <td>S</td>\n",
       "    </tr>\n",
       "  </tbody>\n",
       "</table>\n",
       "</div>"
      ],
      "text/plain": [
       "   PassengerId  Survived  Pclass  \\\n",
       "0            1         0       3   \n",
       "1            2         1       1   \n",
       "2            3         1       3   \n",
       "3            4         1       1   \n",
       "4            5         0       3   \n",
       "\n",
       "                                                Name     Sex   Age  SibSp  \\\n",
       "0                            Braund, Mr. Owen Harris    male  22.0      1   \n",
       "1  Cumings, Mrs. John Bradley (Florence Briggs Th...  female  38.0      1   \n",
       "2                             Heikkinen, Miss. Laina  female  26.0      0   \n",
       "3       Futrelle, Mrs. Jacques Heath (Lily May Peel)  female  35.0      1   \n",
       "4                           Allen, Mr. William Henry    male  35.0      0   \n",
       "\n",
       "   Parch            Ticket     Fare Cabin Embarked  \n",
       "0      0         A/5 21171   7.2500   NaN        S  \n",
       "1      0          PC 17599  71.2833   C85        C  \n",
       "2      0  STON/O2. 3101282   7.9250   NaN        S  \n",
       "3      0            113803  53.1000  C123        S  \n",
       "4      0            373450   8.0500   NaN        S  "
      ]
     },
     "execution_count": 3,
     "metadata": {},
     "output_type": "execute_result"
    }
   ],
   "source": [
    "df_train.head()"
   ]
  },
  {
   "cell_type": "code",
   "execution_count": 4,
   "id": "066fa235",
   "metadata": {},
   "outputs": [],
   "source": [
    "selected_columns = ['Pclass', 'Age', 'SibSp', 'Parch', 'Fare'] "
   ]
  },
  {
   "cell_type": "code",
   "execution_count": 6,
   "id": "3415afa1",
   "metadata": {},
   "outputs": [
    {
     "data": {
      "text/plain": [
       "Pclass      0\n",
       "Age       177\n",
       "SibSp       0\n",
       "Parch       0\n",
       "Fare        0\n",
       "dtype: int64"
      ]
     },
     "execution_count": 6,
     "metadata": {},
     "output_type": "execute_result"
    }
   ],
   "source": [
    "df_train[selected_columns].isna().sum()"
   ]
  },
  {
   "cell_type": "code",
   "execution_count": 7,
   "id": "e0fbd2d1",
   "metadata": {},
   "outputs": [
    {
     "data": {
      "text/plain": [
       "Pclass     0\n",
       "Age       86\n",
       "SibSp      0\n",
       "Parch      0\n",
       "Fare       1\n",
       "dtype: int64"
      ]
     },
     "execution_count": 7,
     "metadata": {},
     "output_type": "execute_result"
    }
   ],
   "source": [
    "df_test[selected_columns].isna().sum()"
   ]
  },
  {
   "cell_type": "code",
   "execution_count": 11,
   "id": "65059550",
   "metadata": {},
   "outputs": [
    {
     "data": {
      "text/plain": [
       "29.69911764705882"
      ]
     },
     "execution_count": 11,
     "metadata": {},
     "output_type": "execute_result"
    }
   ],
   "source": [
    "df_train['Age'].mean()"
   ]
  },
  {
   "cell_type": "code",
   "execution_count": 12,
   "id": "fdef771d",
   "metadata": {},
   "outputs": [
    {
     "data": {
      "text/plain": [
       "28.0"
      ]
     },
     "execution_count": 12,
     "metadata": {},
     "output_type": "execute_result"
    }
   ],
   "source": [
    "df_train['Age'].median()"
   ]
  },
  {
   "cell_type": "markdown",
   "id": "924a4c81",
   "metadata": {},
   "source": [
    "# Fill missing data"
   ]
  },
  {
   "cell_type": "code",
   "execution_count": 13,
   "id": "54e07c16",
   "metadata": {},
   "outputs": [],
   "source": [
    "df_train['Age'].fillna(df_train['Age'].median(), inplace=True)\n",
    "df_test['Age'].fillna(df_train['Age'].median(), inplace=True)\n",
    "\n",
    "df_train['Fare'].fillna(df_train['Fare'].median(), inplace=True)\n",
    "df_test['Fare'].fillna(df_train['Fare'].median(), inplace=True)\n",
    "\n",
    "df_train['Embarked'].fillna(df_train['Embarked'].mode().iloc[0], inplace=True)\n",
    "df_test['Embarked'].fillna(df_train['Embarked'].mode().iloc[0], inplace=True)\n",
    "\n",
    "df_train['Sex'].fillna(df_train['Sex'].mode().iloc[0], inplace=True)\n",
    "df_test['Sex'].fillna(df_train['Sex'].mode().iloc[0], inplace=True)\n"
   ]
  },
  {
   "cell_type": "markdown",
   "id": "5a2fefe6",
   "metadata": {},
   "source": [
    "# Feature Encoding"
   ]
  },
  {
   "cell_type": "code",
   "execution_count": 14,
   "id": "95042d7d",
   "metadata": {},
   "outputs": [
    {
     "data": {
      "text/plain": [
       "PassengerId      int64\n",
       "Survived         int64\n",
       "Pclass           int64\n",
       "Name            object\n",
       "Sex             object\n",
       "Age            float64\n",
       "SibSp            int64\n",
       "Parch            int64\n",
       "Ticket          object\n",
       "Fare           float64\n",
       "Cabin           object\n",
       "Embarked        object\n",
       "dtype: object"
      ]
     },
     "execution_count": 14,
     "metadata": {},
     "output_type": "execute_result"
    }
   ],
   "source": [
    "df_train.dtypes"
   ]
  },
  {
   "cell_type": "code",
   "execution_count": 15,
   "id": "a0ca3fdd",
   "metadata": {},
   "outputs": [
    {
     "data": {
      "text/plain": [
       "array(['S', 'C', 'Q'], dtype=object)"
      ]
     },
     "execution_count": 15,
     "metadata": {},
     "output_type": "execute_result"
    }
   ],
   "source": [
    "df_train['Embarked'].unique()"
   ]
  },
  {
   "cell_type": "code",
   "execution_count": 16,
   "id": "55c14003",
   "metadata": {},
   "outputs": [],
   "source": [
    "df_train['Sex_enc'] = df_train['Sex'].map({'male':0, 'female':1})\n",
    "df_test['Sex_enc'] = df_test['Sex'].map({'male':0, 'female':1})\n",
    "\n",
    "df_train['Embarked_enc'] = df_train['Embarked'].map({'S':0, 'C':1, 'Q':2})\n",
    "df_test['Embarked_enc'] = df_test['Embarked'].map({'S':0, 'C':1, 'Q':2})"
   ]
  },
  {
   "cell_type": "code",
   "execution_count": 18,
   "id": "fb836028",
   "metadata": {},
   "outputs": [],
   "source": [
    "selected_columns.append('Sex_enc')\n",
    "selected_columns.append('Embarked_enc')"
   ]
  },
  {
   "cell_type": "code",
   "execution_count": 19,
   "id": "8bd8a7c2",
   "metadata": {},
   "outputs": [
    {
     "data": {
      "text/plain": [
       "['Pclass', 'Age', 'SibSp', 'Parch', 'Fare', 'Sex_enc', 'Embarked_enc']"
      ]
     },
     "execution_count": 19,
     "metadata": {},
     "output_type": "execute_result"
    }
   ],
   "source": [
    "selected_columns"
   ]
  },
  {
   "cell_type": "markdown",
   "id": "fb5b7888",
   "metadata": {},
   "source": [
    "# Lets try for is_cabin"
   ]
  },
  {
   "cell_type": "code",
   "execution_count": 35,
   "id": "2fdf3e23",
   "metadata": {},
   "outputs": [],
   "source": [
    "df_train['is_cabin'] = df_train['Cabin'].isna().apply(lambda X:int(not X))\n",
    "df_test['is_cabin'] = df_test['Cabin'].isna().apply(lambda X:int(not X))"
   ]
  },
  {
   "cell_type": "code",
   "execution_count": 56,
   "id": "dd32759c",
   "metadata": {},
   "outputs": [],
   "source": [
    "selected_columns.append('is_cabin')"
   ]
  },
  {
   "cell_type": "markdown",
   "id": "7365c5fc",
   "metadata": {},
   "source": [
    "# Lets try for name"
   ]
  },
  {
   "cell_type": "code",
   "execution_count": 45,
   "id": "1a872222",
   "metadata": {},
   "outputs": [],
   "source": [
    "df_train['Title'] = df_train['Name'].apply(lambda name:name.split('.')[0].split(' ')[1])\n",
    "df_test['Title'] = df_test['Name'].apply(lambda name:name.split('.')[0].split(' ')[1])"
   ]
  },
  {
   "cell_type": "code",
   "execution_count": 51,
   "id": "ff1d6de8",
   "metadata": {},
   "outputs": [
    {
     "data": {
      "text/plain": [
       "['Mr', 'Miss', 'Mrs', 'Master']"
      ]
     },
     "execution_count": 51,
     "metadata": {},
     "output_type": "execute_result"
    }
   ],
   "source": [
    "titles = list(df_train['Title'].value_counts().iloc[:4].index)\n",
    "titles"
   ]
  },
  {
   "cell_type": "code",
   "execution_count": 52,
   "id": "acf5fda3",
   "metadata": {},
   "outputs": [],
   "source": [
    "df_train['Title'] = df_train['Title'].apply(lambda X:X if X in titles else 'other')\n",
    "df_test['Title'] = df_test['Title'].apply(lambda X:X if X in titles else 'other')"
   ]
  },
  {
   "cell_type": "code",
   "execution_count": 53,
   "id": "8c48a5ad",
   "metadata": {},
   "outputs": [
    {
     "data": {
      "text/plain": [
       "Mr        502\n",
       "Miss      179\n",
       "Mrs       121\n",
       "other      49\n",
       "Master     40\n",
       "Name: Title, dtype: int64"
      ]
     },
     "execution_count": 53,
     "metadata": {},
     "output_type": "execute_result"
    }
   ],
   "source": [
    "df_train['Title'].value_counts()"
   ]
  },
  {
   "cell_type": "code",
   "execution_count": 54,
   "id": "e0ef0c7e",
   "metadata": {},
   "outputs": [],
   "source": [
    "df_train['Title_enc'] = df_train['Title'].map({'Mr':0, 'Miss':1, 'Mrs':2, 'other':3, 'Master':4})\n",
    "df_test['Title_enc'] = df_test['Title'].map({'Mr':0, 'Miss':1, 'Mrs':2, 'other':3, 'Master':4})"
   ]
  },
  {
   "cell_type": "code",
   "execution_count": 57,
   "id": "655e35b4",
   "metadata": {},
   "outputs": [],
   "source": [
    "selected_columns.append('Title_enc')"
   ]
  },
  {
   "cell_type": "markdown",
   "id": "bdfa1066",
   "metadata": {},
   "source": [
    "# Model Bulding"
   ]
  },
  {
   "cell_type": "code",
   "execution_count": 58,
   "id": "fefc071e",
   "metadata": {},
   "outputs": [],
   "source": [
    "from sklearn.ensemble import RandomForestClassifier\n",
    "from sklearn.model_selection import RandomizedSearchCV"
   ]
  },
  {
   "cell_type": "code",
   "execution_count": 59,
   "id": "99a9d111",
   "metadata": {},
   "outputs": [
    {
     "data": {
      "text/plain": [
       "RandomizedSearchCV(cv=5, estimator=RandomForestClassifier(),\n",
       "                   param_distributions={'max_depth': [1, 2, 3, 4, 5],\n",
       "                                        'min_samples_leaf': [2, 4, 6, 8],\n",
       "                                        'n_estimators': [25, 50, 75, 100, 125,\n",
       "                                                         150, 175, 200]})"
      ]
     },
     "execution_count": 59,
     "metadata": {},
     "output_type": "execute_result"
    }
   ],
   "source": [
    "params = {'n_estimators':[25,50,75,100,125,150,175,200],\n",
    "          'max_depth':[1,2,3,4,5],\n",
    "          'min_samples_leaf':[2,4,6,8]}\n",
    "random_cv = RandomizedSearchCV(RandomForestClassifier(), params, cv=5)\n",
    "random_cv.fit(df_train[selected_columns], df_train['Survived'])"
   ]
  },
  {
   "cell_type": "code",
   "execution_count": 60,
   "id": "ba3575f3",
   "metadata": {},
   "outputs": [
    {
     "data": {
      "text/plain": [
       "RandomForestClassifier(max_depth=4, min_samples_leaf=4, n_estimators=50)"
      ]
     },
     "execution_count": 60,
     "metadata": {},
     "output_type": "execute_result"
    }
   ],
   "source": [
    "random_cv.best_estimator_"
   ]
  },
  {
   "cell_type": "code",
   "execution_count": 61,
   "id": "323c3be5",
   "metadata": {},
   "outputs": [],
   "source": [
    "model = random_cv.best_estimator_"
   ]
  },
  {
   "cell_type": "code",
   "execution_count": 62,
   "id": "8edb949e",
   "metadata": {},
   "outputs": [],
   "source": [
    "yp = model.predict(df_test[selected_columns])"
   ]
  },
  {
   "cell_type": "code",
   "execution_count": 63,
   "id": "a038ee61",
   "metadata": {},
   "outputs": [],
   "source": [
    "df_test['Survived'] = yp"
   ]
  },
  {
   "cell_type": "code",
   "execution_count": 64,
   "id": "51a17b80",
   "metadata": {},
   "outputs": [],
   "source": [
    "df_test[['PassengerId','Survived']].to_csv('sub4.csv', index=False)"
   ]
  },
  {
   "cell_type": "code",
   "execution_count": null,
   "id": "8ed559e6",
   "metadata": {},
   "outputs": [],
   "source": []
  }
 ],
 "metadata": {
  "kernelspec": {
   "display_name": "Python 3 (ipykernel)",
   "language": "python",
   "name": "python3"
  },
  "language_info": {
   "codemirror_mode": {
    "name": "ipython",
    "version": 3
   },
   "file_extension": ".py",
   "mimetype": "text/x-python",
   "name": "python",
   "nbconvert_exporter": "python",
   "pygments_lexer": "ipython3",
   "version": "3.9.12"
  }
 },
 "nbformat": 4,
 "nbformat_minor": 5
}
