{
 "cells": [
  {
   "cell_type": "markdown",
   "id": "cf471b52",
   "metadata": {},
   "source": [
    "# Importing Libraries"
   ]
  },
  {
   "cell_type": "code",
   "execution_count": 34,
   "id": "215700f7",
   "metadata": {},
   "outputs": [],
   "source": [
    "import pandas as pd\n",
    "import numpy as np\n",
    "import matplotlib.pyplot as plt\n",
    "import seaborn as sb"
   ]
  },
  {
   "cell_type": "markdown",
   "id": "1a25680a",
   "metadata": {},
   "source": [
    "# Loading Data"
   ]
  },
  {
   "cell_type": "code",
   "execution_count": 35,
   "id": "f26a37eb",
   "metadata": {},
   "outputs": [
    {
     "data": {
      "text/html": [
       "<div>\n",
       "<style scoped>\n",
       "    .dataframe tbody tr th:only-of-type {\n",
       "        vertical-align: middle;\n",
       "    }\n",
       "\n",
       "    .dataframe tbody tr th {\n",
       "        vertical-align: top;\n",
       "    }\n",
       "\n",
       "    .dataframe thead th {\n",
       "        text-align: right;\n",
       "    }\n",
       "</style>\n",
       "<table border=\"1\" class=\"dataframe\">\n",
       "  <thead>\n",
       "    <tr style=\"text-align: right;\">\n",
       "      <th></th>\n",
       "      <th>CustomerID</th>\n",
       "      <th>Name</th>\n",
       "      <th>Age</th>\n",
       "      <th>Gender</th>\n",
       "      <th>Location</th>\n",
       "      <th>Subscription_Length_Months</th>\n",
       "      <th>Monthly_Bill</th>\n",
       "      <th>Total_Usage_GB</th>\n",
       "      <th>Churn</th>\n",
       "    </tr>\n",
       "  </thead>\n",
       "  <tbody>\n",
       "    <tr>\n",
       "      <th>0</th>\n",
       "      <td>1</td>\n",
       "      <td>Customer_1</td>\n",
       "      <td>63</td>\n",
       "      <td>Male</td>\n",
       "      <td>Los Angeles</td>\n",
       "      <td>17</td>\n",
       "      <td>73.36</td>\n",
       "      <td>236</td>\n",
       "      <td>0</td>\n",
       "    </tr>\n",
       "    <tr>\n",
       "      <th>1</th>\n",
       "      <td>2</td>\n",
       "      <td>Customer_2</td>\n",
       "      <td>62</td>\n",
       "      <td>Female</td>\n",
       "      <td>New York</td>\n",
       "      <td>1</td>\n",
       "      <td>48.76</td>\n",
       "      <td>172</td>\n",
       "      <td>0</td>\n",
       "    </tr>\n",
       "    <tr>\n",
       "      <th>2</th>\n",
       "      <td>3</td>\n",
       "      <td>Customer_3</td>\n",
       "      <td>24</td>\n",
       "      <td>Female</td>\n",
       "      <td>Los Angeles</td>\n",
       "      <td>5</td>\n",
       "      <td>85.47</td>\n",
       "      <td>460</td>\n",
       "      <td>0</td>\n",
       "    </tr>\n",
       "    <tr>\n",
       "      <th>3</th>\n",
       "      <td>4</td>\n",
       "      <td>Customer_4</td>\n",
       "      <td>36</td>\n",
       "      <td>Female</td>\n",
       "      <td>Miami</td>\n",
       "      <td>3</td>\n",
       "      <td>97.94</td>\n",
       "      <td>297</td>\n",
       "      <td>1</td>\n",
       "    </tr>\n",
       "    <tr>\n",
       "      <th>4</th>\n",
       "      <td>5</td>\n",
       "      <td>Customer_5</td>\n",
       "      <td>46</td>\n",
       "      <td>Female</td>\n",
       "      <td>Miami</td>\n",
       "      <td>19</td>\n",
       "      <td>58.14</td>\n",
       "      <td>266</td>\n",
       "      <td>0</td>\n",
       "    </tr>\n",
       "  </tbody>\n",
       "</table>\n",
       "</div>"
      ],
      "text/plain": [
       "   CustomerID        Name  Age  Gender     Location  \\\n",
       "0           1  Customer_1   63    Male  Los Angeles   \n",
       "1           2  Customer_2   62  Female     New York   \n",
       "2           3  Customer_3   24  Female  Los Angeles   \n",
       "3           4  Customer_4   36  Female        Miami   \n",
       "4           5  Customer_5   46  Female        Miami   \n",
       "\n",
       "   Subscription_Length_Months  Monthly_Bill  Total_Usage_GB  Churn  \n",
       "0                          17         73.36             236      0  \n",
       "1                           1         48.76             172      0  \n",
       "2                           5         85.47             460      0  \n",
       "3                           3         97.94             297      1  \n",
       "4                          19         58.14             266      0  "
      ]
     },
     "execution_count": 35,
     "metadata": {},
     "output_type": "execute_result"
    }
   ],
   "source": [
    "df = pd.read_csv('customer_churn_large_dataset.csv')\n",
    "df.head()"
   ]
  },
  {
   "cell_type": "code",
   "execution_count": 36,
   "id": "3a30d55c",
   "metadata": {},
   "outputs": [
    {
     "data": {
      "text/plain": [
       "(100000, 9)"
      ]
     },
     "execution_count": 36,
     "metadata": {},
     "output_type": "execute_result"
    }
   ],
   "source": [
    "df.shape"
   ]
  },
  {
   "cell_type": "code",
   "execution_count": 37,
   "id": "fd199784",
   "metadata": {},
   "outputs": [
    {
     "name": "stdout",
     "output_type": "stream",
     "text": [
      "<class 'pandas.core.frame.DataFrame'>\n",
      "RangeIndex: 100000 entries, 0 to 99999\n",
      "Data columns (total 9 columns):\n",
      " #   Column                      Non-Null Count   Dtype  \n",
      "---  ------                      --------------   -----  \n",
      " 0   CustomerID                  100000 non-null  int64  \n",
      " 1   Name                        100000 non-null  object \n",
      " 2   Age                         100000 non-null  int64  \n",
      " 3   Gender                      100000 non-null  object \n",
      " 4   Location                    100000 non-null  object \n",
      " 5   Subscription_Length_Months  100000 non-null  int64  \n",
      " 6   Monthly_Bill                100000 non-null  float64\n",
      " 7   Total_Usage_GB              100000 non-null  int64  \n",
      " 8   Churn                       100000 non-null  int64  \n",
      "dtypes: float64(1), int64(5), object(3)\n",
      "memory usage: 6.9+ MB\n"
     ]
    }
   ],
   "source": [
    "df.info()"
   ]
  },
  {
   "cell_type": "markdown",
   "id": "dc8b5f84",
   "metadata": {},
   "source": [
    "# so looking at the data we can say there is no null value "
   ]
  },
  {
   "cell_type": "code",
   "execution_count": 38,
   "id": "613e1afc",
   "metadata": {},
   "outputs": [
    {
     "data": {
      "text/plain": [
       "CustomerID                    100000\n",
       "Name                          100000\n",
       "Age                           100000\n",
       "Gender                        100000\n",
       "Location                      100000\n",
       "Subscription_Length_Months    100000\n",
       "Monthly_Bill                  100000\n",
       "Total_Usage_GB                100000\n",
       "Churn                         100000\n",
       "dtype: int64"
      ]
     },
     "execution_count": 38,
     "metadata": {},
     "output_type": "execute_result"
    }
   ],
   "source": [
    "df.notnull().sum()"
   ]
  },
  {
   "cell_type": "code",
   "execution_count": 39,
   "id": "5facb021",
   "metadata": {},
   "outputs": [
    {
     "data": {
      "text/plain": [
       "CustomerID                    0\n",
       "Name                          0\n",
       "Age                           0\n",
       "Gender                        0\n",
       "Location                      0\n",
       "Subscription_Length_Months    0\n",
       "Monthly_Bill                  0\n",
       "Total_Usage_GB                0\n",
       "Churn                         0\n",
       "dtype: int64"
      ]
     },
     "execution_count": 39,
     "metadata": {},
     "output_type": "execute_result"
    }
   ],
   "source": [
    "df.isna().sum()"
   ]
  },
  {
   "cell_type": "markdown",
   "id": "2e8b5b58",
   "metadata": {},
   "source": [
    "# Find numerical and categorical "
   ]
  },
  {
   "cell_type": "code",
   "execution_count": 40,
   "id": "11317e9c",
   "metadata": {},
   "outputs": [
    {
     "data": {
      "text/plain": [
       "['CustomerID',\n",
       " 'Age',\n",
       " 'Subscription_Length_Months',\n",
       " 'Monthly_Bill',\n",
       " 'Total_Usage_GB',\n",
       " 'Churn']"
      ]
     },
     "execution_count": 40,
     "metadata": {},
     "output_type": "execute_result"
    }
   ],
   "source": [
    "num_cols = list(df.select_dtypes(exclude='object').columns)\n",
    "num_cols"
   ]
  },
  {
   "cell_type": "code",
   "execution_count": 41,
   "id": "42d2060b",
   "metadata": {},
   "outputs": [
    {
     "data": {
      "text/plain": [
       "['Name', 'Gender', 'Location']"
      ]
     },
     "execution_count": 41,
     "metadata": {},
     "output_type": "execute_result"
    }
   ],
   "source": [
    "cat_cols = list(df.select_dtypes(include='object').columns)\n",
    "cat_cols"
   ]
  },
  {
   "cell_type": "markdown",
   "id": "b3f2306f",
   "metadata": {},
   "source": [
    "# now fetching columns information"
   ]
  },
  {
   "cell_type": "code",
   "execution_count": 42,
   "id": "f59f7ec9",
   "metadata": {},
   "outputs": [
    {
     "data": {
      "text/plain": [
       "array(['Male', 'Female'], dtype=object)"
      ]
     },
     "execution_count": 42,
     "metadata": {},
     "output_type": "execute_result"
    }
   ],
   "source": [
    "#Gender column\n",
    "df['Gender'].unique()"
   ]
  },
  {
   "cell_type": "code",
   "execution_count": 43,
   "id": "f6b1d04f",
   "metadata": {},
   "outputs": [
    {
     "data": {
      "text/plain": [
       "Female    50216\n",
       "Male      49784\n",
       "Name: Gender, dtype: int64"
      ]
     },
     "execution_count": 43,
     "metadata": {},
     "output_type": "execute_result"
    }
   ],
   "source": [
    "df['Gender'].value_counts()                  #we can see there are 50k female and 49k male "
   ]
  },
  {
   "cell_type": "code",
   "execution_count": 44,
   "id": "39849fa0",
   "metadata": {},
   "outputs": [
    {
     "data": {
      "text/plain": [
       "<AxesSubplot: xlabel='Gender', ylabel='count'>"
      ]
     },
     "execution_count": 44,
     "metadata": {},
     "output_type": "execute_result"
    },
    {
     "data": {
      "image/png": "[encoded data removed]",
      "text/plain": [
       "<Figure size 432x288 with 1 Axes>"
      ]
     },
     "metadata": {
      "needs_background": "light"
     },
     "output_type": "display_data"
    }
   ],
   "source": [
    "sb.countplot(data=df, x='Gender', hue='Churn')"
   ]
  },
  {
   "cell_type": "code",
   "execution_count": 45,
   "id": "7358b809",
   "metadata": {},
   "outputs": [
    {
     "data": {
      "text/plain": [
       "array(['Los Angeles', 'New York', 'Miami', 'Chicago', 'Houston'],\n",
       "      dtype=object)"
      ]
     },
     "execution_count": 45,
     "metadata": {},
     "output_type": "execute_result"
    }
   ],
   "source": [
    "#Location Column\n",
    "df['Location'].unique()"
   ]
  },
  {
   "cell_type": "code",
   "execution_count": 46,
   "id": "060ec0ed",
   "metadata": {},
   "outputs": [
    {
     "data": {
      "text/plain": [
       "Houston        20157\n",
       "Los Angeles    20041\n",
       "Miami          20031\n",
       "Chicago        19958\n",
       "New York       19813\n",
       "Name: Location, dtype: int64"
      ]
     },
     "execution_count": 46,
     "metadata": {},
     "output_type": "execute_result"
    }
   ],
   "source": [
    "df['Location'].value_counts()"
   ]
  },
  {
   "cell_type": "code",
   "execution_count": 47,
   "id": "28dc6be7",
   "metadata": {},
   "outputs": [
    {
     "data": {
      "text/plain": [
       "<AxesSubplot: xlabel='Location', ylabel='count'>"
      ]
     },
     "execution_count": 47,
     "metadata": {},
     "output_type": "execute_result"
    },
    {
     "data": {
      "image/png": "[encoded data removed]",
      "text/plain": [
       "<Figure size 432x288 with 1 Axes>"
      ]
     },
     "metadata": {
      "needs_background": "light"
     },
     "output_type": "display_data"
    }
   ],
   "source": [
    "sb.countplot(data=df, x='Location', hue='Churn')"
   ]
  },
  {
   "cell_type": "code",
   "execution_count": 48,
   "id": "eb62f1b9",
   "metadata": {},
   "outputs": [
    {
     "data": {
      "text/plain": [
       "array([17,  1,  5,  3, 19, 15, 10, 12, 20, 13,  8, 23,  2,  4, 18,  9, 14,\n",
       "       16,  6,  7, 24, 22, 11, 21], dtype=int64)"
      ]
     },
     "execution_count": 48,
     "metadata": {},
     "output_type": "execute_result"
    }
   ],
   "source": [
    "#Subscription_Length_Months column\n",
    "df['Subscription_Length_Months'].unique()"
   ]
  },
  {
   "cell_type": "code",
   "execution_count": 49,
   "id": "d0a4a0cb",
   "metadata": {},
   "outputs": [
    {
     "data": {
      "text/plain": [
       "20    4303\n",
       "22    4267\n",
       "1     4247\n",
       "16    4229\n",
       "2     4228\n",
       "14    4213\n",
       "7     4211\n",
       "11    4200\n",
       "6     4184\n",
       "5     4171\n",
       "18    4171\n",
       "12    4155\n",
       "21    4154\n",
       "13    4154\n",
       "10    4151\n",
       "3     4136\n",
       "9     4134\n",
       "15    4122\n",
       "24    4113\n",
       "8     4106\n",
       "19    4106\n",
       "4     4098\n",
       "23    4083\n",
       "17    4064\n",
       "Name: Subscription_Length_Months, dtype: int64"
      ]
     },
     "execution_count": 49,
     "metadata": {},
     "output_type": "execute_result"
    }
   ],
   "source": [
    "df['Subscription_Length_Months'].value_counts()"
   ]
  },
  {
   "cell_type": "code",
   "execution_count": 50,
   "id": "0cbcaeae",
   "metadata": {
    "scrolled": false
   },
   "outputs": [
    {
     "data": {
      "text/plain": [
       "<AxesSubplot: xlabel='Subscription_Length_Months', ylabel='Count'>"
      ]
     },
     "execution_count": 50,
     "metadata": {},
     "output_type": "execute_result"
    },
    {
     "data": {
      "image/png": "[encoded data removed]",
      "text/plain": [
       "<Figure size 432x288 with 1 Axes>"
      ]
     },
     "metadata": {
      "needs_background": "light"
     },
     "output_type": "display_data"
    }
   ],
   "source": [
    "sb.histplot(data=df,x='Subscription_Length_Months',bins=10,kde=True,hue='Churn')"
   ]
  },
  {
   "cell_type": "code",
   "execution_count": 51,
   "id": "4b5a8a20",
   "metadata": {},
   "outputs": [
    {
     "data": {
      "text/plain": [
       "(array([12611.,  8269.,  8395., 12391.,  8355.,  8367., 12415.,  8277.,\n",
       "         8457., 12463.]),\n",
       " array([ 1. ,  3.3,  5.6,  7.9, 10.2, 12.5, 14.8, 17.1, 19.4, 21.7, 24. ]),\n",
       " <BarContainer object of 10 artists>)"
      ]
     },
     "execution_count": 51,
     "metadata": {},
     "output_type": "execute_result"
    },
    {
     "data": {
      "image/png": "[encoded data removed]",
      "text/plain": [
       "<Figure size 432x288 with 1 Axes>"
      ]
     },
     "metadata": {
      "needs_background": "light"
     },
     "output_type": "display_data"
    }
   ],
   "source": [
    "plt.hist(df['Subscription_Length_Months'],bins=10)"
   ]
  },
  {
   "cell_type": "code",
   "execution_count": 52,
   "id": "6d33c461",
   "metadata": {},
   "outputs": [
    {
     "data": {
      "text/plain": [
       "CustomerID                    100000\n",
       "Name                          100000\n",
       "Age                           100000\n",
       "Gender                        100000\n",
       "Location                      100000\n",
       "Subscription_Length_Months    100000\n",
       "Monthly_Bill                  100000\n",
       "Total_Usage_GB                100000\n",
       "Churn                         100000\n",
       "dtype: int64"
      ]
     },
     "execution_count": 52,
     "metadata": {},
     "output_type": "execute_result"
    }
   ],
   "source": [
    "df.notnull().sum()"
   ]
  },
  {
   "cell_type": "markdown",
   "id": "c2ed7644",
   "metadata": {},
   "source": [
    "# feature encoding"
   ]
  },
  {
   "cell_type": "markdown",
   "id": "76df5d59",
   "metadata": {},
   "source": [
    "# lets handle categorical columns / we can also OneHotEncoding"
   ]
  },
  {
   "cell_type": "code",
   "execution_count": 53,
   "id": "779427e9",
   "metadata": {},
   "outputs": [],
   "source": [
    "# Gender column\n",
    "def hand_Gender(g):\n",
    "    if g == 'Male':\n",
    "        return 0\n",
    "    else:\n",
    "        return 1"
   ]
  },
  {
   "cell_type": "code",
   "execution_count": 54,
   "id": "10cd33ad",
   "metadata": {},
   "outputs": [
    {
     "data": {
      "text/plain": [
       "0        0\n",
       "1        1\n",
       "2        1\n",
       "3        1\n",
       "4        1\n",
       "        ..\n",
       "99995    0\n",
       "99996    1\n",
       "99997    0\n",
       "99998    1\n",
       "99999    1\n",
       "Name: Gender, Length: 100000, dtype: int64"
      ]
     },
     "execution_count": 54,
     "metadata": {},
     "output_type": "execute_result"
    }
   ],
   "source": [
    "df['Gender'] = df['Gender'].apply(hand_Gender)\n",
    "df['Gender']"
   ]
  },
  {
   "cell_type": "code",
   "execution_count": 55,
   "id": "b7e90d21",
   "metadata": {},
   "outputs": [],
   "source": [
    "#location column\n",
    "def hand_location(L):\n",
    "    if L == 'Los Angeles':\n",
    "        return 0\n",
    "    elif L ==  'New York':\n",
    "        return 1\n",
    "    elif L == 'Miami':\n",
    "        return 2\n",
    "    elif L == 'Chicago':\n",
    "        return 3\n",
    "    else:\n",
    "        return 4\n",
    "    "
   ]
  },
  {
   "cell_type": "code",
   "execution_count": 56,
   "id": "98a7d7cc",
   "metadata": {},
   "outputs": [
    {
     "data": {
      "text/plain": [
       "0        0\n",
       "1        1\n",
       "2        0\n",
       "3        2\n",
       "4        2\n",
       "        ..\n",
       "99995    4\n",
       "99996    1\n",
       "99997    3\n",
       "99998    1\n",
       "99999    0\n",
       "Name: Location, Length: 100000, dtype: int64"
      ]
     },
     "execution_count": 56,
     "metadata": {},
     "output_type": "execute_result"
    }
   ],
   "source": [
    "df['Location'] = df['Location'].apply(hand_location)\n",
    "df['Location']"
   ]
  },
  {
   "cell_type": "code",
   "execution_count": 57,
   "id": "bf4d8295",
   "metadata": {},
   "outputs": [
    {
     "data": {
      "text/html": [
       "<div>\n",
       "<style scoped>\n",
       "    .dataframe tbody tr th:only-of-type {\n",
       "        vertical-align: middle;\n",
       "    }\n",
       "\n",
       "    .dataframe tbody tr th {\n",
       "        vertical-align: top;\n",
       "    }\n",
       "\n",
       "    .dataframe thead th {\n",
       "        text-align: right;\n",
       "    }\n",
       "</style>\n",
       "<table border=\"1\" class=\"dataframe\">\n",
       "  <thead>\n",
       "    <tr style=\"text-align: right;\">\n",
       "      <th></th>\n",
       "      <th>CustomerID</th>\n",
       "      <th>Name</th>\n",
       "      <th>Age</th>\n",
       "      <th>Gender</th>\n",
       "      <th>Location</th>\n",
       "      <th>Subscription_Length_Months</th>\n",
       "      <th>Monthly_Bill</th>\n",
       "      <th>Total_Usage_GB</th>\n",
       "      <th>Churn</th>\n",
       "    </tr>\n",
       "  </thead>\n",
       "  <tbody>\n",
       "    <tr>\n",
       "      <th>0</th>\n",
       "      <td>1</td>\n",
       "      <td>Customer_1</td>\n",
       "      <td>63</td>\n",
       "      <td>0</td>\n",
       "      <td>0</td>\n",
       "      <td>17</td>\n",
       "      <td>73.36</td>\n",
       "      <td>236</td>\n",
       "      <td>0</td>\n",
       "    </tr>\n",
       "    <tr>\n",
       "      <th>1</th>\n",
       "      <td>2</td>\n",
       "      <td>Customer_2</td>\n",
       "      <td>62</td>\n",
       "      <td>1</td>\n",
       "      <td>1</td>\n",
       "      <td>1</td>\n",
       "      <td>48.76</td>\n",
       "      <td>172</td>\n",
       "      <td>0</td>\n",
       "    </tr>\n",
       "    <tr>\n",
       "      <th>2</th>\n",
       "      <td>3</td>\n",
       "      <td>Customer_3</td>\n",
       "      <td>24</td>\n",
       "      <td>1</td>\n",
       "      <td>0</td>\n",
       "      <td>5</td>\n",
       "      <td>85.47</td>\n",
       "      <td>460</td>\n",
       "      <td>0</td>\n",
       "    </tr>\n",
       "    <tr>\n",
       "      <th>3</th>\n",
       "      <td>4</td>\n",
       "      <td>Customer_4</td>\n",
       "      <td>36</td>\n",
       "      <td>1</td>\n",
       "      <td>2</td>\n",
       "      <td>3</td>\n",
       "      <td>97.94</td>\n",
       "      <td>297</td>\n",
       "      <td>1</td>\n",
       "    </tr>\n",
       "    <tr>\n",
       "      <th>4</th>\n",
       "      <td>5</td>\n",
       "      <td>Customer_5</td>\n",
       "      <td>46</td>\n",
       "      <td>1</td>\n",
       "      <td>2</td>\n",
       "      <td>19</td>\n",
       "      <td>58.14</td>\n",
       "      <td>266</td>\n",
       "      <td>0</td>\n",
       "    </tr>\n",
       "  </tbody>\n",
       "</table>\n",
       "</div>"
      ],
      "text/plain": [
       "   CustomerID        Name  Age  Gender  Location  Subscription_Length_Months  \\\n",
       "0           1  Customer_1   63       0         0                          17   \n",
       "1           2  Customer_2   62       1         1                           1   \n",
       "2           3  Customer_3   24       1         0                           5   \n",
       "3           4  Customer_4   36       1         2                           3   \n",
       "4           5  Customer_5   46       1         2                          19   \n",
       "\n",
       "   Monthly_Bill  Total_Usage_GB  Churn  \n",
       "0         73.36             236      0  \n",
       "1         48.76             172      0  \n",
       "2         85.47             460      0  \n",
       "3         97.94             297      1  \n",
       "4         58.14             266      0  "
      ]
     },
     "execution_count": 57,
     "metadata": {},
     "output_type": "execute_result"
    }
   ],
   "source": [
    "df.head()"
   ]
  },
  {
   "cell_type": "code",
   "execution_count": 58,
   "id": "a8e46b78",
   "metadata": {},
   "outputs": [],
   "source": [
    "df=df.drop(['Name'],axis=1)\n",
    "df=df.drop(['CustomerID'],axis=1)"
   ]
  },
  {
   "cell_type": "code",
   "execution_count": 59,
   "id": "a0442bab",
   "metadata": {
    "scrolled": false
   },
   "outputs": [
    {
     "data": {
      "text/html": [
       "<div>\n",
       "<style scoped>\n",
       "    .dataframe tbody tr th:only-of-type {\n",
       "        vertical-align: middle;\n",
       "    }\n",
       "\n",
       "    .dataframe tbody tr th {\n",
       "        vertical-align: top;\n",
       "    }\n",
       "\n",
       "    .dataframe thead th {\n",
       "        text-align: right;\n",
       "    }\n",
       "</style>\n",
       "<table border=\"1\" class=\"dataframe\">\n",
       "  <thead>\n",
       "    <tr style=\"text-align: right;\">\n",
       "      <th></th>\n",
       "      <th>Age</th>\n",
       "      <th>Gender</th>\n",
       "      <th>Location</th>\n",
       "      <th>Subscription_Length_Months</th>\n",
       "      <th>Monthly_Bill</th>\n",
       "      <th>Total_Usage_GB</th>\n",
       "      <th>Churn</th>\n",
       "    </tr>\n",
       "  </thead>\n",
       "  <tbody>\n",
       "    <tr>\n",
       "      <th>0</th>\n",
       "      <td>63</td>\n",
       "      <td>0</td>\n",
       "      <td>0</td>\n",
       "      <td>17</td>\n",
       "      <td>73.36</td>\n",
       "      <td>236</td>\n",
       "      <td>0</td>\n",
       "    </tr>\n",
       "    <tr>\n",
       "      <th>1</th>\n",
       "      <td>62</td>\n",
       "      <td>1</td>\n",
       "      <td>1</td>\n",
       "      <td>1</td>\n",
       "      <td>48.76</td>\n",
       "      <td>172</td>\n",
       "      <td>0</td>\n",
       "    </tr>\n",
       "    <tr>\n",
       "      <th>2</th>\n",
       "      <td>24</td>\n",
       "      <td>1</td>\n",
       "      <td>0</td>\n",
       "      <td>5</td>\n",
       "      <td>85.47</td>\n",
       "      <td>460</td>\n",
       "      <td>0</td>\n",
       "    </tr>\n",
       "    <tr>\n",
       "      <th>3</th>\n",
       "      <td>36</td>\n",
       "      <td>1</td>\n",
       "      <td>2</td>\n",
       "      <td>3</td>\n",
       "      <td>97.94</td>\n",
       "      <td>297</td>\n",
       "      <td>1</td>\n",
       "    </tr>\n",
       "    <tr>\n",
       "      <th>4</th>\n",
       "      <td>46</td>\n",
       "      <td>1</td>\n",
       "      <td>2</td>\n",
       "      <td>19</td>\n",
       "      <td>58.14</td>\n",
       "      <td>266</td>\n",
       "      <td>0</td>\n",
       "    </tr>\n",
       "  </tbody>\n",
       "</table>\n",
       "</div>"
      ],
      "text/plain": [
       "   Age  Gender  Location  Subscription_Length_Months  Monthly_Bill  \\\n",
       "0   63       0         0                          17         73.36   \n",
       "1   62       1         1                           1         48.76   \n",
       "2   24       1         0                           5         85.47   \n",
       "3   36       1         2                           3         97.94   \n",
       "4   46       1         2                          19         58.14   \n",
       "\n",
       "   Total_Usage_GB  Churn  \n",
       "0             236      0  \n",
       "1             172      0  \n",
       "2             460      0  \n",
       "3             297      1  \n",
       "4             266      0  "
      ]
     },
     "execution_count": 59,
     "metadata": {},
     "output_type": "execute_result"
    }
   ],
   "source": [
    "df.head()"
   ]
  },
  {
   "cell_type": "code",
   "execution_count": 60,
   "id": "ca704e41",
   "metadata": {},
   "outputs": [],
   "source": [
    "final_cols = list(df.columns)"
   ]
  },
  {
   "cell_type": "markdown",
   "id": "bd4583dc",
   "metadata": {},
   "source": [
    "# Feature selection by correlation"
   ]
  },
  {
   "cell_type": "code",
   "execution_count": 61,
   "id": "fbdd7810",
   "metadata": {},
   "outputs": [
    {
     "data": {
      "text/plain": [
       "Age                           0.001559\n",
       "Gender                       -0.002121\n",
       "Location                     -0.002594\n",
       "Subscription_Length_Months    0.002328\n",
       "Monthly_Bill                 -0.000211\n",
       "Total_Usage_GB               -0.002842\n",
       "Churn                         1.000000\n",
       "Name: Churn, dtype: float64"
      ]
     },
     "execution_count": 61,
     "metadata": {},
     "output_type": "execute_result"
    }
   ],
   "source": [
    "df.corr()['Churn']"
   ]
  },
  {
   "cell_type": "markdown",
   "id": "8a873b8d",
   "metadata": {},
   "source": [
    "# scaling"
   ]
  },
  {
   "cell_type": "code",
   "execution_count": 62,
   "id": "71b6c645",
   "metadata": {},
   "outputs": [],
   "source": [
    "from sklearn.preprocessing import MinMaxScaler,StandardScaler"
   ]
  },
  {
   "cell_type": "code",
   "execution_count": 63,
   "id": "90c4f290",
   "metadata": {},
   "outputs": [],
   "source": [
    "#Scaler = MinMaxScaler()"
   ]
  },
  {
   "cell_type": "code",
   "execution_count": 64,
   "id": "170bab03",
   "metadata": {},
   "outputs": [],
   "source": [
    "#Scaler.fit(df[final_cols])"
   ]
  },
  {
   "cell_type": "code",
   "execution_count": 65,
   "id": "328aa39d",
   "metadata": {},
   "outputs": [],
   "source": [
    "#df_scale = Scaler.transform(df[final_cols])\n",
    "#df_scale"
   ]
  },
  {
   "cell_type": "code",
   "execution_count": null,
   "id": "65ca5daa",
   "metadata": {},
   "outputs": [],
   "source": []
  },
  {
   "cell_type": "code",
   "execution_count": 66,
   "id": "8961391d",
   "metadata": {},
   "outputs": [],
   "source": [
    "s_scaler = StandardScaler()"
   ]
  },
  {
   "cell_type": "code",
   "execution_count": 67,
   "id": "413ad1f4",
   "metadata": {},
   "outputs": [
    {
     "data": {
      "text/html": [
       "<style>#sk-container-id-1 {color: black;background-color: white;}#sk-container-id-1 pre{padding: 0;}#sk-container-id-1 div.sk-toggleable {background-color: white;}#sk-container-id-1 label.sk-toggleable__label {cursor: pointer;display: block;width: 100%;margin-bottom: 0;padding: 0.3em;box-sizing: border-box;text-align: center;}#sk-container-id-1 label.sk-toggleable__label-arrow:before {content: \"▸\";float: left;margin-right: 0.25em;color: #696969;}#sk-container-id-1 label.sk-toggleable__label-arrow:hover:before {color: black;}#sk-container-id-1 div.sk-estimator:hover label.sk-toggleable__label-arrow:before {color: black;}#sk-container-id-1 div.sk-toggleable__content {max-height: 0;max-width: 0;overflow: hidden;text-align: left;background-color: #f0f8ff;}#sk-container-id-1 div.sk-toggleable__content pre {margin: 0.2em;color: black;border-radius: 0.25em;background-color: #f0f8ff;}#sk-container-id-1 input.sk-toggleable__control:checked~div.sk-toggleable__content {max-height: 200px;max-width: 100%;overflow: auto;}#sk-container-id-1 input.sk-toggleable__control:checked~label.sk-toggleable__label-arrow:before {content: \"▾\";}#sk-container-id-1 div.sk-estimator input.sk-toggleable__control:checked~label.sk-toggleable__label {background-color: #d4ebff;}#sk-container-id-1 div.sk-label input.sk-toggleable__control:checked~label.sk-toggleable__label {background-color: #d4ebff;}#sk-container-id-1 input.sk-hidden--visually {border: 0;clip: rect(1px 1px 1px 1px);clip: rect(1px, 1px, 1px, 1px);height: 1px;margin: -1px;overflow: hidden;padding: 0;position: absolute;width: 1px;}#sk-container-id-1 div.sk-estimator {font-family: monospace;background-color: #f0f8ff;border: 1px dotted black;border-radius: 0.25em;box-sizing: border-box;margin-bottom: 0.5em;}#sk-container-id-1 div.sk-estimator:hover {background-color: #d4ebff;}#sk-container-id-1 div.sk-parallel-item::after {content: \"\";width: 100%;border-bottom: 1px solid gray;flex-grow: 1;}#sk-container-id-1 div.sk-label:hover label.sk-toggleable__label {background-color: #d4ebff;}#sk-container-id-1 div.sk-serial::before {content: \"\";position: absolute;border-left: 1px solid gray;box-sizing: border-box;top: 0;bottom: 0;left: 50%;z-index: 0;}#sk-container-id-1 div.sk-serial {display: flex;flex-direction: column;align-items: center;background-color: white;padding-right: 0.2em;padding-left: 0.2em;position: relative;}#sk-container-id-1 div.sk-item {position: relative;z-index: 1;}#sk-container-id-1 div.sk-parallel {display: flex;align-items: stretch;justify-content: center;background-color: white;position: relative;}#sk-container-id-1 div.sk-item::before, #sk-container-id-1 div.sk-parallel-item::before {content: \"\";position: absolute;border-left: 1px solid gray;box-sizing: border-box;top: 0;bottom: 0;left: 50%;z-index: -1;}#sk-container-id-1 div.sk-parallel-item {display: flex;flex-direction: column;z-index: 1;position: relative;background-color: white;}#sk-container-id-1 div.sk-parallel-item:first-child::after {align-self: flex-end;width: 50%;}#sk-container-id-1 div.sk-parallel-item:last-child::after {align-self: flex-start;width: 50%;}#sk-container-id-1 div.sk-parallel-item:only-child::after {width: 0;}#sk-container-id-1 div.sk-dashed-wrapped {border: 1px dashed gray;margin: 0 0.4em 0.5em 0.4em;box-sizing: border-box;padding-bottom: 0.4em;background-color: white;}#sk-container-id-1 div.sk-label label {font-family: monospace;font-weight: bold;display: inline-block;line-height: 1.2em;}#sk-container-id-1 div.sk-label-container {text-align: center;}#sk-container-id-1 div.sk-container {/* jupyter's `normalize.less` sets `[hidden] { display: none; }` but bootstrap.min.css set `[hidden] { display: none !important; }` so we also need the `!important` here to be able to override the default hidden behavior on the sphinx rendered scikit-learn.org. See: https://github.com/scikit-learn/scikit-learn/issues/21755 */display: inline-block !important;position: relative;}#sk-container-id-1 div.sk-text-repr-fallback {display: none;}</style><div id=\"sk-container-id-1\" class=\"sk-top-container\"><div class=\"sk-text-repr-fallback\"><pre>StandardScaler()</pre><b>In a Jupyter environment, please rerun this cell to show the HTML representation or trust the notebook. <br />On GitHub, the HTML representation is unable to render, please try loading this page with nbviewer.org.</b></div><div class=\"sk-container\" hidden><div class=\"sk-item\"><div class=\"sk-estimator sk-toggleable\"><input class=\"sk-toggleable__control sk-hidden--visually\" id=\"sk-estimator-id-1\" type=\"checkbox\" checked><label for=\"sk-estimator-id-1\" class=\"sk-toggleable__label sk-toggleable__label-arrow\">StandardScaler</label><div class=\"sk-toggleable__content\"><pre>StandardScaler()</pre></div></div></div></div></div>"
      ],
      "text/plain": [
       "StandardScaler()"
      ]
     },
     "execution_count": 67,
     "metadata": {},
     "output_type": "execute_result"
    }
   ],
   "source": [
    "s_scaler.fit(df)"
   ]
  },
  {
   "cell_type": "code",
   "execution_count": 69,
   "id": "367199f9",
   "metadata": {},
   "outputs": [],
   "source": [
    "x_s = s_scaler.transform(df)"
   ]
  },
  {
   "cell_type": "code",
   "execution_count": null,
   "id": "e6a41620",
   "metadata": {},
   "outputs": [],
   "source": []
  },
  {
   "cell_type": "code",
   "execution_count": 70,
   "id": "9e511938",
   "metadata": {},
   "outputs": [
    {
     "data": {
      "text/html": [
       "<div>\n",
       "<style scoped>\n",
       "    .dataframe tbody tr th:only-of-type {\n",
       "        vertical-align: middle;\n",
       "    }\n",
       "\n",
       "    .dataframe tbody tr th {\n",
       "        vertical-align: top;\n",
       "    }\n",
       "\n",
       "    .dataframe thead th {\n",
       "        text-align: right;\n",
       "    }\n",
       "</style>\n",
       "<table border=\"1\" class=\"dataframe\">\n",
       "  <thead>\n",
       "    <tr style=\"text-align: right;\">\n",
       "      <th></th>\n",
       "      <th>Age</th>\n",
       "      <th>Gender</th>\n",
       "      <th>Location</th>\n",
       "      <th>Subscription_Length_Months</th>\n",
       "      <th>Monthly_Bill</th>\n",
       "      <th>Total_Usage_GB</th>\n",
       "      <th>Churn</th>\n",
       "    </tr>\n",
       "  </thead>\n",
       "  <tbody>\n",
       "    <tr>\n",
       "      <th>0</th>\n",
       "      <td>63</td>\n",
       "      <td>0</td>\n",
       "      <td>0</td>\n",
       "      <td>17</td>\n",
       "      <td>73.36</td>\n",
       "      <td>236</td>\n",
       "      <td>0</td>\n",
       "    </tr>\n",
       "    <tr>\n",
       "      <th>1</th>\n",
       "      <td>62</td>\n",
       "      <td>1</td>\n",
       "      <td>1</td>\n",
       "      <td>1</td>\n",
       "      <td>48.76</td>\n",
       "      <td>172</td>\n",
       "      <td>0</td>\n",
       "    </tr>\n",
       "    <tr>\n",
       "      <th>2</th>\n",
       "      <td>24</td>\n",
       "      <td>1</td>\n",
       "      <td>0</td>\n",
       "      <td>5</td>\n",
       "      <td>85.47</td>\n",
       "      <td>460</td>\n",
       "      <td>0</td>\n",
       "    </tr>\n",
       "    <tr>\n",
       "      <th>3</th>\n",
       "      <td>36</td>\n",
       "      <td>1</td>\n",
       "      <td>2</td>\n",
       "      <td>3</td>\n",
       "      <td>97.94</td>\n",
       "      <td>297</td>\n",
       "      <td>1</td>\n",
       "    </tr>\n",
       "    <tr>\n",
       "      <th>4</th>\n",
       "      <td>46</td>\n",
       "      <td>1</td>\n",
       "      <td>2</td>\n",
       "      <td>19</td>\n",
       "      <td>58.14</td>\n",
       "      <td>266</td>\n",
       "      <td>0</td>\n",
       "    </tr>\n",
       "  </tbody>\n",
       "</table>\n",
       "</div>"
      ],
      "text/plain": [
       "   Age  Gender  Location  Subscription_Length_Months  Monthly_Bill  \\\n",
       "0   63       0         0                          17         73.36   \n",
       "1   62       1         1                           1         48.76   \n",
       "2   24       1         0                           5         85.47   \n",
       "3   36       1         2                           3         97.94   \n",
       "4   46       1         2                          19         58.14   \n",
       "\n",
       "   Total_Usage_GB  Churn  \n",
       "0             236      0  \n",
       "1             172      0  \n",
       "2             460      0  \n",
       "3             297      1  \n",
       "4             266      0  "
      ]
     },
     "execution_count": 70,
     "metadata": {},
     "output_type": "execute_result"
    }
   ],
   "source": [
    "df.head()"
   ]
  },
  {
   "cell_type": "markdown",
   "id": "ba8648be",
   "metadata": {},
   "source": [
    "# Finding dependent and independent column"
   ]
  },
  {
   "cell_type": "code",
   "execution_count": 71,
   "id": "8a464524",
   "metadata": {},
   "outputs": [],
   "source": [
    "X = df[df.columns[:-1:]]\n",
    "y = df['Churn']"
   ]
  },
  {
   "cell_type": "markdown",
   "id": "ad7d1156",
   "metadata": {},
   "source": [
    "# Dividing data into training and testing part"
   ]
  },
  {
   "cell_type": "code",
   "execution_count": 72,
   "id": "e3858dd8",
   "metadata": {},
   "outputs": [],
   "source": [
    "from sklearn.model_selection import train_test_split\n",
    "X_train, X_test, y_train, y_test =train_test_split(X,y,test_size=0.25,random_state=17)"
   ]
  },
  {
   "cell_type": "markdown",
   "id": "52ccce37",
   "metadata": {},
   "source": [
    "# Model building"
   ]
  },
  {
   "cell_type": "code",
   "execution_count": 73,
   "id": "ab418b93",
   "metadata": {},
   "outputs": [
    {
     "data": {
      "text/plain": [
       "-0.00011849376168826531"
      ]
     },
     "execution_count": 73,
     "metadata": {},
     "output_type": "execute_result"
    }
   ],
   "source": [
    "# Model building by Linear Regression\n",
    "from sklearn.linear_model import LinearRegression\n",
    "model = LinearRegression()\n",
    "model.fit(X_train,y_train)\n",
    "model.score(X_test,y_test)"
   ]
  },
  {
   "cell_type": "code",
   "execution_count": 74,
   "id": "2d18d9c7",
   "metadata": {},
   "outputs": [
    {
     "data": {
      "text/plain": [
       "0.4998"
      ]
     },
     "execution_count": 74,
     "metadata": {},
     "output_type": "execute_result"
    }
   ],
   "source": [
    "#Model building by Logistic Regression \n",
    "from sklearn.linear_model import LogisticRegression\n",
    "model = LogisticRegression()\n",
    "model.fit(X_train,y_train)\n",
    "model.score(X_test,y_test)"
   ]
  },
  {
   "cell_type": "code",
   "execution_count": 42,
   "id": "654e3e8c",
   "metadata": {},
   "outputs": [
    {
     "data": {
      "text/plain": [
       "0.50456"
      ]
     },
     "execution_count": 42,
     "metadata": {},
     "output_type": "execute_result"
    }
   ],
   "source": [
    "# Model building by KNN\n",
    "from sklearn.neighbors import KNeighborsClassifier\n",
    "model = KNeighborsClassifier(n_neighbors=5)\n",
    "model.fit(X_train,y_train)\n",
    "model.score(X_test,y_test)"
   ]
  },
  {
   "cell_type": "code",
   "execution_count": 43,
   "id": "b5c288a7",
   "metadata": {},
   "outputs": [
    {
     "data": {
      "text/plain": [
       "0.4998"
      ]
     },
     "execution_count": 43,
     "metadata": {},
     "output_type": "execute_result"
    }
   ],
   "source": [
    "# Model building by DecisionTreeClassifier\n",
    "from sklearn.tree import DecisionTreeClassifier\n",
    "model = DecisionTreeClassifier()\n",
    "model.fit(X_train,y_train)\n",
    "model.score(X_test,y_test)"
   ]
  },
  {
   "cell_type": "code",
   "execution_count": 44,
   "id": "d1acffd5",
   "metadata": {},
   "outputs": [
    {
     "data": {
      "text/plain": [
       "0.49556"
      ]
     },
     "execution_count": 44,
     "metadata": {},
     "output_type": "execute_result"
    }
   ],
   "source": [
    "# Random Forest \n",
    "from sklearn.ensemble import RandomForestClassifier\n",
    "model = RandomForestClassifier()\n",
    "model.fit(X_train,y_train)\n",
    "model.score(X_test,y_test)"
   ]
  },
  {
   "cell_type": "code",
   "execution_count": 45,
   "id": "3292bd07",
   "metadata": {},
   "outputs": [],
   "source": [
    "from sklearn.model_selection import GridSearchCV\n",
    "from sklearn.tree import DecisionTreeClassifier"
   ]
  },
  {
   "cell_type": "code",
   "execution_count": 46,
   "id": "845c0857",
   "metadata": {},
   "outputs": [],
   "source": [
    "dict1 = {'min_samples_leaf' : [2,3,4,5],\n",
    "         'max_depth' : [2,3,4,5]} "
   ]
  },
  {
   "cell_type": "code",
   "execution_count": 47,
   "id": "d8f77009",
   "metadata": {},
   "outputs": [
    {
     "name": "stdout",
     "output_type": "stream",
     "text": [
      "Fitting 5 folds for each of 16 candidates, totalling 80 fits\n",
      "[CV] END ....................max_depth=2, min_samples_leaf=2; total time=   0.0s\n",
      "[CV] END ....................max_depth=2, min_samples_leaf=2; total time=   0.0s\n",
      "[CV] END ....................max_depth=2, min_samples_leaf=2; total time=   0.0s\n",
      "[CV] END ....................max_depth=2, min_samples_leaf=2; total time=   0.0s\n",
      "[CV] END ....................max_depth=2, min_samples_leaf=2; total time=   0.0s\n",
      "[CV] END ....................max_depth=2, min_samples_leaf=3; total time=   0.0s\n",
      "[CV] END ....................max_depth=2, min_samples_leaf=3; total time=   0.0s\n",
      "[CV] END ....................max_depth=2, min_samples_leaf=3; total time=   0.0s\n",
      "[CV] END ....................max_depth=2, min_samples_leaf=3; total time=   0.0s\n",
      "[CV] END ....................max_depth=2, min_samples_leaf=3; total time=   0.0s\n",
      "[CV] END ....................max_depth=2, min_samples_leaf=4; total time=   0.0s\n",
      "[CV] END ....................max_depth=2, min_samples_leaf=4; total time=   0.0s\n",
      "[CV] END ....................max_depth=2, min_samples_leaf=4; total time=   0.0s\n",
      "[CV] END ....................max_depth=2, min_samples_leaf=4; total time=   0.0s\n",
      "[CV] END ....................max_depth=2, min_samples_leaf=4; total time=   0.0s\n",
      "[CV] END ....................max_depth=2, min_samples_leaf=5; total time=   0.0s\n",
      "[CV] END ....................max_depth=2, min_samples_leaf=5; total time=   0.0s\n",
      "[CV] END ....................max_depth=2, min_samples_leaf=5; total time=   0.0s\n",
      "[CV] END ....................max_depth=2, min_samples_leaf=5; total time=   0.0s\n",
      "[CV] END ....................max_depth=2, min_samples_leaf=5; total time=   0.0s\n",
      "[CV] END ....................max_depth=3, min_samples_leaf=2; total time=   0.0s\n",
      "[CV] END ....................max_depth=3, min_samples_leaf=2; total time=   0.0s\n",
      "[CV] END ....................max_depth=3, min_samples_leaf=2; total time=   0.0s\n",
      "[CV] END ....................max_depth=3, min_samples_leaf=2; total time=   0.0s\n",
      "[CV] END ....................max_depth=3, min_samples_leaf=2; total time=   0.0s\n",
      "[CV] END ....................max_depth=3, min_samples_leaf=3; total time=   0.0s\n",
      "[CV] END ....................max_depth=3, min_samples_leaf=3; total time=   0.0s\n",
      "[CV] END ....................max_depth=3, min_samples_leaf=3; total time=   0.0s\n",
      "[CV] END ....................max_depth=3, min_samples_leaf=3; total time=   0.0s\n",
      "[CV] END ....................max_depth=3, min_samples_leaf=3; total time=   0.0s\n",
      "[CV] END ....................max_depth=3, min_samples_leaf=4; total time=   0.0s\n",
      "[CV] END ....................max_depth=3, min_samples_leaf=4; total time=   0.0s\n",
      "[CV] END ....................max_depth=3, min_samples_leaf=4; total time=   0.0s\n",
      "[CV] END ....................max_depth=3, min_samples_leaf=4; total time=   0.0s\n",
      "[CV] END ....................max_depth=3, min_samples_leaf=4; total time=   0.0s\n",
      "[CV] END ....................max_depth=3, min_samples_leaf=5; total time=   0.0s\n",
      "[CV] END ....................max_depth=3, min_samples_leaf=5; total time=   0.0s\n",
      "[CV] END ....................max_depth=3, min_samples_leaf=5; total time=   0.0s\n",
      "[CV] END ....................max_depth=3, min_samples_leaf=5; total time=   0.0s\n",
      "[CV] END ....................max_depth=3, min_samples_leaf=5; total time=   0.0s\n",
      "[CV] END ....................max_depth=4, min_samples_leaf=2; total time=   0.0s\n",
      "[CV] END ....................max_depth=4, min_samples_leaf=2; total time=   0.0s\n",
      "[CV] END ....................max_depth=4, min_samples_leaf=2; total time=   0.0s\n",
      "[CV] END ....................max_depth=4, min_samples_leaf=2; total time=   0.0s\n",
      "[CV] END ....................max_depth=4, min_samples_leaf=2; total time=   0.0s\n",
      "[CV] END ....................max_depth=4, min_samples_leaf=3; total time=   0.0s\n",
      "[CV] END ....................max_depth=4, min_samples_leaf=3; total time=   0.0s\n",
      "[CV] END ....................max_depth=4, min_samples_leaf=3; total time=   0.0s\n",
      "[CV] END ....................max_depth=4, min_samples_leaf=3; total time=   0.0s\n",
      "[CV] END ....................max_depth=4, min_samples_leaf=3; total time=   0.0s\n",
      "[CV] END ....................max_depth=4, min_samples_leaf=4; total time=   0.0s\n",
      "[CV] END ....................max_depth=4, min_samples_leaf=4; total time=   0.0s\n",
      "[CV] END ....................max_depth=4, min_samples_leaf=4; total time=   0.0s\n",
      "[CV] END ....................max_depth=4, min_samples_leaf=4; total time=   0.0s\n",
      "[CV] END ....................max_depth=4, min_samples_leaf=4; total time=   0.0s\n",
      "[CV] END ....................max_depth=4, min_samples_leaf=5; total time=   0.0s\n",
      "[CV] END ....................max_depth=4, min_samples_leaf=5; total time=   0.0s\n",
      "[CV] END ....................max_depth=4, min_samples_leaf=5; total time=   0.0s\n",
      "[CV] END ....................max_depth=4, min_samples_leaf=5; total time=   0.0s\n",
      "[CV] END ....................max_depth=4, min_samples_leaf=5; total time=   0.0s\n",
      "[CV] END ....................max_depth=5, min_samples_leaf=2; total time=   0.0s\n",
      "[CV] END ....................max_depth=5, min_samples_leaf=2; total time=   0.0s\n",
      "[CV] END ....................max_depth=5, min_samples_leaf=2; total time=   0.0s\n",
      "[CV] END ....................max_depth=5, min_samples_leaf=2; total time=   0.0s\n",
      "[CV] END ....................max_depth=5, min_samples_leaf=2; total time=   0.0s\n",
      "[CV] END ....................max_depth=5, min_samples_leaf=3; total time=   0.0s\n",
      "[CV] END ....................max_depth=5, min_samples_leaf=3; total time=   0.0s\n",
      "[CV] END ....................max_depth=5, min_samples_leaf=3; total time=   0.0s\n",
      "[CV] END ....................max_depth=5, min_samples_leaf=3; total time=   0.0s\n",
      "[CV] END ....................max_depth=5, min_samples_leaf=3; total time=   0.0s\n",
      "[CV] END ....................max_depth=5, min_samples_leaf=4; total time=   0.0s\n",
      "[CV] END ....................max_depth=5, min_samples_leaf=4; total time=   0.0s\n",
      "[CV] END ....................max_depth=5, min_samples_leaf=4; total time=   0.0s\n",
      "[CV] END ....................max_depth=5, min_samples_leaf=4; total time=   0.0s\n",
      "[CV] END ....................max_depth=5, min_samples_leaf=4; total time=   0.0s\n",
      "[CV] END ....................max_depth=5, min_samples_leaf=5; total time=   0.0s\n",
      "[CV] END ....................max_depth=5, min_samples_leaf=5; total time=   0.0s\n",
      "[CV] END ....................max_depth=5, min_samples_leaf=5; total time=   0.0s\n",
      "[CV] END ....................max_depth=5, min_samples_leaf=5; total time=   0.0s\n",
      "[CV] END ....................max_depth=5, min_samples_leaf=5; total time=   0.0s\n"
     ]
    },
    {
     "data": {
      "text/html": [
       "<style>#sk-container-id-1 {color: black;background-color: white;}#sk-container-id-1 pre{padding: 0;}#sk-container-id-1 div.sk-toggleable {background-color: white;}#sk-container-id-1 label.sk-toggleable__label {cursor: pointer;display: block;width: 100%;margin-bottom: 0;padding: 0.3em;box-sizing: border-box;text-align: center;}#sk-container-id-1 label.sk-toggleable__label-arrow:before {content: \"▸\";float: left;margin-right: 0.25em;color: #696969;}#sk-container-id-1 label.sk-toggleable__label-arrow:hover:before {color: black;}#sk-container-id-1 div.sk-estimator:hover label.sk-toggleable__label-arrow:before {color: black;}#sk-container-id-1 div.sk-toggleable__content {max-height: 0;max-width: 0;overflow: hidden;text-align: left;background-color: #f0f8ff;}#sk-container-id-1 div.sk-toggleable__content pre {margin: 0.2em;color: black;border-radius: 0.25em;background-color: #f0f8ff;}#sk-container-id-1 input.sk-toggleable__control:checked~div.sk-toggleable__content {max-height: 200px;max-width: 100%;overflow: auto;}#sk-container-id-1 input.sk-toggleable__control:checked~label.sk-toggleable__label-arrow:before {content: \"▾\";}#sk-container-id-1 div.sk-estimator input.sk-toggleable__control:checked~label.sk-toggleable__label {background-color: #d4ebff;}#sk-container-id-1 div.sk-label input.sk-toggleable__control:checked~label.sk-toggleable__label {background-color: #d4ebff;}#sk-container-id-1 input.sk-hidden--visually {border: 0;clip: rect(1px 1px 1px 1px);clip: rect(1px, 1px, 1px, 1px);height: 1px;margin: -1px;overflow: hidden;padding: 0;position: absolute;width: 1px;}#sk-container-id-1 div.sk-estimator {font-family: monospace;background-color: #f0f8ff;border: 1px dotted black;border-radius: 0.25em;box-sizing: border-box;margin-bottom: 0.5em;}#sk-container-id-1 div.sk-estimator:hover {background-color: #d4ebff;}#sk-container-id-1 div.sk-parallel-item::after {content: \"\";width: 100%;border-bottom: 1px solid gray;flex-grow: 1;}#sk-container-id-1 div.sk-label:hover label.sk-toggleable__label {background-color: #d4ebff;}#sk-container-id-1 div.sk-serial::before {content: \"\";position: absolute;border-left: 1px solid gray;box-sizing: border-box;top: 0;bottom: 0;left: 50%;z-index: 0;}#sk-container-id-1 div.sk-serial {display: flex;flex-direction: column;align-items: center;background-color: white;padding-right: 0.2em;padding-left: 0.2em;position: relative;}#sk-container-id-1 div.sk-item {position: relative;z-index: 1;}#sk-container-id-1 div.sk-parallel {display: flex;align-items: stretch;justify-content: center;background-color: white;position: relative;}#sk-container-id-1 div.sk-item::before, #sk-container-id-1 div.sk-parallel-item::before {content: \"\";position: absolute;border-left: 1px solid gray;box-sizing: border-box;top: 0;bottom: 0;left: 50%;z-index: -1;}#sk-container-id-1 div.sk-parallel-item {display: flex;flex-direction: column;z-index: 1;position: relative;background-color: white;}#sk-container-id-1 div.sk-parallel-item:first-child::after {align-self: flex-end;width: 50%;}#sk-container-id-1 div.sk-parallel-item:last-child::after {align-self: flex-start;width: 50%;}#sk-container-id-1 div.sk-parallel-item:only-child::after {width: 0;}#sk-container-id-1 div.sk-dashed-wrapped {border: 1px dashed gray;margin: 0 0.4em 0.5em 0.4em;box-sizing: border-box;padding-bottom: 0.4em;background-color: white;}#sk-container-id-1 div.sk-label label {font-family: monospace;font-weight: bold;display: inline-block;line-height: 1.2em;}#sk-container-id-1 div.sk-label-container {text-align: center;}#sk-container-id-1 div.sk-container {/* jupyter's `normalize.less` sets `[hidden] { display: none; }` but bootstrap.min.css set `[hidden] { display: none !important; }` so we also need the `!important` here to be able to override the default hidden behavior on the sphinx rendered scikit-learn.org. See: https://github.com/scikit-learn/scikit-learn/issues/21755 */display: inline-block !important;position: relative;}#sk-container-id-1 div.sk-text-repr-fallback {display: none;}</style><div id=\"sk-container-id-1\" class=\"sk-top-container\"><div class=\"sk-text-repr-fallback\"><pre>GridSearchCV(cv=5, estimator=DecisionTreeClassifier(),\n",
       "             param_grid={&#x27;max_depth&#x27;: [2, 3, 4, 5],\n",
       "                         &#x27;min_samples_leaf&#x27;: [2, 3, 4, 5]},\n",
       "             verbose=2)</pre><b>In a Jupyter environment, please rerun this cell to show the HTML representation or trust the notebook. <br />On GitHub, the HTML representation is unable to render, please try loading this page with nbviewer.org.</b></div><div class=\"sk-container\" hidden><div class=\"sk-item sk-dashed-wrapped\"><div class=\"sk-label-container\"><div class=\"sk-label sk-toggleable\"><input class=\"sk-toggleable__control sk-hidden--visually\" id=\"sk-estimator-id-1\" type=\"checkbox\" ><label for=\"sk-estimator-id-1\" class=\"sk-toggleable__label sk-toggleable__label-arrow\">GridSearchCV</label><div class=\"sk-toggleable__content\"><pre>GridSearchCV(cv=5, estimator=DecisionTreeClassifier(),\n",
       "             param_grid={&#x27;max_depth&#x27;: [2, 3, 4, 5],\n",
       "                         &#x27;min_samples_leaf&#x27;: [2, 3, 4, 5]},\n",
       "             verbose=2)</pre></div></div></div><div class=\"sk-parallel\"><div class=\"sk-parallel-item\"><div class=\"sk-item\"><div class=\"sk-label-container\"><div class=\"sk-label sk-toggleable\"><input class=\"sk-toggleable__control sk-hidden--visually\" id=\"sk-estimator-id-2\" type=\"checkbox\" ><label for=\"sk-estimator-id-2\" class=\"sk-toggleable__label sk-toggleable__label-arrow\">estimator: DecisionTreeClassifier</label><div class=\"sk-toggleable__content\"><pre>DecisionTreeClassifier()</pre></div></div></div><div class=\"sk-serial\"><div class=\"sk-item\"><div class=\"sk-estimator sk-toggleable\"><input class=\"sk-toggleable__control sk-hidden--visually\" id=\"sk-estimator-id-3\" type=\"checkbox\" ><label for=\"sk-estimator-id-3\" class=\"sk-toggleable__label sk-toggleable__label-arrow\">DecisionTreeClassifier</label><div class=\"sk-toggleable__content\"><pre>DecisionTreeClassifier()</pre></div></div></div></div></div></div></div></div></div></div>"
      ],
      "text/plain": [
       "GridSearchCV(cv=5, estimator=DecisionTreeClassifier(),\n",
       "             param_grid={'max_depth': [2, 3, 4, 5],\n",
       "                         'min_samples_leaf': [2, 3, 4, 5]},\n",
       "             verbose=2)"
      ]
     },
     "execution_count": 47,
     "metadata": {},
     "output_type": "execute_result"
    }
   ],
   "source": [
    "grid_cv = GridSearchCV(DecisionTreeClassifier(), param_grid=dict1, cv=5, verbose=2)\n",
    "grid_cv.fit(X,y)"
   ]
  },
  {
   "cell_type": "code",
   "execution_count": 48,
   "id": "1d4e0a48",
   "metadata": {},
   "outputs": [
    {
     "data": {
      "text/plain": [
       "0.5041"
      ]
     },
     "execution_count": 48,
     "metadata": {},
     "output_type": "execute_result"
    }
   ],
   "source": [
    "grid_cv.best_score_"
   ]
  },
  {
   "cell_type": "code",
   "execution_count": 49,
   "id": "744f0d68",
   "metadata": {},
   "outputs": [],
   "source": [
    "from sklearn.ensemble import RandomForestClassifier\n",
    "from sklearn.model_selection import GridSearchCV,RandomizedSearchCV"
   ]
  },
  {
   "cell_type": "code",
   "execution_count": 50,
   "id": "83b18f8f",
   "metadata": {},
   "outputs": [],
   "source": [
    "dict1={'n_estimators':[75,100,150,200],\n",
    "       'max_depth':[6,7,8],\n",
    "       'min_samples_leaf':[2,3,4],\n",
    "       'min_samples_split':[2,3,4]}"
   ]
  },
  {
   "cell_type": "code",
   "execution_count": 51,
   "id": "2916ee10",
   "metadata": {},
   "outputs": [],
   "source": [
    "grid_cv = GridSearchCV(RandomForestClassifier(random_state=17), param_grid=dict1,cv=5,verbose=3)"
   ]
  },
  {
   "cell_type": "code",
   "execution_count": 52,
   "id": "101a9712",
   "metadata": {},
   "outputs": [
    {
     "name": "stdout",
     "output_type": "stream",
     "text": [
      "Fitting 5 folds for each of 108 candidates, totalling 540 fits\n",
      "[CV 1/5] END max_depth=6, min_samples_leaf=2, min_samples_split=2, n_estimators=75;, score=0.510 total time=   2.5s\n",
      "[CV 2/5] END max_depth=6, min_samples_leaf=2, min_samples_split=2, n_estimators=75;, score=0.502 total time=   2.4s\n",
      "[CV 3/5] END max_depth=6, min_samples_leaf=2, min_samples_split=2, n_estimators=75;, score=0.500 total time=   2.6s\n",
      "[CV 4/5] END max_depth=6, min_samples_leaf=2, min_samples_split=2, n_estimators=75;, score=0.498 total time=   2.4s\n",
      "[CV 5/5] END max_depth=6, min_samples_leaf=2, min_samples_split=2, n_estimators=75;, score=0.505 total time=   2.5s\n",
      "[CV 1/5] END max_depth=6, min_samples_leaf=2, min_samples_split=2, n_estimators=100;, score=0.510 total time=   3.4s\n",
      "[CV 2/5] END max_depth=6, min_samples_leaf=2, min_samples_split=2, n_estimators=100;, score=0.504 total time=   3.3s\n",
      "[CV 3/5] END max_depth=6, min_samples_leaf=2, min_samples_split=2, n_estimators=100;, score=0.500 total time=   3.4s\n",
      "[CV 4/5] END max_depth=6, min_samples_leaf=2, min_samples_split=2, n_estimators=100;, score=0.500 total time=   3.3s\n",
      "[CV 5/5] END max_depth=6, min_samples_leaf=2, min_samples_split=2, n_estimators=100;, score=0.506 total time=   3.3s\n",
      "[CV 1/5] END max_depth=6, min_samples_leaf=2, min_samples_split=2, n_estimators=150;, score=0.510 total time=   5.1s\n",
      "[CV 2/5] END max_depth=6, min_samples_leaf=2, min_samples_split=2, n_estimators=150;, score=0.504 total time=   4.9s\n",
      "[CV 3/5] END max_depth=6, min_samples_leaf=2, min_samples_split=2, n_estimators=150;, score=0.504 total time=   5.0s\n",
      "[CV 4/5] END max_depth=6, min_samples_leaf=2, min_samples_split=2, n_estimators=150;, score=0.499 total time=   5.1s\n",
      "[CV 5/5] END max_depth=6, min_samples_leaf=2, min_samples_split=2, n_estimators=150;, score=0.503 total time=   5.0s\n",
      "[CV 1/5] END max_depth=6, min_samples_leaf=2, min_samples_split=2, n_estimators=200;, score=0.509 total time=   6.6s\n",
      "[CV 2/5] END max_depth=6, min_samples_leaf=2, min_samples_split=2, n_estimators=200;, score=0.505 total time=   6.8s\n",
      "[CV 3/5] END max_depth=6, min_samples_leaf=2, min_samples_split=2, n_estimators=200;, score=0.504 total time=   6.8s\n",
      "[CV 4/5] END max_depth=6, min_samples_leaf=2, min_samples_split=2, n_estimators=200;, score=0.498 total time=   6.7s\n",
      "[CV 5/5] END max_depth=6, min_samples_leaf=2, min_samples_split=2, n_estimators=200;, score=0.504 total time=  13.0s\n",
      "[CV 1/5] END max_depth=6, min_samples_leaf=2, min_samples_split=3, n_estimators=75;, score=0.510 total time=   5.6s\n",
      "[CV 2/5] END max_depth=6, min_samples_leaf=2, min_samples_split=3, n_estimators=75;, score=0.502 total time=   5.6s\n",
      "[CV 3/5] END max_depth=6, min_samples_leaf=2, min_samples_split=3, n_estimators=75;, score=0.500 total time=   5.7s\n",
      "[CV 4/5] END max_depth=6, min_samples_leaf=2, min_samples_split=3, n_estimators=75;, score=0.498 total time=   6.0s\n",
      "[CV 5/5] END max_depth=6, min_samples_leaf=2, min_samples_split=3, n_estimators=75;, score=0.505 total time=   5.7s\n",
      "[CV 1/5] END max_depth=6, min_samples_leaf=2, min_samples_split=3, n_estimators=100;, score=0.510 total time=   7.6s\n",
      "[CV 2/5] END max_depth=6, min_samples_leaf=2, min_samples_split=3, n_estimators=100;, score=0.504 total time=   7.4s\n",
      "[CV 3/5] END max_depth=6, min_samples_leaf=2, min_samples_split=3, n_estimators=100;, score=0.500 total time=   7.6s\n",
      "[CV 4/5] END max_depth=6, min_samples_leaf=2, min_samples_split=3, n_estimators=100;, score=0.500 total time=   7.6s\n",
      "[CV 5/5] END max_depth=6, min_samples_leaf=2, min_samples_split=3, n_estimators=100;, score=0.506 total time=   7.6s\n",
      "[CV 1/5] END max_depth=6, min_samples_leaf=2, min_samples_split=3, n_estimators=150;, score=0.510 total time=  11.8s\n",
      "[CV 2/5] END max_depth=6, min_samples_leaf=2, min_samples_split=3, n_estimators=150;, score=0.504 total time=  12.1s\n",
      "[CV 3/5] END max_depth=6, min_samples_leaf=2, min_samples_split=3, n_estimators=150;, score=0.504 total time=  11.5s\n",
      "[CV 4/5] END max_depth=6, min_samples_leaf=2, min_samples_split=3, n_estimators=150;, score=0.499 total time=  11.6s\n",
      "[CV 5/5] END max_depth=6, min_samples_leaf=2, min_samples_split=3, n_estimators=150;, score=0.503 total time=  11.5s\n",
      "[CV 1/5] END max_depth=6, min_samples_leaf=2, min_samples_split=3, n_estimators=200;, score=0.509 total time=  15.1s\n",
      "[CV 2/5] END max_depth=6, min_samples_leaf=2, min_samples_split=3, n_estimators=200;, score=0.505 total time=  15.5s\n",
      "[CV 3/5] END max_depth=6, min_samples_leaf=2, min_samples_split=3, n_estimators=200;, score=0.504 total time=  16.8s\n",
      "[CV 4/5] END max_depth=6, min_samples_leaf=2, min_samples_split=3, n_estimators=200;, score=0.498 total time=  16.3s\n",
      "[CV 5/5] END max_depth=6, min_samples_leaf=2, min_samples_split=3, n_estimators=200;, score=0.504 total time=  15.2s\n",
      "[CV 1/5] END max_depth=6, min_samples_leaf=2, min_samples_split=4, n_estimators=75;, score=0.510 total time=   5.8s\n",
      "[CV 2/5] END max_depth=6, min_samples_leaf=2, min_samples_split=4, n_estimators=75;, score=0.502 total time=   5.6s\n",
      "[CV 3/5] END max_depth=6, min_samples_leaf=2, min_samples_split=4, n_estimators=75;, score=0.500 total time=   5.7s\n",
      "[CV 4/5] END max_depth=6, min_samples_leaf=2, min_samples_split=4, n_estimators=75;, score=0.498 total time=   5.7s\n",
      "[CV 5/5] END max_depth=6, min_samples_leaf=2, min_samples_split=4, n_estimators=75;, score=0.505 total time=   5.7s\n",
      "[CV 1/5] END max_depth=6, min_samples_leaf=2, min_samples_split=4, n_estimators=100;, score=0.510 total time=   7.6s\n",
      "[CV 2/5] END max_depth=6, min_samples_leaf=2, min_samples_split=4, n_estimators=100;, score=0.504 total time=   7.5s\n",
      "[CV 3/5] END max_depth=6, min_samples_leaf=2, min_samples_split=4, n_estimators=100;, score=0.500 total time=   7.6s\n",
      "[CV 4/5] END max_depth=6, min_samples_leaf=2, min_samples_split=4, n_estimators=100;, score=0.500 total time=   7.7s\n",
      "[CV 5/5] END max_depth=6, min_samples_leaf=2, min_samples_split=4, n_estimators=100;, score=0.506 total time=   7.7s\n",
      "[CV 1/5] END max_depth=6, min_samples_leaf=2, min_samples_split=4, n_estimators=150;, score=0.510 total time=  11.5s\n",
      "[CV 2/5] END max_depth=6, min_samples_leaf=2, min_samples_split=4, n_estimators=150;, score=0.504 total time=  11.2s\n",
      "[CV 3/5] END max_depth=6, min_samples_leaf=2, min_samples_split=4, n_estimators=150;, score=0.504 total time=  11.4s\n",
      "[CV 4/5] END max_depth=6, min_samples_leaf=2, min_samples_split=4, n_estimators=150;, score=0.499 total time=  11.4s\n",
      "[CV 5/5] END max_depth=6, min_samples_leaf=2, min_samples_split=4, n_estimators=150;, score=0.503 total time=  11.6s\n",
      "[CV 1/5] END max_depth=6, min_samples_leaf=2, min_samples_split=4, n_estimators=200;, score=0.509 total time=  15.3s\n",
      "[CV 2/5] END max_depth=6, min_samples_leaf=2, min_samples_split=4, n_estimators=200;, score=0.505 total time=  15.0s\n",
      "[CV 3/5] END max_depth=6, min_samples_leaf=2, min_samples_split=4, n_estimators=200;, score=0.504 total time=  15.2s\n",
      "[CV 4/5] END max_depth=6, min_samples_leaf=2, min_samples_split=4, n_estimators=200;, score=0.498 total time=  15.4s\n",
      "[CV 5/5] END max_depth=6, min_samples_leaf=2, min_samples_split=4, n_estimators=200;, score=0.504 total time=  14.9s\n",
      "[CV 1/5] END max_depth=6, min_samples_leaf=3, min_samples_split=2, n_estimators=75;, score=0.508 total time=   5.7s\n",
      "[CV 2/5] END max_depth=6, min_samples_leaf=3, min_samples_split=2, n_estimators=75;, score=0.500 total time=   5.5s\n",
      "[CV 3/5] END max_depth=6, min_samples_leaf=3, min_samples_split=2, n_estimators=75;, score=0.505 total time=   5.6s\n",
      "[CV 4/5] END max_depth=6, min_samples_leaf=3, min_samples_split=2, n_estimators=75;, score=0.499 total time=   5.6s\n",
      "[CV 5/5] END max_depth=6, min_samples_leaf=3, min_samples_split=2, n_estimators=75;, score=0.506 total time=   5.5s\n",
      "[CV 1/5] END max_depth=6, min_samples_leaf=3, min_samples_split=2, n_estimators=100;, score=0.507 total time=   7.5s\n",
      "[CV 2/5] END max_depth=6, min_samples_leaf=3, min_samples_split=2, n_estimators=100;, score=0.503 total time=   7.4s\n",
      "[CV 3/5] END max_depth=6, min_samples_leaf=3, min_samples_split=2, n_estimators=100;, score=0.505 total time=   7.7s\n",
      "[CV 4/5] END max_depth=6, min_samples_leaf=3, min_samples_split=2, n_estimators=100;, score=0.498 total time=   8.2s\n",
      "[CV 5/5] END max_depth=6, min_samples_leaf=3, min_samples_split=2, n_estimators=100;, score=0.502 total time=   7.5s\n",
      "[CV 1/5] END max_depth=6, min_samples_leaf=3, min_samples_split=2, n_estimators=150;, score=0.507 total time=  11.3s\n",
      "[CV 2/5] END max_depth=6, min_samples_leaf=3, min_samples_split=2, n_estimators=150;, score=0.502 total time=  11.2s\n",
      "[CV 3/5] END max_depth=6, min_samples_leaf=3, min_samples_split=2, n_estimators=150;, score=0.504 total time=  11.1s\n",
      "[CV 4/5] END max_depth=6, min_samples_leaf=3, min_samples_split=2, n_estimators=150;, score=0.500 total time=  11.6s\n",
      "[CV 5/5] END max_depth=6, min_samples_leaf=3, min_samples_split=2, n_estimators=150;, score=0.500 total time=  11.5s\n",
      "[CV 1/5] END max_depth=6, min_samples_leaf=3, min_samples_split=2, n_estimators=200;, score=0.506 total time=  15.4s\n",
      "[CV 2/5] END max_depth=6, min_samples_leaf=3, min_samples_split=2, n_estimators=200;, score=0.503 total time=  15.2s\n",
      "[CV 3/5] END max_depth=6, min_samples_leaf=3, min_samples_split=2, n_estimators=200;, score=0.503 total time=  15.3s\n",
      "[CV 4/5] END max_depth=6, min_samples_leaf=3, min_samples_split=2, n_estimators=200;, score=0.499 total time=  15.3s\n",
      "[CV 5/5] END max_depth=6, min_samples_leaf=3, min_samples_split=2, n_estimators=200;, score=0.500 total time=  15.0s\n",
      "[CV 1/5] END max_depth=6, min_samples_leaf=3, min_samples_split=3, n_estimators=75;, score=0.508 total time=   6.0s\n",
      "[CV 2/5] END max_depth=6, min_samples_leaf=3, min_samples_split=3, n_estimators=75;, score=0.500 total time=   5.6s\n",
      "[CV 3/5] END max_depth=6, min_samples_leaf=3, min_samples_split=3, n_estimators=75;, score=0.505 total time=   5.5s\n",
      "[CV 4/5] END max_depth=6, min_samples_leaf=3, min_samples_split=3, n_estimators=75;, score=0.499 total time=   5.7s\n",
      "[CV 5/5] END max_depth=6, min_samples_leaf=3, min_samples_split=3, n_estimators=75;, score=0.506 total time=   5.7s\n",
      "[CV 1/5] END max_depth=6, min_samples_leaf=3, min_samples_split=3, n_estimators=100;, score=0.507 total time=   7.6s\n",
      "[CV 2/5] END max_depth=6, min_samples_leaf=3, min_samples_split=3, n_estimators=100;, score=0.503 total time=   7.4s\n",
      "[CV 3/5] END max_depth=6, min_samples_leaf=3, min_samples_split=3, n_estimators=100;, score=0.505 total time=   7.9s\n",
      "[CV 4/5] END max_depth=6, min_samples_leaf=3, min_samples_split=3, n_estimators=100;, score=0.498 total time=   7.6s\n",
      "[CV 5/5] END max_depth=6, min_samples_leaf=3, min_samples_split=3, n_estimators=100;, score=0.502 total time=   7.5s\n",
      "[CV 1/5] END max_depth=6, min_samples_leaf=3, min_samples_split=3, n_estimators=150;, score=0.507 total time=  11.6s\n",
      "[CV 2/5] END max_depth=6, min_samples_leaf=3, min_samples_split=3, n_estimators=150;, score=0.502 total time=  11.2s\n",
      "[CV 3/5] END max_depth=6, min_samples_leaf=3, min_samples_split=3, n_estimators=150;, score=0.504 total time=  11.4s\n",
      "[CV 4/5] END max_depth=6, min_samples_leaf=3, min_samples_split=3, n_estimators=150;, score=0.500 total time=  11.5s\n",
      "[CV 5/5] END max_depth=6, min_samples_leaf=3, min_samples_split=3, n_estimators=150;, score=0.500 total time=  11.5s\n",
      "[CV 1/5] END max_depth=6, min_samples_leaf=3, min_samples_split=3, n_estimators=200;, score=0.506 total time=  12.0s\n",
      "[CV 2/5] END max_depth=6, min_samples_leaf=3, min_samples_split=3, n_estimators=200;, score=0.503 total time=  14.8s\n",
      "[CV 3/5] END max_depth=6, min_samples_leaf=3, min_samples_split=3, n_estimators=200;, score=0.503 total time=  15.4s\n",
      "[CV 4/5] END max_depth=6, min_samples_leaf=3, min_samples_split=3, n_estimators=200;, score=0.499 total time=  15.6s\n",
      "[CV 5/5] END max_depth=6, min_samples_leaf=3, min_samples_split=3, n_estimators=200;, score=0.500 total time=  15.5s\n",
      "[CV 1/5] END max_depth=6, min_samples_leaf=3, min_samples_split=4, n_estimators=75;, score=0.508 total time=   5.9s\n",
      "[CV 2/5] END max_depth=6, min_samples_leaf=3, min_samples_split=4, n_estimators=75;, score=0.500 total time=   5.6s\n",
      "[CV 3/5] END max_depth=6, min_samples_leaf=3, min_samples_split=4, n_estimators=75;, score=0.505 total time=   5.7s\n",
      "[CV 4/5] END max_depth=6, min_samples_leaf=3, min_samples_split=4, n_estimators=75;, score=0.499 total time=   5.9s\n",
      "[CV 5/5] END max_depth=6, min_samples_leaf=3, min_samples_split=4, n_estimators=75;, score=0.506 total time=   5.7s\n",
      "[CV 1/5] END max_depth=6, min_samples_leaf=3, min_samples_split=4, n_estimators=100;, score=0.507 total time=   7.7s\n",
      "[CV 2/5] END max_depth=6, min_samples_leaf=3, min_samples_split=4, n_estimators=100;, score=0.503 total time=   7.6s\n",
      "[CV 3/5] END max_depth=6, min_samples_leaf=3, min_samples_split=4, n_estimators=100;, score=0.505 total time=   7.7s\n",
      "[CV 4/5] END max_depth=6, min_samples_leaf=3, min_samples_split=4, n_estimators=100;, score=0.498 total time=   7.7s\n",
      "[CV 5/5] END max_depth=6, min_samples_leaf=3, min_samples_split=4, n_estimators=100;, score=0.502 total time=   7.8s\n",
      "[CV 1/5] END max_depth=6, min_samples_leaf=3, min_samples_split=4, n_estimators=150;, score=0.507 total time=  11.7s\n",
      "[CV 2/5] END max_depth=6, min_samples_leaf=3, min_samples_split=4, n_estimators=150;, score=0.502 total time=  11.4s\n",
      "[CV 3/5] END max_depth=6, min_samples_leaf=3, min_samples_split=4, n_estimators=150;, score=0.504 total time=  11.5s\n",
      "[CV 4/5] END max_depth=6, min_samples_leaf=3, min_samples_split=4, n_estimators=150;, score=0.500 total time=  11.6s\n",
      "[CV 5/5] END max_depth=6, min_samples_leaf=3, min_samples_split=4, n_estimators=150;, score=0.500 total time=  12.1s\n",
      "[CV 1/5] END max_depth=6, min_samples_leaf=3, min_samples_split=4, n_estimators=200;, score=0.506 total time=  16.1s\n",
      "[CV 2/5] END max_depth=6, min_samples_leaf=3, min_samples_split=4, n_estimators=200;, score=0.503 total time=  14.9s\n",
      "[CV 3/5] END max_depth=6, min_samples_leaf=3, min_samples_split=4, n_estimators=200;, score=0.503 total time=  15.3s\n",
      "[CV 4/5] END max_depth=6, min_samples_leaf=3, min_samples_split=4, n_estimators=200;, score=0.499 total time=  15.3s\n",
      "[CV 5/5] END max_depth=6, min_samples_leaf=3, min_samples_split=4, n_estimators=200;, score=0.500 total time=  14.9s\n",
      "[CV 1/5] END max_depth=6, min_samples_leaf=4, min_samples_split=2, n_estimators=75;, score=0.506 total time=   5.7s\n",
      "[CV 2/5] END max_depth=6, min_samples_leaf=4, min_samples_split=2, n_estimators=75;, score=0.503 total time=   5.6s\n",
      "[CV 3/5] END max_depth=6, min_samples_leaf=4, min_samples_split=2, n_estimators=75;, score=0.503 total time=   5.6s\n",
      "[CV 4/5] END max_depth=6, min_samples_leaf=4, min_samples_split=2, n_estimators=75;, score=0.500 total time=   5.6s\n",
      "[CV 5/5] END max_depth=6, min_samples_leaf=4, min_samples_split=2, n_estimators=75;, score=0.502 total time=   5.7s\n",
      "[CV 1/5] END max_depth=6, min_samples_leaf=4, min_samples_split=2, n_estimators=100;, score=0.506 total time=   7.7s\n",
      "[CV 2/5] END max_depth=6, min_samples_leaf=4, min_samples_split=2, n_estimators=100;, score=0.504 total time=   7.5s\n",
      "[CV 3/5] END max_depth=6, min_samples_leaf=4, min_samples_split=2, n_estimators=100;, score=0.504 total time=   7.5s\n",
      "[CV 4/5] END max_depth=6, min_samples_leaf=4, min_samples_split=2, n_estimators=100;, score=0.499 total time=   7.7s\n",
      "[CV 5/5] END max_depth=6, min_samples_leaf=4, min_samples_split=2, n_estimators=100;, score=0.502 total time=   7.5s\n",
      "[CV 1/5] END max_depth=6, min_samples_leaf=4, min_samples_split=2, n_estimators=150;, score=0.505 total time=  11.4s\n",
      "[CV 2/5] END max_depth=6, min_samples_leaf=4, min_samples_split=2, n_estimators=150;, score=0.505 total time=  11.3s\n",
      "[CV 3/5] END max_depth=6, min_samples_leaf=4, min_samples_split=2, n_estimators=150;, score=0.503 total time=  11.4s\n",
      "[CV 4/5] END max_depth=6, min_samples_leaf=4, min_samples_split=2, n_estimators=150;, score=0.499 total time=  11.4s\n",
      "[CV 5/5] END max_depth=6, min_samples_leaf=4, min_samples_split=2, n_estimators=150;, score=0.501 total time=  11.2s\n",
      "[CV 1/5] END max_depth=6, min_samples_leaf=4, min_samples_split=2, n_estimators=200;, score=0.505 total time=  15.2s\n",
      "[CV 2/5] END max_depth=6, min_samples_leaf=4, min_samples_split=2, n_estimators=200;, score=0.503 total time=  15.1s\n",
      "[CV 3/5] END max_depth=6, min_samples_leaf=4, min_samples_split=2, n_estimators=200;, score=0.503 total time=  15.3s\n",
      "[CV 4/5] END max_depth=6, min_samples_leaf=4, min_samples_split=2, n_estimators=200;, score=0.499 total time=  15.2s\n",
      "[CV 5/5] END max_depth=6, min_samples_leaf=4, min_samples_split=2, n_estimators=200;, score=0.503 total time=  15.1s\n",
      "[CV 1/5] END max_depth=6, min_samples_leaf=4, min_samples_split=3, n_estimators=75;, score=0.506 total time=   5.8s\n",
      "[CV 2/5] END max_depth=6, min_samples_leaf=4, min_samples_split=3, n_estimators=75;, score=0.503 total time=   5.7s\n",
      "[CV 3/5] END max_depth=6, min_samples_leaf=4, min_samples_split=3, n_estimators=75;, score=0.503 total time=   5.8s\n",
      "[CV 4/5] END max_depth=6, min_samples_leaf=4, min_samples_split=3, n_estimators=75;, score=0.500 total time=   5.8s\n",
      "[CV 5/5] END max_depth=6, min_samples_leaf=4, min_samples_split=3, n_estimators=75;, score=0.502 total time=   5.8s\n",
      "[CV 1/5] END max_depth=6, min_samples_leaf=4, min_samples_split=3, n_estimators=100;, score=0.506 total time=   7.7s\n",
      "[CV 2/5] END max_depth=6, min_samples_leaf=4, min_samples_split=3, n_estimators=100;, score=0.504 total time=   7.5s\n",
      "[CV 3/5] END max_depth=6, min_samples_leaf=4, min_samples_split=3, n_estimators=100;, score=0.504 total time=   7.7s\n",
      "[CV 4/5] END max_depth=6, min_samples_leaf=4, min_samples_split=3, n_estimators=100;, score=0.499 total time=   7.7s\n",
      "[CV 5/5] END max_depth=6, min_samples_leaf=4, min_samples_split=3, n_estimators=100;, score=0.502 total time=   7.7s\n",
      "[CV 1/5] END max_depth=6, min_samples_leaf=4, min_samples_split=3, n_estimators=150;, score=0.505 total time=  11.7s\n",
      "[CV 2/5] END max_depth=6, min_samples_leaf=4, min_samples_split=3, n_estimators=150;, score=0.505 total time=  11.4s\n",
      "[CV 3/5] END max_depth=6, min_samples_leaf=4, min_samples_split=3, n_estimators=150;, score=0.503 total time=  11.6s\n",
      "[CV 4/5] END max_depth=6, min_samples_leaf=4, min_samples_split=3, n_estimators=150;, score=0.499 total time=  11.6s\n",
      "[CV 5/5] END max_depth=6, min_samples_leaf=4, min_samples_split=3, n_estimators=150;, score=0.501 total time=  11.8s\n",
      "[CV 1/5] END max_depth=6, min_samples_leaf=4, min_samples_split=3, n_estimators=200;, score=0.505 total time=  15.7s\n",
      "[CV 2/5] END max_depth=6, min_samples_leaf=4, min_samples_split=3, n_estimators=200;, score=0.503 total time=  15.4s\n",
      "[CV 3/5] END max_depth=6, min_samples_leaf=4, min_samples_split=3, n_estimators=200;, score=0.503 total time=  12.3s\n",
      "[CV 4/5] END max_depth=6, min_samples_leaf=4, min_samples_split=3, n_estimators=200;, score=0.499 total time=  15.6s\n",
      "[CV 5/5] END max_depth=6, min_samples_leaf=4, min_samples_split=3, n_estimators=200;, score=0.503 total time=  16.1s\n",
      "[CV 1/5] END max_depth=6, min_samples_leaf=4, min_samples_split=4, n_estimators=75;, score=0.506 total time=   6.1s\n",
      "[CV 2/5] END max_depth=6, min_samples_leaf=4, min_samples_split=4, n_estimators=75;, score=0.503 total time=   5.7s\n",
      "[CV 3/5] END max_depth=6, min_samples_leaf=4, min_samples_split=4, n_estimators=75;, score=0.503 total time=   5.7s\n",
      "[CV 4/5] END max_depth=6, min_samples_leaf=4, min_samples_split=4, n_estimators=75;, score=0.500 total time=   5.7s\n",
      "[CV 5/5] END max_depth=6, min_samples_leaf=4, min_samples_split=4, n_estimators=75;, score=0.502 total time=   5.7s\n",
      "[CV 1/5] END max_depth=6, min_samples_leaf=4, min_samples_split=4, n_estimators=100;, score=0.506 total time=   7.8s\n",
      "[CV 2/5] END max_depth=6, min_samples_leaf=4, min_samples_split=4, n_estimators=100;, score=0.504 total time=   7.4s\n",
      "[CV 3/5] END max_depth=6, min_samples_leaf=4, min_samples_split=4, n_estimators=100;, score=0.504 total time=   7.6s\n",
      "[CV 4/5] END max_depth=6, min_samples_leaf=4, min_samples_split=4, n_estimators=100;, score=0.499 total time=   7.8s\n",
      "[CV 5/5] END max_depth=6, min_samples_leaf=4, min_samples_split=4, n_estimators=100;, score=0.502 total time=   7.6s\n",
      "[CV 1/5] END max_depth=6, min_samples_leaf=4, min_samples_split=4, n_estimators=150;, score=0.505 total time=  11.4s\n",
      "[CV 2/5] END max_depth=6, min_samples_leaf=4, min_samples_split=4, n_estimators=150;, score=0.505 total time=  11.3s\n",
      "[CV 3/5] END max_depth=6, min_samples_leaf=4, min_samples_split=4, n_estimators=150;, score=0.503 total time=  11.4s\n",
      "[CV 4/5] END max_depth=6, min_samples_leaf=4, min_samples_split=4, n_estimators=150;, score=0.499 total time=  11.5s\n",
      "[CV 5/5] END max_depth=6, min_samples_leaf=4, min_samples_split=4, n_estimators=150;, score=0.501 total time=  11.4s\n",
      "[CV 1/5] END max_depth=6, min_samples_leaf=4, min_samples_split=4, n_estimators=200;, score=0.505 total time=  15.2s\n",
      "[CV 2/5] END max_depth=6, min_samples_leaf=4, min_samples_split=4, n_estimators=200;, score=0.503 total time=  15.0s\n",
      "[CV 3/5] END max_depth=6, min_samples_leaf=4, min_samples_split=4, n_estimators=200;, score=0.503 total time=  15.3s\n",
      "[CV 4/5] END max_depth=6, min_samples_leaf=4, min_samples_split=4, n_estimators=200;, score=0.499 total time=  15.4s\n",
      "[CV 5/5] END max_depth=6, min_samples_leaf=4, min_samples_split=4, n_estimators=200;, score=0.503 total time=  15.1s\n",
      "[CV 1/5] END max_depth=7, min_samples_leaf=2, min_samples_split=2, n_estimators=75;, score=0.506 total time=   6.3s\n",
      "[CV 2/5] END max_depth=7, min_samples_leaf=2, min_samples_split=2, n_estimators=75;, score=0.504 total time=   6.3s\n",
      "[CV 3/5] END max_depth=7, min_samples_leaf=2, min_samples_split=2, n_estimators=75;, score=0.507 total time=   6.3s\n",
      "[CV 4/5] END max_depth=7, min_samples_leaf=2, min_samples_split=2, n_estimators=75;, score=0.499 total time=   6.3s\n",
      "[CV 5/5] END max_depth=7, min_samples_leaf=2, min_samples_split=2, n_estimators=75;, score=0.503 total time=   6.4s\n",
      "[CV 1/5] END max_depth=7, min_samples_leaf=2, min_samples_split=2, n_estimators=100;, score=0.506 total time=   8.5s\n",
      "[CV 2/5] END max_depth=7, min_samples_leaf=2, min_samples_split=2, n_estimators=100;, score=0.503 total time=   8.4s\n",
      "[CV 3/5] END max_depth=7, min_samples_leaf=2, min_samples_split=2, n_estimators=100;, score=0.506 total time=   8.4s\n",
      "[CV 4/5] END max_depth=7, min_samples_leaf=2, min_samples_split=2, n_estimators=100;, score=0.498 total time=   8.4s\n",
      "[CV 5/5] END max_depth=7, min_samples_leaf=2, min_samples_split=2, n_estimators=100;, score=0.505 total time=   8.5s\n",
      "[CV 1/5] END max_depth=7, min_samples_leaf=2, min_samples_split=2, n_estimators=150;, score=0.507 total time=  12.9s\n",
      "[CV 2/5] END max_depth=7, min_samples_leaf=2, min_samples_split=2, n_estimators=150;, score=0.503 total time=  12.6s\n",
      "[CV 3/5] END max_depth=7, min_samples_leaf=2, min_samples_split=2, n_estimators=150;, score=0.505 total time=  12.7s\n",
      "[CV 4/5] END max_depth=7, min_samples_leaf=2, min_samples_split=2, n_estimators=150;, score=0.500 total time=  12.5s\n",
      "[CV 5/5] END max_depth=7, min_samples_leaf=2, min_samples_split=2, n_estimators=150;, score=0.504 total time=  12.9s\n",
      "[CV 1/5] END max_depth=7, min_samples_leaf=2, min_samples_split=2, n_estimators=200;, score=0.509 total time=  17.0s\n",
      "[CV 2/5] END max_depth=7, min_samples_leaf=2, min_samples_split=2, n_estimators=200;, score=0.504 total time=  16.7s\n",
      "[CV 3/5] END max_depth=7, min_samples_leaf=2, min_samples_split=2, n_estimators=200;, score=0.505 total time=  16.8s\n",
      "[CV 4/5] END max_depth=7, min_samples_leaf=2, min_samples_split=2, n_estimators=200;, score=0.498 total time=  13.9s\n",
      "[CV 5/5] END max_depth=7, min_samples_leaf=2, min_samples_split=2, n_estimators=200;, score=0.503 total time=  17.5s\n",
      "[CV 1/5] END max_depth=7, min_samples_leaf=2, min_samples_split=3, n_estimators=75;, score=0.506 total time=   6.4s\n",
      "[CV 2/5] END max_depth=7, min_samples_leaf=2, min_samples_split=3, n_estimators=75;, score=0.504 total time=   6.6s\n",
      "[CV 3/5] END max_depth=7, min_samples_leaf=2, min_samples_split=3, n_estimators=75;, score=0.507 total time=   6.8s\n",
      "[CV 4/5] END max_depth=7, min_samples_leaf=2, min_samples_split=3, n_estimators=75;, score=0.499 total time=   6.6s\n",
      "[CV 5/5] END max_depth=7, min_samples_leaf=2, min_samples_split=3, n_estimators=75;, score=0.503 total time=   6.5s\n",
      "[CV 1/5] END max_depth=7, min_samples_leaf=2, min_samples_split=3, n_estimators=100;, score=0.506 total time=   8.7s\n",
      "[CV 2/5] END max_depth=7, min_samples_leaf=2, min_samples_split=3, n_estimators=100;, score=0.503 total time=   8.7s\n",
      "[CV 3/5] END max_depth=7, min_samples_leaf=2, min_samples_split=3, n_estimators=100;, score=0.506 total time=   8.7s\n",
      "[CV 4/5] END max_depth=7, min_samples_leaf=2, min_samples_split=3, n_estimators=100;, score=0.498 total time=   8.5s\n",
      "[CV 5/5] END max_depth=7, min_samples_leaf=2, min_samples_split=3, n_estimators=100;, score=0.505 total time=   8.6s\n",
      "[CV 1/5] END max_depth=7, min_samples_leaf=2, min_samples_split=3, n_estimators=150;, score=0.507 total time=  12.8s\n",
      "[CV 2/5] END max_depth=7, min_samples_leaf=2, min_samples_split=3, n_estimators=150;, score=0.503 total time=  12.9s\n",
      "[CV 3/5] END max_depth=7, min_samples_leaf=2, min_samples_split=3, n_estimators=150;, score=0.505 total time=  13.5s\n",
      "[CV 4/5] END max_depth=7, min_samples_leaf=2, min_samples_split=3, n_estimators=150;, score=0.500 total time=  12.7s\n",
      "[CV 5/5] END max_depth=7, min_samples_leaf=2, min_samples_split=3, n_estimators=150;, score=0.504 total time=  13.0s\n",
      "[CV 1/5] END max_depth=7, min_samples_leaf=2, min_samples_split=3, n_estimators=200;, score=0.509 total time=  17.1s\n",
      "[CV 2/5] END max_depth=7, min_samples_leaf=2, min_samples_split=3, n_estimators=200;, score=0.504 total time=  17.3s\n",
      "[CV 3/5] END max_depth=7, min_samples_leaf=2, min_samples_split=3, n_estimators=200;, score=0.505 total time=  17.0s\n",
      "[CV 4/5] END max_depth=7, min_samples_leaf=2, min_samples_split=3, n_estimators=200;, score=0.498 total time=  17.1s\n",
      "[CV 5/5] END max_depth=7, min_samples_leaf=2, min_samples_split=3, n_estimators=200;, score=0.503 total time=  17.3s\n",
      "[CV 1/5] END max_depth=7, min_samples_leaf=2, min_samples_split=4, n_estimators=75;, score=0.506 total time=   6.3s\n",
      "[CV 2/5] END max_depth=7, min_samples_leaf=2, min_samples_split=4, n_estimators=75;, score=0.504 total time=   6.3s\n",
      "[CV 3/5] END max_depth=7, min_samples_leaf=2, min_samples_split=4, n_estimators=75;, score=0.507 total time=   6.3s\n",
      "[CV 4/5] END max_depth=7, min_samples_leaf=2, min_samples_split=4, n_estimators=75;, score=0.499 total time=   6.4s\n",
      "[CV 5/5] END max_depth=7, min_samples_leaf=2, min_samples_split=4, n_estimators=75;, score=0.503 total time=   6.4s\n",
      "[CV 1/5] END max_depth=7, min_samples_leaf=2, min_samples_split=4, n_estimators=100;, score=0.506 total time=   8.4s\n",
      "[CV 2/5] END max_depth=7, min_samples_leaf=2, min_samples_split=4, n_estimators=100;, score=0.503 total time=   8.8s\n",
      "[CV 3/5] END max_depth=7, min_samples_leaf=2, min_samples_split=4, n_estimators=100;, score=0.506 total time=   9.2s\n",
      "[CV 4/5] END max_depth=7, min_samples_leaf=2, min_samples_split=4, n_estimators=100;, score=0.498 total time=   8.7s\n",
      "[CV 5/5] END max_depth=7, min_samples_leaf=2, min_samples_split=4, n_estimators=100;, score=0.505 total time=   8.8s\n",
      "[CV 1/5] END max_depth=7, min_samples_leaf=2, min_samples_split=4, n_estimators=150;, score=0.507 total time=  13.0s\n",
      "[CV 2/5] END max_depth=7, min_samples_leaf=2, min_samples_split=4, n_estimators=150;, score=0.503 total time=  12.7s\n",
      "[CV 3/5] END max_depth=7, min_samples_leaf=2, min_samples_split=4, n_estimators=150;, score=0.505 total time=  13.3s\n",
      "[CV 4/5] END max_depth=7, min_samples_leaf=2, min_samples_split=4, n_estimators=150;, score=0.500 total time=  13.1s\n",
      "[CV 5/5] END max_depth=7, min_samples_leaf=2, min_samples_split=4, n_estimators=150;, score=0.504 total time=  13.0s\n",
      "[CV 1/5] END max_depth=7, min_samples_leaf=2, min_samples_split=4, n_estimators=200;, score=0.509 total time=  17.1s\n",
      "[CV 2/5] END max_depth=7, min_samples_leaf=2, min_samples_split=4, n_estimators=200;, score=0.504 total time=  17.3s\n",
      "[CV 3/5] END max_depth=7, min_samples_leaf=2, min_samples_split=4, n_estimators=200;, score=0.505 total time=  18.0s\n",
      "[CV 4/5] END max_depth=7, min_samples_leaf=2, min_samples_split=4, n_estimators=200;, score=0.498 total time=  17.8s\n",
      "[CV 5/5] END max_depth=7, min_samples_leaf=2, min_samples_split=4, n_estimators=200;, score=0.503 total time=  17.4s\n",
      "[CV 1/5] END max_depth=7, min_samples_leaf=3, min_samples_split=2, n_estimators=75;, score=0.506 total time=   6.5s\n",
      "[CV 2/5] END max_depth=7, min_samples_leaf=3, min_samples_split=2, n_estimators=75;, score=0.506 total time=   6.7s\n",
      "[CV 3/5] END max_depth=7, min_samples_leaf=3, min_samples_split=2, n_estimators=75;, score=0.503 total time=   6.8s\n",
      "[CV 4/5] END max_depth=7, min_samples_leaf=3, min_samples_split=2, n_estimators=75;, score=0.499 total time=   6.6s\n",
      "[CV 5/5] END max_depth=7, min_samples_leaf=3, min_samples_split=2, n_estimators=75;, score=0.504 total time=   6.9s\n",
      "[CV 1/5] END max_depth=7, min_samples_leaf=3, min_samples_split=2, n_estimators=100;, score=0.509 total time=   9.1s\n",
      "[CV 2/5] END max_depth=7, min_samples_leaf=3, min_samples_split=2, n_estimators=100;, score=0.504 total time=   8.9s\n",
      "[CV 3/5] END max_depth=7, min_samples_leaf=3, min_samples_split=2, n_estimators=100;, score=0.503 total time=   8.8s\n",
      "[CV 4/5] END max_depth=7, min_samples_leaf=3, min_samples_split=2, n_estimators=100;, score=0.500 total time=   8.5s\n",
      "[CV 5/5] END max_depth=7, min_samples_leaf=3, min_samples_split=2, n_estimators=100;, score=0.505 total time=   8.6s\n",
      "[CV 1/5] END max_depth=7, min_samples_leaf=3, min_samples_split=2, n_estimators=150;, score=0.505 total time=  13.0s\n",
      "[CV 2/5] END max_depth=7, min_samples_leaf=3, min_samples_split=2, n_estimators=150;, score=0.502 total time=  12.8s\n",
      "[CV 3/5] END max_depth=7, min_samples_leaf=3, min_samples_split=2, n_estimators=150;, score=0.503 total time=  12.7s\n",
      "[CV 4/5] END max_depth=7, min_samples_leaf=3, min_samples_split=2, n_estimators=150;, score=0.497 total time=  13.3s\n",
      "[CV 5/5] END max_depth=7, min_samples_leaf=3, min_samples_split=2, n_estimators=150;, score=0.505 total time=  14.0s\n",
      "[CV 1/5] END max_depth=7, min_samples_leaf=3, min_samples_split=2, n_estimators=200;, score=0.507 total time=  17.3s\n",
      "[CV 2/5] END max_depth=7, min_samples_leaf=3, min_samples_split=2, n_estimators=200;, score=0.501 total time=  17.6s\n",
      "[CV 3/5] END max_depth=7, min_samples_leaf=3, min_samples_split=2, n_estimators=200;, score=0.502 total time=  18.3s\n",
      "[CV 4/5] END max_depth=7, min_samples_leaf=3, min_samples_split=2, n_estimators=200;, score=0.499 total time=  17.1s\n",
      "[CV 5/5] END max_depth=7, min_samples_leaf=3, min_samples_split=2, n_estimators=200;, score=0.502 total time=  18.2s\n",
      "[CV 1/5] END max_depth=7, min_samples_leaf=3, min_samples_split=3, n_estimators=75;, score=0.506 total time=   7.0s\n",
      "[CV 2/5] END max_depth=7, min_samples_leaf=3, min_samples_split=3, n_estimators=75;, score=0.506 total time=   6.5s\n",
      "[CV 3/5] END max_depth=7, min_samples_leaf=3, min_samples_split=3, n_estimators=75;, score=0.503 total time=   6.8s\n",
      "[CV 4/5] END max_depth=7, min_samples_leaf=3, min_samples_split=3, n_estimators=75;, score=0.499 total time=   6.7s\n",
      "[CV 5/5] END max_depth=7, min_samples_leaf=3, min_samples_split=3, n_estimators=75;, score=0.504 total time=   6.5s\n",
      "[CV 1/5] END max_depth=7, min_samples_leaf=3, min_samples_split=3, n_estimators=100;, score=0.509 total time=   8.6s\n",
      "[CV 2/5] END max_depth=7, min_samples_leaf=3, min_samples_split=3, n_estimators=100;, score=0.504 total time=   8.5s\n",
      "[CV 3/5] END max_depth=7, min_samples_leaf=3, min_samples_split=3, n_estimators=100;, score=0.503 total time=   8.6s\n",
      "[CV 4/5] END max_depth=7, min_samples_leaf=3, min_samples_split=3, n_estimators=100;, score=0.500 total time=   8.3s\n",
      "[CV 5/5] END max_depth=7, min_samples_leaf=3, min_samples_split=3, n_estimators=100;, score=0.505 total time=   8.6s\n",
      "[CV 1/5] END max_depth=7, min_samples_leaf=3, min_samples_split=3, n_estimators=150;, score=0.505 total time=  12.5s\n",
      "[CV 2/5] END max_depth=7, min_samples_leaf=3, min_samples_split=3, n_estimators=150;, score=0.502 total time=  13.0s\n",
      "[CV 3/5] END max_depth=7, min_samples_leaf=3, min_samples_split=3, n_estimators=150;, score=0.503 total time=  12.9s\n",
      "[CV 4/5] END max_depth=7, min_samples_leaf=3, min_samples_split=3, n_estimators=150;, score=0.497 total time=  13.0s\n",
      "[CV 5/5] END max_depth=7, min_samples_leaf=3, min_samples_split=3, n_estimators=150;, score=0.505 total time=  13.6s\n",
      "[CV 1/5] END max_depth=7, min_samples_leaf=3, min_samples_split=3, n_estimators=200;, score=0.507 total time=  18.1s\n",
      "[CV 2/5] END max_depth=7, min_samples_leaf=3, min_samples_split=3, n_estimators=200;, score=0.501 total time=  17.7s\n",
      "[CV 3/5] END max_depth=7, min_samples_leaf=3, min_samples_split=3, n_estimators=200;, score=0.502 total time=  17.9s\n",
      "[CV 4/5] END max_depth=7, min_samples_leaf=3, min_samples_split=3, n_estimators=200;, score=0.499 total time=  17.8s\n",
      "[CV 5/5] END max_depth=7, min_samples_leaf=3, min_samples_split=3, n_estimators=200;, score=0.502 total time=  17.5s\n",
      "[CV 1/5] END max_depth=7, min_samples_leaf=3, min_samples_split=4, n_estimators=75;, score=0.506 total time=   6.5s\n",
      "[CV 2/5] END max_depth=7, min_samples_leaf=3, min_samples_split=4, n_estimators=75;, score=0.506 total time=   6.5s\n",
      "[CV 3/5] END max_depth=7, min_samples_leaf=3, min_samples_split=4, n_estimators=75;, score=0.503 total time=   6.6s\n",
      "[CV 4/5] END max_depth=7, min_samples_leaf=3, min_samples_split=4, n_estimators=75;, score=0.499 total time=   6.5s\n",
      "[CV 5/5] END max_depth=7, min_samples_leaf=3, min_samples_split=4, n_estimators=75;, score=0.504 total time=   6.5s\n",
      "[CV 1/5] END max_depth=7, min_samples_leaf=3, min_samples_split=4, n_estimators=100;, score=0.509 total time=   8.7s\n",
      "[CV 2/5] END max_depth=7, min_samples_leaf=3, min_samples_split=4, n_estimators=100;, score=0.504 total time=   8.7s\n",
      "[CV 3/5] END max_depth=7, min_samples_leaf=3, min_samples_split=4, n_estimators=100;, score=0.503 total time=   8.7s\n",
      "[CV 4/5] END max_depth=7, min_samples_leaf=3, min_samples_split=4, n_estimators=100;, score=0.500 total time=   8.5s\n",
      "[CV 5/5] END max_depth=7, min_samples_leaf=3, min_samples_split=4, n_estimators=100;, score=0.505 total time=   8.7s\n",
      "[CV 1/5] END max_depth=7, min_samples_leaf=3, min_samples_split=4, n_estimators=150;, score=0.505 total time=  13.0s\n",
      "[CV 2/5] END max_depth=7, min_samples_leaf=3, min_samples_split=4, n_estimators=150;, score=0.502 total time=  13.4s\n",
      "[CV 3/5] END max_depth=7, min_samples_leaf=3, min_samples_split=4, n_estimators=150;, score=0.503 total time=  13.6s\n",
      "[CV 4/5] END max_depth=7, min_samples_leaf=3, min_samples_split=4, n_estimators=150;, score=0.497 total time=  13.2s\n",
      "[CV 5/5] END max_depth=7, min_samples_leaf=3, min_samples_split=4, n_estimators=150;, score=0.505 total time=  13.4s\n",
      "[CV 1/5] END max_depth=7, min_samples_leaf=3, min_samples_split=4, n_estimators=200;, score=0.507 total time=  17.5s\n",
      "[CV 2/5] END max_depth=7, min_samples_leaf=3, min_samples_split=4, n_estimators=200;, score=0.501 total time=  18.3s\n",
      "[CV 3/5] END max_depth=7, min_samples_leaf=3, min_samples_split=4, n_estimators=200;, score=0.502 total time=  18.8s\n",
      "[CV 4/5] END max_depth=7, min_samples_leaf=3, min_samples_split=4, n_estimators=200;, score=0.499 total time=  17.8s\n",
      "[CV 5/5] END max_depth=7, min_samples_leaf=3, min_samples_split=4, n_estimators=200;, score=0.502 total time=  18.3s\n",
      "[CV 1/5] END max_depth=7, min_samples_leaf=4, min_samples_split=2, n_estimators=75;, score=0.507 total time=   6.8s\n",
      "[CV 2/5] END max_depth=7, min_samples_leaf=4, min_samples_split=2, n_estimators=75;, score=0.506 total time=   7.5s\n",
      "[CV 3/5] END max_depth=7, min_samples_leaf=4, min_samples_split=2, n_estimators=75;, score=0.502 total time=   7.4s\n",
      "[CV 4/5] END max_depth=7, min_samples_leaf=4, min_samples_split=2, n_estimators=75;, score=0.498 total time=   7.7s\n",
      "[CV 5/5] END max_depth=7, min_samples_leaf=4, min_samples_split=2, n_estimators=75;, score=0.503 total time=   6.7s\n",
      "[CV 1/5] END max_depth=7, min_samples_leaf=4, min_samples_split=2, n_estimators=100;, score=0.507 total time=   9.2s\n",
      "[CV 2/5] END max_depth=7, min_samples_leaf=4, min_samples_split=2, n_estimators=100;, score=0.505 total time=   9.3s\n",
      "[CV 3/5] END max_depth=7, min_samples_leaf=4, min_samples_split=2, n_estimators=100;, score=0.503 total time=   9.2s\n",
      "[CV 4/5] END max_depth=7, min_samples_leaf=4, min_samples_split=2, n_estimators=100;, score=0.497 total time=   9.2s\n",
      "[CV 5/5] END max_depth=7, min_samples_leaf=4, min_samples_split=2, n_estimators=100;, score=0.504 total time=   9.1s\n",
      "[CV 1/5] END max_depth=7, min_samples_leaf=4, min_samples_split=2, n_estimators=150;, score=0.506 total time=  13.8s\n",
      "[CV 2/5] END max_depth=7, min_samples_leaf=4, min_samples_split=2, n_estimators=150;, score=0.503 total time=  14.1s\n",
      "[CV 3/5] END max_depth=7, min_samples_leaf=4, min_samples_split=2, n_estimators=150;, score=0.503 total time=  14.0s\n",
      "[CV 4/5] END max_depth=7, min_samples_leaf=4, min_samples_split=2, n_estimators=150;, score=0.500 total time=  13.9s\n",
      "[CV 5/5] END max_depth=7, min_samples_leaf=4, min_samples_split=2, n_estimators=150;, score=0.505 total time=  13.7s\n",
      "[CV 1/5] END max_depth=7, min_samples_leaf=4, min_samples_split=2, n_estimators=200;, score=0.507 total time=  18.8s\n",
      "[CV 2/5] END max_depth=7, min_samples_leaf=4, min_samples_split=2, n_estimators=200;, score=0.503 total time=  18.5s\n",
      "[CV 3/5] END max_depth=7, min_samples_leaf=4, min_samples_split=2, n_estimators=200;, score=0.504 total time=  18.5s\n",
      "[CV 4/5] END max_depth=7, min_samples_leaf=4, min_samples_split=2, n_estimators=200;, score=0.500 total time=  18.4s\n",
      "[CV 5/5] END max_depth=7, min_samples_leaf=4, min_samples_split=2, n_estimators=200;, score=0.505 total time=  18.4s\n",
      "[CV 1/5] END max_depth=7, min_samples_leaf=4, min_samples_split=3, n_estimators=75;, score=0.507 total time=   6.8s\n",
      "[CV 2/5] END max_depth=7, min_samples_leaf=4, min_samples_split=3, n_estimators=75;, score=0.506 total time=   6.9s\n",
      "[CV 3/5] END max_depth=7, min_samples_leaf=4, min_samples_split=3, n_estimators=75;, score=0.502 total time=   6.9s\n",
      "[CV 4/5] END max_depth=7, min_samples_leaf=4, min_samples_split=3, n_estimators=75;, score=0.498 total time=   7.1s\n",
      "[CV 5/5] END max_depth=7, min_samples_leaf=4, min_samples_split=3, n_estimators=75;, score=0.503 total time=   6.8s\n",
      "[CV 1/5] END max_depth=7, min_samples_leaf=4, min_samples_split=3, n_estimators=100;, score=0.507 total time=   9.3s\n",
      "[CV 2/5] END max_depth=7, min_samples_leaf=4, min_samples_split=3, n_estimators=100;, score=0.505 total time=   9.3s\n",
      "[CV 3/5] END max_depth=7, min_samples_leaf=4, min_samples_split=3, n_estimators=100;, score=0.503 total time=   9.3s\n",
      "[CV 4/5] END max_depth=7, min_samples_leaf=4, min_samples_split=3, n_estimators=100;, score=0.497 total time=   9.2s\n",
      "[CV 5/5] END max_depth=7, min_samples_leaf=4, min_samples_split=3, n_estimators=100;, score=0.504 total time=   9.1s\n",
      "[CV 1/5] END max_depth=7, min_samples_leaf=4, min_samples_split=3, n_estimators=150;, score=0.506 total time=  14.0s\n",
      "[CV 2/5] END max_depth=7, min_samples_leaf=4, min_samples_split=3, n_estimators=150;, score=0.503 total time=  14.1s\n",
      "[CV 3/5] END max_depth=7, min_samples_leaf=4, min_samples_split=3, n_estimators=150;, score=0.503 total time=  14.1s\n",
      "[CV 4/5] END max_depth=7, min_samples_leaf=4, min_samples_split=3, n_estimators=150;, score=0.500 total time=  14.0s\n",
      "[CV 5/5] END max_depth=7, min_samples_leaf=4, min_samples_split=3, n_estimators=150;, score=0.505 total time=  13.8s\n",
      "[CV 1/5] END max_depth=7, min_samples_leaf=4, min_samples_split=3, n_estimators=200;, score=0.507 total time=  18.8s\n",
      "[CV 2/5] END max_depth=7, min_samples_leaf=4, min_samples_split=3, n_estimators=200;, score=0.503 total time=  18.7s\n",
      "[CV 3/5] END max_depth=7, min_samples_leaf=4, min_samples_split=3, n_estimators=200;, score=0.504 total time=  18.7s\n",
      "[CV 4/5] END max_depth=7, min_samples_leaf=4, min_samples_split=3, n_estimators=200;, score=0.500 total time=  18.3s\n",
      "[CV 5/5] END max_depth=7, min_samples_leaf=4, min_samples_split=3, n_estimators=200;, score=0.505 total time=  18.3s\n",
      "[CV 1/5] END max_depth=7, min_samples_leaf=4, min_samples_split=4, n_estimators=75;, score=0.507 total time=   6.8s\n",
      "[CV 2/5] END max_depth=7, min_samples_leaf=4, min_samples_split=4, n_estimators=75;, score=0.506 total time=   7.0s\n",
      "[CV 3/5] END max_depth=7, min_samples_leaf=4, min_samples_split=4, n_estimators=75;, score=0.502 total time=   7.0s\n",
      "[CV 4/5] END max_depth=7, min_samples_leaf=4, min_samples_split=4, n_estimators=75;, score=0.498 total time=   6.9s\n",
      "[CV 5/5] END max_depth=7, min_samples_leaf=4, min_samples_split=4, n_estimators=75;, score=0.503 total time=   6.9s\n",
      "[CV 1/5] END max_depth=7, min_samples_leaf=4, min_samples_split=4, n_estimators=100;, score=0.507 total time=   9.4s\n",
      "[CV 2/5] END max_depth=7, min_samples_leaf=4, min_samples_split=4, n_estimators=100;, score=0.505 total time=   9.3s\n",
      "[CV 3/5] END max_depth=7, min_samples_leaf=4, min_samples_split=4, n_estimators=100;, score=0.503 total time=   9.3s\n",
      "[CV 4/5] END max_depth=7, min_samples_leaf=4, min_samples_split=4, n_estimators=100;, score=0.497 total time=   9.3s\n",
      "[CV 5/5] END max_depth=7, min_samples_leaf=4, min_samples_split=4, n_estimators=100;, score=0.504 total time=   9.2s\n",
      "[CV 1/5] END max_depth=7, min_samples_leaf=4, min_samples_split=4, n_estimators=150;, score=0.506 total time=  14.0s\n",
      "[CV 2/5] END max_depth=7, min_samples_leaf=4, min_samples_split=4, n_estimators=150;, score=0.503 total time=  14.0s\n",
      "[CV 3/5] END max_depth=7, min_samples_leaf=4, min_samples_split=4, n_estimators=150;, score=0.503 total time=  14.2s\n",
      "[CV 4/5] END max_depth=7, min_samples_leaf=4, min_samples_split=4, n_estimators=150;, score=0.500 total time=  13.9s\n",
      "[CV 5/5] END max_depth=7, min_samples_leaf=4, min_samples_split=4, n_estimators=150;, score=0.505 total time=  13.9s\n",
      "[CV 1/5] END max_depth=7, min_samples_leaf=4, min_samples_split=4, n_estimators=200;, score=0.507 total time=  18.8s\n",
      "[CV 2/5] END max_depth=7, min_samples_leaf=4, min_samples_split=4, n_estimators=200;, score=0.503 total time=  18.4s\n",
      "[CV 3/5] END max_depth=7, min_samples_leaf=4, min_samples_split=4, n_estimators=200;, score=0.504 total time=  18.6s\n",
      "[CV 4/5] END max_depth=7, min_samples_leaf=4, min_samples_split=4, n_estimators=200;, score=0.500 total time=  18.6s\n",
      "[CV 5/5] END max_depth=7, min_samples_leaf=4, min_samples_split=4, n_estimators=200;, score=0.505 total time=  18.4s\n",
      "[CV 1/5] END max_depth=8, min_samples_leaf=2, min_samples_split=2, n_estimators=75;, score=0.508 total time=   7.6s\n",
      "[CV 2/5] END max_depth=8, min_samples_leaf=2, min_samples_split=2, n_estimators=75;, score=0.502 total time=   7.5s\n",
      "[CV 3/5] END max_depth=8, min_samples_leaf=2, min_samples_split=2, n_estimators=75;, score=0.503 total time=   7.6s\n",
      "[CV 4/5] END max_depth=8, min_samples_leaf=2, min_samples_split=2, n_estimators=75;, score=0.504 total time=   7.7s\n",
      "[CV 5/5] END max_depth=8, min_samples_leaf=2, min_samples_split=2, n_estimators=75;, score=0.504 total time=   7.7s\n",
      "[CV 1/5] END max_depth=8, min_samples_leaf=2, min_samples_split=2, n_estimators=100;, score=0.507 total time=  10.5s\n",
      "[CV 2/5] END max_depth=8, min_samples_leaf=2, min_samples_split=2, n_estimators=100;, score=0.505 total time=  10.4s\n",
      "[CV 3/5] END max_depth=8, min_samples_leaf=2, min_samples_split=2, n_estimators=100;, score=0.503 total time=  10.2s\n",
      "[CV 4/5] END max_depth=8, min_samples_leaf=2, min_samples_split=2, n_estimators=100;, score=0.503 total time=  10.3s\n",
      "[CV 5/5] END max_depth=8, min_samples_leaf=2, min_samples_split=2, n_estimators=100;, score=0.506 total time=  10.3s\n",
      "[CV 1/5] END max_depth=8, min_samples_leaf=2, min_samples_split=2, n_estimators=150;, score=0.506 total time=  15.4s\n",
      "[CV 2/5] END max_depth=8, min_samples_leaf=2, min_samples_split=2, n_estimators=150;, score=0.505 total time=  15.8s\n",
      "[CV 3/5] END max_depth=8, min_samples_leaf=2, min_samples_split=2, n_estimators=150;, score=0.505 total time=  15.4s\n",
      "[CV 4/5] END max_depth=8, min_samples_leaf=2, min_samples_split=2, n_estimators=150;, score=0.502 total time=  15.5s\n",
      "[CV 5/5] END max_depth=8, min_samples_leaf=2, min_samples_split=2, n_estimators=150;, score=0.506 total time=  15.6s\n",
      "[CV 1/5] END max_depth=8, min_samples_leaf=2, min_samples_split=2, n_estimators=200;, score=0.504 total time=  20.7s\n",
      "[CV 2/5] END max_depth=8, min_samples_leaf=2, min_samples_split=2, n_estimators=200;, score=0.505 total time=  20.4s\n",
      "[CV 3/5] END max_depth=8, min_samples_leaf=2, min_samples_split=2, n_estimators=200;, score=0.505 total time=  20.5s\n",
      "[CV 4/5] END max_depth=8, min_samples_leaf=2, min_samples_split=2, n_estimators=200;, score=0.499 total time=  20.7s\n",
      "[CV 5/5] END max_depth=8, min_samples_leaf=2, min_samples_split=2, n_estimators=200;, score=0.505 total time=  20.4s\n",
      "[CV 1/5] END max_depth=8, min_samples_leaf=2, min_samples_split=3, n_estimators=75;, score=0.508 total time=   7.7s\n",
      "[CV 2/5] END max_depth=8, min_samples_leaf=2, min_samples_split=3, n_estimators=75;, score=0.502 total time=   7.6s\n",
      "[CV 3/5] END max_depth=8, min_samples_leaf=2, min_samples_split=3, n_estimators=75;, score=0.503 total time=   7.6s\n",
      "[CV 4/5] END max_depth=8, min_samples_leaf=2, min_samples_split=3, n_estimators=75;, score=0.504 total time=   7.9s\n",
      "[CV 5/5] END max_depth=8, min_samples_leaf=2, min_samples_split=3, n_estimators=75;, score=0.504 total time=   7.7s\n",
      "[CV 1/5] END max_depth=8, min_samples_leaf=2, min_samples_split=3, n_estimators=100;, score=0.507 total time=  10.4s\n",
      "[CV 2/5] END max_depth=8, min_samples_leaf=2, min_samples_split=3, n_estimators=100;, score=0.505 total time=  10.2s\n",
      "[CV 3/5] END max_depth=8, min_samples_leaf=2, min_samples_split=3, n_estimators=100;, score=0.503 total time=  10.3s\n",
      "[CV 4/5] END max_depth=8, min_samples_leaf=2, min_samples_split=3, n_estimators=100;, score=0.503 total time=  10.4s\n",
      "[CV 5/5] END max_depth=8, min_samples_leaf=2, min_samples_split=3, n_estimators=100;, score=0.506 total time=  10.3s\n",
      "[CV 1/5] END max_depth=8, min_samples_leaf=2, min_samples_split=3, n_estimators=150;, score=0.506 total time=  15.5s\n",
      "[CV 2/5] END max_depth=8, min_samples_leaf=2, min_samples_split=3, n_estimators=150;, score=0.505 total time=  15.4s\n",
      "[CV 3/5] END max_depth=8, min_samples_leaf=2, min_samples_split=3, n_estimators=150;, score=0.505 total time=  15.2s\n",
      "[CV 4/5] END max_depth=8, min_samples_leaf=2, min_samples_split=3, n_estimators=150;, score=0.502 total time=  15.6s\n",
      "[CV 5/5] END max_depth=8, min_samples_leaf=2, min_samples_split=3, n_estimators=150;, score=0.506 total time=  15.7s\n",
      "[CV 1/5] END max_depth=8, min_samples_leaf=2, min_samples_split=3, n_estimators=200;, score=0.504 total time=  20.7s\n",
      "[CV 2/5] END max_depth=8, min_samples_leaf=2, min_samples_split=3, n_estimators=200;, score=0.505 total time=  20.7s\n",
      "[CV 3/5] END max_depth=8, min_samples_leaf=2, min_samples_split=3, n_estimators=200;, score=0.505 total time=  20.6s\n",
      "[CV 4/5] END max_depth=8, min_samples_leaf=2, min_samples_split=3, n_estimators=200;, score=0.499 total time=  20.6s\n",
      "[CV 5/5] END max_depth=8, min_samples_leaf=2, min_samples_split=3, n_estimators=200;, score=0.505 total time=  20.6s\n",
      "[CV 1/5] END max_depth=8, min_samples_leaf=2, min_samples_split=4, n_estimators=75;, score=0.508 total time=   7.7s\n",
      "[CV 2/5] END max_depth=8, min_samples_leaf=2, min_samples_split=4, n_estimators=75;, score=0.502 total time=   7.6s\n",
      "[CV 3/5] END max_depth=8, min_samples_leaf=2, min_samples_split=4, n_estimators=75;, score=0.503 total time=   7.7s\n",
      "[CV 4/5] END max_depth=8, min_samples_leaf=2, min_samples_split=4, n_estimators=75;, score=0.504 total time=   7.9s\n",
      "[CV 5/5] END max_depth=8, min_samples_leaf=2, min_samples_split=4, n_estimators=75;, score=0.504 total time=   7.7s\n",
      "[CV 1/5] END max_depth=8, min_samples_leaf=2, min_samples_split=4, n_estimators=100;, score=0.507 total time=  10.3s\n",
      "[CV 2/5] END max_depth=8, min_samples_leaf=2, min_samples_split=4, n_estimators=100;, score=0.505 total time=  10.2s\n",
      "[CV 3/5] END max_depth=8, min_samples_leaf=2, min_samples_split=4, n_estimators=100;, score=0.503 total time=  10.3s\n",
      "[CV 4/5] END max_depth=8, min_samples_leaf=2, min_samples_split=4, n_estimators=100;, score=0.503 total time=  10.3s\n",
      "[CV 5/5] END max_depth=8, min_samples_leaf=2, min_samples_split=4, n_estimators=100;, score=0.506 total time=  10.3s\n",
      "[CV 1/5] END max_depth=8, min_samples_leaf=2, min_samples_split=4, n_estimators=150;, score=0.506 total time=  15.5s\n",
      "[CV 2/5] END max_depth=8, min_samples_leaf=2, min_samples_split=4, n_estimators=150;, score=0.505 total time=  15.5s\n",
      "[CV 3/5] END max_depth=8, min_samples_leaf=2, min_samples_split=4, n_estimators=150;, score=0.505 total time=  15.2s\n",
      "[CV 4/5] END max_depth=8, min_samples_leaf=2, min_samples_split=4, n_estimators=150;, score=0.502 total time=  15.4s\n",
      "[CV 5/5] END max_depth=8, min_samples_leaf=2, min_samples_split=4, n_estimators=150;, score=0.506 total time=  15.5s\n",
      "[CV 1/5] END max_depth=8, min_samples_leaf=2, min_samples_split=4, n_estimators=200;, score=0.504 total time=  20.8s\n",
      "[CV 2/5] END max_depth=8, min_samples_leaf=2, min_samples_split=4, n_estimators=200;, score=0.505 total time=  20.8s\n",
      "[CV 3/5] END max_depth=8, min_samples_leaf=2, min_samples_split=4, n_estimators=200;, score=0.505 total time=  20.5s\n",
      "[CV 4/5] END max_depth=8, min_samples_leaf=2, min_samples_split=4, n_estimators=200;, score=0.499 total time=  20.8s\n",
      "[CV 5/5] END max_depth=8, min_samples_leaf=2, min_samples_split=4, n_estimators=200;, score=0.505 total time=  20.7s\n",
      "[CV 1/5] END max_depth=8, min_samples_leaf=3, min_samples_split=2, n_estimators=75;, score=0.507 total time=   7.7s\n",
      "[CV 2/5] END max_depth=8, min_samples_leaf=3, min_samples_split=2, n_estimators=75;, score=0.504 total time=   7.5s\n",
      "[CV 3/5] END max_depth=8, min_samples_leaf=3, min_samples_split=2, n_estimators=75;, score=0.503 total time=   7.6s\n",
      "[CV 4/5] END max_depth=8, min_samples_leaf=3, min_samples_split=2, n_estimators=75;, score=0.498 total time=   7.8s\n",
      "[CV 5/5] END max_depth=8, min_samples_leaf=3, min_samples_split=2, n_estimators=75;, score=0.501 total time=   7.7s\n",
      "[CV 1/5] END max_depth=8, min_samples_leaf=3, min_samples_split=2, n_estimators=100;, score=0.506 total time=  10.4s\n",
      "[CV 2/5] END max_depth=8, min_samples_leaf=3, min_samples_split=2, n_estimators=100;, score=0.503 total time=  10.2s\n",
      "[CV 3/5] END max_depth=8, min_samples_leaf=3, min_samples_split=2, n_estimators=100;, score=0.503 total time=  10.2s\n",
      "[CV 4/5] END max_depth=8, min_samples_leaf=3, min_samples_split=2, n_estimators=100;, score=0.500 total time=  10.3s\n",
      "[CV 5/5] END max_depth=8, min_samples_leaf=3, min_samples_split=2, n_estimators=100;, score=0.499 total time=  10.3s\n",
      "[CV 1/5] END max_depth=8, min_samples_leaf=3, min_samples_split=2, n_estimators=150;, score=0.507 total time=  15.4s\n",
      "[CV 2/5] END max_depth=8, min_samples_leaf=3, min_samples_split=2, n_estimators=150;, score=0.507 total time=  15.4s\n",
      "[CV 3/5] END max_depth=8, min_samples_leaf=3, min_samples_split=2, n_estimators=150;, score=0.505 total time=  15.4s\n",
      "[CV 4/5] END max_depth=8, min_samples_leaf=3, min_samples_split=2, n_estimators=150;, score=0.500 total time=  15.5s\n",
      "[CV 5/5] END max_depth=8, min_samples_leaf=3, min_samples_split=2, n_estimators=150;, score=0.500 total time=  15.4s\n",
      "[CV 1/5] END max_depth=8, min_samples_leaf=3, min_samples_split=2, n_estimators=200;, score=0.506 total time=  20.8s\n",
      "[CV 2/5] END max_depth=8, min_samples_leaf=3, min_samples_split=2, n_estimators=200;, score=0.505 total time=  20.6s\n",
      "[CV 3/5] END max_depth=8, min_samples_leaf=3, min_samples_split=2, n_estimators=200;, score=0.502 total time=  20.5s\n",
      "[CV 4/5] END max_depth=8, min_samples_leaf=3, min_samples_split=2, n_estimators=200;, score=0.500 total time=  20.8s\n",
      "[CV 5/5] END max_depth=8, min_samples_leaf=3, min_samples_split=2, n_estimators=200;, score=0.501 total time=  20.6s\n",
      "[CV 1/5] END max_depth=8, min_samples_leaf=3, min_samples_split=3, n_estimators=75;, score=0.507 total time=   8.2s\n",
      "[CV 2/5] END max_depth=8, min_samples_leaf=3, min_samples_split=3, n_estimators=75;, score=0.504 total time=   7.7s\n",
      "[CV 3/5] END max_depth=8, min_samples_leaf=3, min_samples_split=3, n_estimators=75;, score=0.503 total time=   7.8s\n",
      "[CV 4/5] END max_depth=8, min_samples_leaf=3, min_samples_split=3, n_estimators=75;, score=0.498 total time=   7.8s\n",
      "[CV 5/5] END max_depth=8, min_samples_leaf=3, min_samples_split=3, n_estimators=75;, score=0.501 total time=   7.8s\n",
      "[CV 1/5] END max_depth=8, min_samples_leaf=3, min_samples_split=3, n_estimators=100;, score=0.506 total time=  10.5s\n",
      "[CV 2/5] END max_depth=8, min_samples_leaf=3, min_samples_split=3, n_estimators=100;, score=0.503 total time=  10.4s\n",
      "[CV 3/5] END max_depth=8, min_samples_leaf=3, min_samples_split=3, n_estimators=100;, score=0.503 total time=  10.3s\n",
      "[CV 4/5] END max_depth=8, min_samples_leaf=3, min_samples_split=3, n_estimators=100;, score=0.500 total time=  10.5s\n",
      "[CV 5/5] END max_depth=8, min_samples_leaf=3, min_samples_split=3, n_estimators=100;, score=0.499 total time=  10.3s\n",
      "[CV 1/5] END max_depth=8, min_samples_leaf=3, min_samples_split=3, n_estimators=150;, score=0.507 total time=  15.4s\n",
      "[CV 2/5] END max_depth=8, min_samples_leaf=3, min_samples_split=3, n_estimators=150;, score=0.507 total time=  15.4s\n",
      "[CV 3/5] END max_depth=8, min_samples_leaf=3, min_samples_split=3, n_estimators=150;, score=0.505 total time=  15.3s\n",
      "[CV 4/5] END max_depth=8, min_samples_leaf=3, min_samples_split=3, n_estimators=150;, score=0.500 total time=  15.8s\n",
      "[CV 5/5] END max_depth=8, min_samples_leaf=3, min_samples_split=3, n_estimators=150;, score=0.500 total time=  15.3s\n",
      "[CV 1/5] END max_depth=8, min_samples_leaf=3, min_samples_split=3, n_estimators=200;, score=0.506 total time=  20.6s\n",
      "[CV 2/5] END max_depth=8, min_samples_leaf=3, min_samples_split=3, n_estimators=200;, score=0.505 total time=  21.1s\n",
      "[CV 3/5] END max_depth=8, min_samples_leaf=3, min_samples_split=3, n_estimators=200;, score=0.502 total time=  20.6s\n",
      "[CV 4/5] END max_depth=8, min_samples_leaf=3, min_samples_split=3, n_estimators=200;, score=0.500 total time=  21.0s\n",
      "[CV 5/5] END max_depth=8, min_samples_leaf=3, min_samples_split=3, n_estimators=200;, score=0.501 total time=  20.9s\n",
      "[CV 1/5] END max_depth=8, min_samples_leaf=3, min_samples_split=4, n_estimators=75;, score=0.507 total time=   7.6s\n",
      "[CV 2/5] END max_depth=8, min_samples_leaf=3, min_samples_split=4, n_estimators=75;, score=0.504 total time=   7.6s\n",
      "[CV 3/5] END max_depth=8, min_samples_leaf=3, min_samples_split=4, n_estimators=75;, score=0.503 total time=   7.7s\n",
      "[CV 4/5] END max_depth=8, min_samples_leaf=3, min_samples_split=4, n_estimators=75;, score=0.498 total time=   7.8s\n",
      "[CV 5/5] END max_depth=8, min_samples_leaf=3, min_samples_split=4, n_estimators=75;, score=0.501 total time=   7.7s\n",
      "[CV 1/5] END max_depth=8, min_samples_leaf=3, min_samples_split=4, n_estimators=100;, score=0.506 total time=  10.3s\n",
      "[CV 2/5] END max_depth=8, min_samples_leaf=3, min_samples_split=4, n_estimators=100;, score=0.503 total time=  10.2s\n",
      "[CV 3/5] END max_depth=8, min_samples_leaf=3, min_samples_split=4, n_estimators=100;, score=0.503 total time=  10.3s\n",
      "[CV 4/5] END max_depth=8, min_samples_leaf=3, min_samples_split=4, n_estimators=100;, score=0.500 total time=  10.4s\n",
      "[CV 5/5] END max_depth=8, min_samples_leaf=3, min_samples_split=4, n_estimators=100;, score=0.499 total time=  10.4s\n",
      "[CV 1/5] END max_depth=8, min_samples_leaf=3, min_samples_split=4, n_estimators=150;, score=0.507 total time=  15.4s\n",
      "[CV 2/5] END max_depth=8, min_samples_leaf=3, min_samples_split=4, n_estimators=150;, score=0.507 total time=  15.3s\n",
      "[CV 3/5] END max_depth=8, min_samples_leaf=3, min_samples_split=4, n_estimators=150;, score=0.505 total time=  15.3s\n",
      "[CV 4/5] END max_depth=8, min_samples_leaf=3, min_samples_split=4, n_estimators=150;, score=0.500 total time=  15.8s\n",
      "[CV 5/5] END max_depth=8, min_samples_leaf=3, min_samples_split=4, n_estimators=150;, score=0.500 total time=  15.4s\n",
      "[CV 1/5] END max_depth=8, min_samples_leaf=3, min_samples_split=4, n_estimators=200;, score=0.506 total time=  20.6s\n",
      "[CV 2/5] END max_depth=8, min_samples_leaf=3, min_samples_split=4, n_estimators=200;, score=0.505 total time=  20.6s\n",
      "[CV 3/5] END max_depth=8, min_samples_leaf=3, min_samples_split=4, n_estimators=200;, score=0.502 total time=  20.6s\n",
      "[CV 4/5] END max_depth=8, min_samples_leaf=3, min_samples_split=4, n_estimators=200;, score=0.500 total time=  20.8s\n",
      "[CV 5/5] END max_depth=8, min_samples_leaf=3, min_samples_split=4, n_estimators=200;, score=0.501 total time=  20.6s\n",
      "[CV 1/5] END max_depth=8, min_samples_leaf=4, min_samples_split=2, n_estimators=75;, score=0.504 total time=   7.7s\n",
      "[CV 2/5] END max_depth=8, min_samples_leaf=4, min_samples_split=2, n_estimators=75;, score=0.509 total time=   7.7s\n",
      "[CV 3/5] END max_depth=8, min_samples_leaf=4, min_samples_split=2, n_estimators=75;, score=0.503 total time=   7.7s\n",
      "[CV 4/5] END max_depth=8, min_samples_leaf=4, min_samples_split=2, n_estimators=75;, score=0.503 total time=   7.9s\n",
      "[CV 5/5] END max_depth=8, min_samples_leaf=4, min_samples_split=2, n_estimators=75;, score=0.504 total time=   7.6s\n",
      "[CV 1/5] END max_depth=8, min_samples_leaf=4, min_samples_split=2, n_estimators=100;, score=0.502 total time=  10.2s\n",
      "[CV 2/5] END max_depth=8, min_samples_leaf=4, min_samples_split=2, n_estimators=100;, score=0.508 total time=  10.3s\n",
      "[CV 3/5] END max_depth=8, min_samples_leaf=4, min_samples_split=2, n_estimators=100;, score=0.503 total time=  10.5s\n",
      "[CV 4/5] END max_depth=8, min_samples_leaf=4, min_samples_split=2, n_estimators=100;, score=0.504 total time=  10.5s\n",
      "[CV 5/5] END max_depth=8, min_samples_leaf=4, min_samples_split=2, n_estimators=100;, score=0.506 total time=  10.6s\n",
      "[CV 1/5] END max_depth=8, min_samples_leaf=4, min_samples_split=2, n_estimators=150;, score=0.503 total time=  15.5s\n",
      "[CV 2/5] END max_depth=8, min_samples_leaf=4, min_samples_split=2, n_estimators=150;, score=0.507 total time=  15.5s\n",
      "[CV 3/5] END max_depth=8, min_samples_leaf=4, min_samples_split=2, n_estimators=150;, score=0.501 total time=  15.3s\n",
      "[CV 4/5] END max_depth=8, min_samples_leaf=4, min_samples_split=2, n_estimators=150;, score=0.500 total time=  15.6s\n",
      "[CV 5/5] END max_depth=8, min_samples_leaf=4, min_samples_split=2, n_estimators=150;, score=0.505 total time=  15.4s\n",
      "[CV 1/5] END max_depth=8, min_samples_leaf=4, min_samples_split=2, n_estimators=200;, score=0.503 total time=  20.6s\n",
      "[CV 2/5] END max_depth=8, min_samples_leaf=4, min_samples_split=2, n_estimators=200;, score=0.503 total time=  20.5s\n",
      "[CV 3/5] END max_depth=8, min_samples_leaf=4, min_samples_split=2, n_estimators=200;, score=0.504 total time=  20.6s\n",
      "[CV 4/5] END max_depth=8, min_samples_leaf=4, min_samples_split=2, n_estimators=200;, score=0.497 total time=  20.5s\n",
      "[CV 5/5] END max_depth=8, min_samples_leaf=4, min_samples_split=2, n_estimators=200;, score=0.507 total time=  20.7s\n",
      "[CV 1/5] END max_depth=8, min_samples_leaf=4, min_samples_split=3, n_estimators=75;, score=0.504 total time=   7.6s\n",
      "[CV 2/5] END max_depth=8, min_samples_leaf=4, min_samples_split=3, n_estimators=75;, score=0.509 total time=   7.7s\n",
      "[CV 3/5] END max_depth=8, min_samples_leaf=4, min_samples_split=3, n_estimators=75;, score=0.503 total time=   7.8s\n",
      "[CV 4/5] END max_depth=8, min_samples_leaf=4, min_samples_split=3, n_estimators=75;, score=0.503 total time=   8.2s\n",
      "[CV 5/5] END max_depth=8, min_samples_leaf=4, min_samples_split=3, n_estimators=75;, score=0.504 total time=   7.7s\n",
      "[CV 1/5] END max_depth=8, min_samples_leaf=4, min_samples_split=3, n_estimators=100;, score=0.502 total time=  10.3s\n",
      "[CV 2/5] END max_depth=8, min_samples_leaf=4, min_samples_split=3, n_estimators=100;, score=0.508 total time=  10.3s\n",
      "[CV 3/5] END max_depth=8, min_samples_leaf=4, min_samples_split=3, n_estimators=100;, score=0.503 total time=  10.3s\n",
      "[CV 4/5] END max_depth=8, min_samples_leaf=4, min_samples_split=3, n_estimators=100;, score=0.504 total time=  10.4s\n",
      "[CV 5/5] END max_depth=8, min_samples_leaf=4, min_samples_split=3, n_estimators=100;, score=0.506 total time=  10.3s\n",
      "[CV 1/5] END max_depth=8, min_samples_leaf=4, min_samples_split=3, n_estimators=150;, score=0.503 total time=  15.3s\n",
      "[CV 2/5] END max_depth=8, min_samples_leaf=4, min_samples_split=3, n_estimators=150;, score=0.507 total time=  15.6s\n",
      "[CV 3/5] END max_depth=8, min_samples_leaf=4, min_samples_split=3, n_estimators=150;, score=0.501 total time=  15.5s\n",
      "[CV 4/5] END max_depth=8, min_samples_leaf=4, min_samples_split=3, n_estimators=150;, score=0.500 total time=  15.6s\n",
      "[CV 5/5] END max_depth=8, min_samples_leaf=4, min_samples_split=3, n_estimators=150;, score=0.505 total time=  15.6s\n",
      "[CV 1/5] END max_depth=8, min_samples_leaf=4, min_samples_split=3, n_estimators=200;, score=0.503 total time=  20.7s\n",
      "[CV 2/5] END max_depth=8, min_samples_leaf=4, min_samples_split=3, n_estimators=200;, score=0.503 total time=  20.6s\n",
      "[CV 3/5] END max_depth=8, min_samples_leaf=4, min_samples_split=3, n_estimators=200;, score=0.504 total time=  20.5s\n",
      "[CV 4/5] END max_depth=8, min_samples_leaf=4, min_samples_split=3, n_estimators=200;, score=0.497 total time=  20.7s\n",
      "[CV 5/5] END max_depth=8, min_samples_leaf=4, min_samples_split=3, n_estimators=200;, score=0.507 total time=  20.8s\n",
      "[CV 1/5] END max_depth=8, min_samples_leaf=4, min_samples_split=4, n_estimators=75;, score=0.504 total time=   7.6s\n",
      "[CV 2/5] END max_depth=8, min_samples_leaf=4, min_samples_split=4, n_estimators=75;, score=0.509 total time=   7.5s\n",
      "[CV 3/5] END max_depth=8, min_samples_leaf=4, min_samples_split=4, n_estimators=75;, score=0.503 total time=   7.7s\n",
      "[CV 4/5] END max_depth=8, min_samples_leaf=4, min_samples_split=4, n_estimators=75;, score=0.503 total time=   7.8s\n",
      "[CV 5/5] END max_depth=8, min_samples_leaf=4, min_samples_split=4, n_estimators=75;, score=0.504 total time=   7.7s\n",
      "[CV 1/5] END max_depth=8, min_samples_leaf=4, min_samples_split=4, n_estimators=100;, score=0.502 total time=  10.3s\n",
      "[CV 2/5] END max_depth=8, min_samples_leaf=4, min_samples_split=4, n_estimators=100;, score=0.508 total time=  10.4s\n",
      "[CV 3/5] END max_depth=8, min_samples_leaf=4, min_samples_split=4, n_estimators=100;, score=0.503 total time=  10.3s\n",
      "[CV 4/5] END max_depth=8, min_samples_leaf=4, min_samples_split=4, n_estimators=100;, score=0.504 total time=  10.3s\n",
      "[CV 5/5] END max_depth=8, min_samples_leaf=4, min_samples_split=4, n_estimators=100;, score=0.506 total time=  10.3s\n",
      "[CV 1/5] END max_depth=8, min_samples_leaf=4, min_samples_split=4, n_estimators=150;, score=0.503 total time=  15.2s\n",
      "[CV 2/5] END max_depth=8, min_samples_leaf=4, min_samples_split=4, n_estimators=150;, score=0.507 total time=  15.5s\n",
      "[CV 3/5] END max_depth=8, min_samples_leaf=4, min_samples_split=4, n_estimators=150;, score=0.501 total time=  15.8s\n",
      "[CV 4/5] END max_depth=8, min_samples_leaf=4, min_samples_split=4, n_estimators=150;, score=0.500 total time=  15.3s\n",
      "[CV 5/5] END max_depth=8, min_samples_leaf=4, min_samples_split=4, n_estimators=150;, score=0.505 total time=  15.5s\n",
      "[CV 1/5] END max_depth=8, min_samples_leaf=4, min_samples_split=4, n_estimators=200;, score=0.503 total time=  21.3s\n",
      "[CV 2/5] END max_depth=8, min_samples_leaf=4, min_samples_split=4, n_estimators=200;, score=0.503 total time=  20.2s\n",
      "[CV 3/5] END max_depth=8, min_samples_leaf=4, min_samples_split=4, n_estimators=200;, score=0.504 total time=  19.7s\n",
      "[CV 4/5] END max_depth=8, min_samples_leaf=4, min_samples_split=4, n_estimators=200;, score=0.497 total time=  19.4s\n",
      "[CV 5/5] END max_depth=8, min_samples_leaf=4, min_samples_split=4, n_estimators=200;, score=0.507 total time=  19.3s\n"
     ]
    },
    {
     "data": {
      "text/html": [
       "<style>#sk-container-id-2 {color: black;background-color: white;}#sk-container-id-2 pre{padding: 0;}#sk-container-id-2 div.sk-toggleable {background-color: white;}#sk-container-id-2 label.sk-toggleable__label {cursor: pointer;display: block;width: 100%;margin-bottom: 0;padding: 0.3em;box-sizing: border-box;text-align: center;}#sk-container-id-2 label.sk-toggleable__label-arrow:before {content: \"▸\";float: left;margin-right: 0.25em;color: #696969;}#sk-container-id-2 label.sk-toggleable__label-arrow:hover:before {color: black;}#sk-container-id-2 div.sk-estimator:hover label.sk-toggleable__label-arrow:before {color: black;}#sk-container-id-2 div.sk-toggleable__content {max-height: 0;max-width: 0;overflow: hidden;text-align: left;background-color: #f0f8ff;}#sk-container-id-2 div.sk-toggleable__content pre {margin: 0.2em;color: black;border-radius: 0.25em;background-color: #f0f8ff;}#sk-container-id-2 input.sk-toggleable__control:checked~div.sk-toggleable__content {max-height: 200px;max-width: 100%;overflow: auto;}#sk-container-id-2 input.sk-toggleable__control:checked~label.sk-toggleable__label-arrow:before {content: \"▾\";}#sk-container-id-2 div.sk-estimator input.sk-toggleable__control:checked~label.sk-toggleable__label {background-color: #d4ebff;}#sk-container-id-2 div.sk-label input.sk-toggleable__control:checked~label.sk-toggleable__label {background-color: #d4ebff;}#sk-container-id-2 input.sk-hidden--visually {border: 0;clip: rect(1px 1px 1px 1px);clip: rect(1px, 1px, 1px, 1px);height: 1px;margin: -1px;overflow: hidden;padding: 0;position: absolute;width: 1px;}#sk-container-id-2 div.sk-estimator {font-family: monospace;background-color: #f0f8ff;border: 1px dotted black;border-radius: 0.25em;box-sizing: border-box;margin-bottom: 0.5em;}#sk-container-id-2 div.sk-estimator:hover {background-color: #d4ebff;}#sk-container-id-2 div.sk-parallel-item::after {content: \"\";width: 100%;border-bottom: 1px solid gray;flex-grow: 1;}#sk-container-id-2 div.sk-label:hover label.sk-toggleable__label {background-color: #d4ebff;}#sk-container-id-2 div.sk-serial::before {content: \"\";position: absolute;border-left: 1px solid gray;box-sizing: border-box;top: 0;bottom: 0;left: 50%;z-index: 0;}#sk-container-id-2 div.sk-serial {display: flex;flex-direction: column;align-items: center;background-color: white;padding-right: 0.2em;padding-left: 0.2em;position: relative;}#sk-container-id-2 div.sk-item {position: relative;z-index: 1;}#sk-container-id-2 div.sk-parallel {display: flex;align-items: stretch;justify-content: center;background-color: white;position: relative;}#sk-container-id-2 div.sk-item::before, #sk-container-id-2 div.sk-parallel-item::before {content: \"\";position: absolute;border-left: 1px solid gray;box-sizing: border-box;top: 0;bottom: 0;left: 50%;z-index: -1;}#sk-container-id-2 div.sk-parallel-item {display: flex;flex-direction: column;z-index: 1;position: relative;background-color: white;}#sk-container-id-2 div.sk-parallel-item:first-child::after {align-self: flex-end;width: 50%;}#sk-container-id-2 div.sk-parallel-item:last-child::after {align-self: flex-start;width: 50%;}#sk-container-id-2 div.sk-parallel-item:only-child::after {width: 0;}#sk-container-id-2 div.sk-dashed-wrapped {border: 1px dashed gray;margin: 0 0.4em 0.5em 0.4em;box-sizing: border-box;padding-bottom: 0.4em;background-color: white;}#sk-container-id-2 div.sk-label label {font-family: monospace;font-weight: bold;display: inline-block;line-height: 1.2em;}#sk-container-id-2 div.sk-label-container {text-align: center;}#sk-container-id-2 div.sk-container {/* jupyter's `normalize.less` sets `[hidden] { display: none; }` but bootstrap.min.css set `[hidden] { display: none !important; }` so we also need the `!important` here to be able to override the default hidden behavior on the sphinx rendered scikit-learn.org. See: https://github.com/scikit-learn/scikit-learn/issues/21755 */display: inline-block !important;position: relative;}#sk-container-id-2 div.sk-text-repr-fallback {display: none;}</style><div id=\"sk-container-id-2\" class=\"sk-top-container\"><div class=\"sk-text-repr-fallback\"><pre>GridSearchCV(cv=5, estimator=RandomForestClassifier(random_state=17),\n",
       "             param_grid={&#x27;max_depth&#x27;: [6, 7, 8], &#x27;min_samples_leaf&#x27;: [2, 3, 4],\n",
       "                         &#x27;min_samples_split&#x27;: [2, 3, 4],\n",
       "                         &#x27;n_estimators&#x27;: [75, 100, 150, 200]},\n",
       "             verbose=3)</pre><b>In a Jupyter environment, please rerun this cell to show the HTML representation or trust the notebook. <br />On GitHub, the HTML representation is unable to render, please try loading this page with nbviewer.org.</b></div><div class=\"sk-container\" hidden><div class=\"sk-item sk-dashed-wrapped\"><div class=\"sk-label-container\"><div class=\"sk-label sk-toggleable\"><input class=\"sk-toggleable__control sk-hidden--visually\" id=\"sk-estimator-id-4\" type=\"checkbox\" ><label for=\"sk-estimator-id-4\" class=\"sk-toggleable__label sk-toggleable__label-arrow\">GridSearchCV</label><div class=\"sk-toggleable__content\"><pre>GridSearchCV(cv=5, estimator=RandomForestClassifier(random_state=17),\n",
       "             param_grid={&#x27;max_depth&#x27;: [6, 7, 8], &#x27;min_samples_leaf&#x27;: [2, 3, 4],\n",
       "                         &#x27;min_samples_split&#x27;: [2, 3, 4],\n",
       "                         &#x27;n_estimators&#x27;: [75, 100, 150, 200]},\n",
       "             verbose=3)</pre></div></div></div><div class=\"sk-parallel\"><div class=\"sk-parallel-item\"><div class=\"sk-item\"><div class=\"sk-label-container\"><div class=\"sk-label sk-toggleable\"><input class=\"sk-toggleable__control sk-hidden--visually\" id=\"sk-estimator-id-5\" type=\"checkbox\" ><label for=\"sk-estimator-id-5\" class=\"sk-toggleable__label sk-toggleable__label-arrow\">estimator: RandomForestClassifier</label><div class=\"sk-toggleable__content\"><pre>RandomForestClassifier(random_state=17)</pre></div></div></div><div class=\"sk-serial\"><div class=\"sk-item\"><div class=\"sk-estimator sk-toggleable\"><input class=\"sk-toggleable__control sk-hidden--visually\" id=\"sk-estimator-id-6\" type=\"checkbox\" ><label for=\"sk-estimator-id-6\" class=\"sk-toggleable__label sk-toggleable__label-arrow\">RandomForestClassifier</label><div class=\"sk-toggleable__content\"><pre>RandomForestClassifier(random_state=17)</pre></div></div></div></div></div></div></div></div></div></div>"
      ],
      "text/plain": [
       "GridSearchCV(cv=5, estimator=RandomForestClassifier(random_state=17),\n",
       "             param_grid={'max_depth': [6, 7, 8], 'min_samples_leaf': [2, 3, 4],\n",
       "                         'min_samples_split': [2, 3, 4],\n",
       "                         'n_estimators': [75, 100, 150, 200]},\n",
       "             verbose=3)"
      ]
     },
     "execution_count": 52,
     "metadata": {},
     "output_type": "execute_result"
    }
   ],
   "source": [
    "grid_cv.fit(X,y)"
   ]
  },
  {
   "cell_type": "code",
   "execution_count": 53,
   "id": "0e54e4ab",
   "metadata": {},
   "outputs": [
    {
     "data": {
      "text/plain": [
       "0.50491"
      ]
     },
     "execution_count": 53,
     "metadata": {},
     "output_type": "execute_result"
    }
   ],
   "source": [
    "grid_cv.best_score_"
   ]
  },
  {
   "cell_type": "code",
   "execution_count": null,
   "id": "c72e0a17",
   "metadata": {},
   "outputs": [],
   "source": []
  }
 ],
 "metadata": {
  "kernelspec": {
   "display_name": "Python [conda env:DSML17_env]",
   "language": "python",
   "name": "conda-env-DSML17_env-py"
  },
  "language_info": {
   "codemirror_mode": {
    "name": "ipython",
    "version": 3
   },
   "file_extension": ".py",
   "mimetype": "text/x-python",
   "name": "python",
   "nbconvert_exporter": "python",
   "pygments_lexer": "ipython3",
   "version": "3.9.13"
  }
 },
 "nbformat": 4,
 "nbformat_minor": 5
}
